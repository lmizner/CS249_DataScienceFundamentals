{
  "nbformat": 4,
  "nbformat_minor": 0,
  "metadata": {
    "colab": {
      "provenance": []
    },
    "kernelspec": {
      "name": "python3",
      "display_name": "Python 3"
    }
  },
  "cells": [
    {
      "cell_type": "markdown",
      "metadata": {
        "id": "kWWGCaT-MEy3"
      },
      "source": [
        "**Due Date: Monday, February 5th, 11:59pm**\n",
        "\n",
        "- Save a copy of the notebook to your Google Drive. You can do that by going to the menu and clicking `File` > `Save` > `SAVE A COPY IN DRIVE`.\n",
        "- Fill out the missing parts and run the code modules.\n",
        "- Answer the questions (if any) in a separate document or by adding a new `Text` block inside the Colab.\n",
        "- Download the solved notebook by going to the menu and clicking `File` > `Download .ipynb`.\n",
        "- Make sure the downloaded version is showing your solutions.\n",
        "- Upload your solutions to BruinLearn (under \"Colab Assignment #3: Linear Regression\" in Assignments)."
      ]
    },
    {
      "cell_type": "code",
      "metadata": {
        "id": "GuWlwBaz_gV7"
      },
      "source": [
        "import numpy as np\n",
        "import pandas as pd\n",
        "import statsmodels.api as sm\n",
        "from sklearn.linear_model import LinearRegression\n",
        "\n",
        "np.random.seed(0)"
      ],
      "execution_count": 9,
      "outputs": []
    },
    {
      "cell_type": "markdown",
      "metadata": {
        "id": "nEPemaOtB2qe"
      },
      "source": [
        "Download the data for house prices."
      ]
    },
    {
      "cell_type": "code",
      "metadata": {
        "id": "zpO-CSVv_-yc",
        "colab": {
          "base_uri": "https://localhost:8080/"
        },
        "outputId": "4b571cf1-d9f7-4164-a158-e0887f8a2a19"
      },
      "source": [
        "!wget -O house_prices.csv https://www.dropbox.com/s/v14nl9kcgqoqn36/house_prices.csv?dl=0"
      ],
      "execution_count": 10,
      "outputs": [
        {
          "output_type": "stream",
          "name": "stdout",
          "text": [
            "--2024-02-05 23:16:42--  https://www.dropbox.com/s/v14nl9kcgqoqn36/house_prices.csv?dl=0\n",
            "Resolving www.dropbox.com (www.dropbox.com)... 162.125.80.18, 2620:100:6021:18::a27d:4112\n",
            "Connecting to www.dropbox.com (www.dropbox.com)|162.125.80.18|:443... connected.\n",
            "HTTP request sent, awaiting response... 302 Found\n",
            "Location: /s/raw/v14nl9kcgqoqn36/house_prices.csv [following]\n",
            "--2024-02-05 23:16:44--  https://www.dropbox.com/s/raw/v14nl9kcgqoqn36/house_prices.csv\n",
            "Reusing existing connection to www.dropbox.com:443.\n",
            "HTTP request sent, awaiting response... 302 Found\n",
            "Location: https://uce4478f5ae2d047f479cd36b60c.dl.dropboxusercontent.com/cd/0/inline/CMtwu0Cr3e5Du5prLoDFcSCy8rTXDlzVYcWTaDn4hRXelaYOg4qhmF7GS2WZmvXBng8ay69LTB6IVOoOnROhRVYPSokbaCcQv23J8QFRaSPSw-n1dmPQTdS53RNC3z-5jcc/file# [following]\n",
            "--2024-02-05 23:16:45--  https://uce4478f5ae2d047f479cd36b60c.dl.dropboxusercontent.com/cd/0/inline/CMtwu0Cr3e5Du5prLoDFcSCy8rTXDlzVYcWTaDn4hRXelaYOg4qhmF7GS2WZmvXBng8ay69LTB6IVOoOnROhRVYPSokbaCcQv23J8QFRaSPSw-n1dmPQTdS53RNC3z-5jcc/file\n",
            "Resolving uce4478f5ae2d047f479cd36b60c.dl.dropboxusercontent.com (uce4478f5ae2d047f479cd36b60c.dl.dropboxusercontent.com)... 162.125.71.15, 2620:100:6028:15::a27d:470f\n",
            "Connecting to uce4478f5ae2d047f479cd36b60c.dl.dropboxusercontent.com (uce4478f5ae2d047f479cd36b60c.dl.dropboxusercontent.com)|162.125.71.15|:443... connected.\n",
            "HTTP request sent, awaiting response... 200 OK\n",
            "Length: 8666 (8.5K) [text/plain]\n",
            "Saving to: ‘house_prices.csv’\n",
            "\n",
            "house_prices.csv    100%[===================>]   8.46K  --.-KB/s    in 0s      \n",
            "\n",
            "2024-02-05 23:16:47 (159 MB/s) - ‘house_prices.csv’ saved [8666/8666]\n",
            "\n"
          ]
        }
      ]
    },
    {
      "cell_type": "markdown",
      "metadata": {
        "id": "LNZFSWkmCCGy"
      },
      "source": [
        "Load house prices data into a Pandas data frame."
      ]
    },
    {
      "cell_type": "code",
      "metadata": {
        "id": "BfgmiA-iB0ni",
        "colab": {
          "base_uri": "https://localhost:8080/",
          "height": 159
        },
        "outputId": "c8946273-dff0-4c3b-e0c1-a4d5b5230b6d"
      },
      "source": [
        "prices_data = pd.read_csv(\"house_prices.csv\")\n",
        "\n",
        "print(\"The first three rows of the data are:\")\n",
        "prices_data.head(3)"
      ],
      "execution_count": 11,
      "outputs": [
        {
          "output_type": "stream",
          "name": "stdout",
          "text": [
            "The first three rows of the data are:\n"
          ]
        },
        {
          "output_type": "execute_result",
          "data": {
            "text/plain": [
              "    house_type    sqft        age     price\n",
              "0  condominium  1380.0   1.873884  231430.0\n",
              "1    townhouse  2137.0   0.655100  276776.0\n",
              "2  condominium  1639.0  22.591568  199513.0"
            ],
            "text/html": [
              "\n",
              "  <div id=\"df-6cee826f-f64e-4e67-8d31-f24df2aabdbf\" class=\"colab-df-container\">\n",
              "    <div>\n",
              "<style scoped>\n",
              "    .dataframe tbody tr th:only-of-type {\n",
              "        vertical-align: middle;\n",
              "    }\n",
              "\n",
              "    .dataframe tbody tr th {\n",
              "        vertical-align: top;\n",
              "    }\n",
              "\n",
              "    .dataframe thead th {\n",
              "        text-align: right;\n",
              "    }\n",
              "</style>\n",
              "<table border=\"1\" class=\"dataframe\">\n",
              "  <thead>\n",
              "    <tr style=\"text-align: right;\">\n",
              "      <th></th>\n",
              "      <th>house_type</th>\n",
              "      <th>sqft</th>\n",
              "      <th>age</th>\n",
              "      <th>price</th>\n",
              "    </tr>\n",
              "  </thead>\n",
              "  <tbody>\n",
              "    <tr>\n",
              "      <th>0</th>\n",
              "      <td>condominium</td>\n",
              "      <td>1380.0</td>\n",
              "      <td>1.873884</td>\n",
              "      <td>231430.0</td>\n",
              "    </tr>\n",
              "    <tr>\n",
              "      <th>1</th>\n",
              "      <td>townhouse</td>\n",
              "      <td>2137.0</td>\n",
              "      <td>0.655100</td>\n",
              "      <td>276776.0</td>\n",
              "    </tr>\n",
              "    <tr>\n",
              "      <th>2</th>\n",
              "      <td>condominium</td>\n",
              "      <td>1639.0</td>\n",
              "      <td>22.591568</td>\n",
              "      <td>199513.0</td>\n",
              "    </tr>\n",
              "  </tbody>\n",
              "</table>\n",
              "</div>\n",
              "    <div class=\"colab-df-buttons\">\n",
              "\n",
              "  <div class=\"colab-df-container\">\n",
              "    <button class=\"colab-df-convert\" onclick=\"convertToInteractive('df-6cee826f-f64e-4e67-8d31-f24df2aabdbf')\"\n",
              "            title=\"Convert this dataframe to an interactive table.\"\n",
              "            style=\"display:none;\">\n",
              "\n",
              "  <svg xmlns=\"http://www.w3.org/2000/svg\" height=\"24px\" viewBox=\"0 -960 960 960\">\n",
              "    <path d=\"M120-120v-720h720v720H120Zm60-500h600v-160H180v160Zm220 220h160v-160H400v160Zm0 220h160v-160H400v160ZM180-400h160v-160H180v160Zm440 0h160v-160H620v160ZM180-180h160v-160H180v160Zm440 0h160v-160H620v160Z\"/>\n",
              "  </svg>\n",
              "    </button>\n",
              "\n",
              "  <style>\n",
              "    .colab-df-container {\n",
              "      display:flex;\n",
              "      gap: 12px;\n",
              "    }\n",
              "\n",
              "    .colab-df-convert {\n",
              "      background-color: #E8F0FE;\n",
              "      border: none;\n",
              "      border-radius: 50%;\n",
              "      cursor: pointer;\n",
              "      display: none;\n",
              "      fill: #1967D2;\n",
              "      height: 32px;\n",
              "      padding: 0 0 0 0;\n",
              "      width: 32px;\n",
              "    }\n",
              "\n",
              "    .colab-df-convert:hover {\n",
              "      background-color: #E2EBFA;\n",
              "      box-shadow: 0px 1px 2px rgba(60, 64, 67, 0.3), 0px 1px 3px 1px rgba(60, 64, 67, 0.15);\n",
              "      fill: #174EA6;\n",
              "    }\n",
              "\n",
              "    .colab-df-buttons div {\n",
              "      margin-bottom: 4px;\n",
              "    }\n",
              "\n",
              "    [theme=dark] .colab-df-convert {\n",
              "      background-color: #3B4455;\n",
              "      fill: #D2E3FC;\n",
              "    }\n",
              "\n",
              "    [theme=dark] .colab-df-convert:hover {\n",
              "      background-color: #434B5C;\n",
              "      box-shadow: 0px 1px 3px 1px rgba(0, 0, 0, 0.15);\n",
              "      filter: drop-shadow(0px 1px 2px rgba(0, 0, 0, 0.3));\n",
              "      fill: #FFFFFF;\n",
              "    }\n",
              "  </style>\n",
              "\n",
              "    <script>\n",
              "      const buttonEl =\n",
              "        document.querySelector('#df-6cee826f-f64e-4e67-8d31-f24df2aabdbf button.colab-df-convert');\n",
              "      buttonEl.style.display =\n",
              "        google.colab.kernel.accessAllowed ? 'block' : 'none';\n",
              "\n",
              "      async function convertToInteractive(key) {\n",
              "        const element = document.querySelector('#df-6cee826f-f64e-4e67-8d31-f24df2aabdbf');\n",
              "        const dataTable =\n",
              "          await google.colab.kernel.invokeFunction('convertToInteractive',\n",
              "                                                    [key], {});\n",
              "        if (!dataTable) return;\n",
              "\n",
              "        const docLinkHtml = 'Like what you see? Visit the ' +\n",
              "          '<a target=\"_blank\" href=https://colab.research.google.com/notebooks/data_table.ipynb>data table notebook</a>'\n",
              "          + ' to learn more about interactive tables.';\n",
              "        element.innerHTML = '';\n",
              "        dataTable['output_type'] = 'display_data';\n",
              "        await google.colab.output.renderOutput(dataTable, element);\n",
              "        const docLink = document.createElement('div');\n",
              "        docLink.innerHTML = docLinkHtml;\n",
              "        element.appendChild(docLink);\n",
              "      }\n",
              "    </script>\n",
              "  </div>\n",
              "\n",
              "\n",
              "<div id=\"df-8e45767f-ae09-4990-8159-8ba8198a1b31\">\n",
              "  <button class=\"colab-df-quickchart\" onclick=\"quickchart('df-8e45767f-ae09-4990-8159-8ba8198a1b31')\"\n",
              "            title=\"Suggest charts\"\n",
              "            style=\"display:none;\">\n",
              "\n",
              "<svg xmlns=\"http://www.w3.org/2000/svg\" height=\"24px\"viewBox=\"0 0 24 24\"\n",
              "     width=\"24px\">\n",
              "    <g>\n",
              "        <path d=\"M19 3H5c-1.1 0-2 .9-2 2v14c0 1.1.9 2 2 2h14c1.1 0 2-.9 2-2V5c0-1.1-.9-2-2-2zM9 17H7v-7h2v7zm4 0h-2V7h2v10zm4 0h-2v-4h2v4z\"/>\n",
              "    </g>\n",
              "</svg>\n",
              "  </button>\n",
              "\n",
              "<style>\n",
              "  .colab-df-quickchart {\n",
              "      --bg-color: #E8F0FE;\n",
              "      --fill-color: #1967D2;\n",
              "      --hover-bg-color: #E2EBFA;\n",
              "      --hover-fill-color: #174EA6;\n",
              "      --disabled-fill-color: #AAA;\n",
              "      --disabled-bg-color: #DDD;\n",
              "  }\n",
              "\n",
              "  [theme=dark] .colab-df-quickchart {\n",
              "      --bg-color: #3B4455;\n",
              "      --fill-color: #D2E3FC;\n",
              "      --hover-bg-color: #434B5C;\n",
              "      --hover-fill-color: #FFFFFF;\n",
              "      --disabled-bg-color: #3B4455;\n",
              "      --disabled-fill-color: #666;\n",
              "  }\n",
              "\n",
              "  .colab-df-quickchart {\n",
              "    background-color: var(--bg-color);\n",
              "    border: none;\n",
              "    border-radius: 50%;\n",
              "    cursor: pointer;\n",
              "    display: none;\n",
              "    fill: var(--fill-color);\n",
              "    height: 32px;\n",
              "    padding: 0;\n",
              "    width: 32px;\n",
              "  }\n",
              "\n",
              "  .colab-df-quickchart:hover {\n",
              "    background-color: var(--hover-bg-color);\n",
              "    box-shadow: 0 1px 2px rgba(60, 64, 67, 0.3), 0 1px 3px 1px rgba(60, 64, 67, 0.15);\n",
              "    fill: var(--button-hover-fill-color);\n",
              "  }\n",
              "\n",
              "  .colab-df-quickchart-complete:disabled,\n",
              "  .colab-df-quickchart-complete:disabled:hover {\n",
              "    background-color: var(--disabled-bg-color);\n",
              "    fill: var(--disabled-fill-color);\n",
              "    box-shadow: none;\n",
              "  }\n",
              "\n",
              "  .colab-df-spinner {\n",
              "    border: 2px solid var(--fill-color);\n",
              "    border-color: transparent;\n",
              "    border-bottom-color: var(--fill-color);\n",
              "    animation:\n",
              "      spin 1s steps(1) infinite;\n",
              "  }\n",
              "\n",
              "  @keyframes spin {\n",
              "    0% {\n",
              "      border-color: transparent;\n",
              "      border-bottom-color: var(--fill-color);\n",
              "      border-left-color: var(--fill-color);\n",
              "    }\n",
              "    20% {\n",
              "      border-color: transparent;\n",
              "      border-left-color: var(--fill-color);\n",
              "      border-top-color: var(--fill-color);\n",
              "    }\n",
              "    30% {\n",
              "      border-color: transparent;\n",
              "      border-left-color: var(--fill-color);\n",
              "      border-top-color: var(--fill-color);\n",
              "      border-right-color: var(--fill-color);\n",
              "    }\n",
              "    40% {\n",
              "      border-color: transparent;\n",
              "      border-right-color: var(--fill-color);\n",
              "      border-top-color: var(--fill-color);\n",
              "    }\n",
              "    60% {\n",
              "      border-color: transparent;\n",
              "      border-right-color: var(--fill-color);\n",
              "    }\n",
              "    80% {\n",
              "      border-color: transparent;\n",
              "      border-right-color: var(--fill-color);\n",
              "      border-bottom-color: var(--fill-color);\n",
              "    }\n",
              "    90% {\n",
              "      border-color: transparent;\n",
              "      border-bottom-color: var(--fill-color);\n",
              "    }\n",
              "  }\n",
              "</style>\n",
              "\n",
              "  <script>\n",
              "    async function quickchart(key) {\n",
              "      const quickchartButtonEl =\n",
              "        document.querySelector('#' + key + ' button');\n",
              "      quickchartButtonEl.disabled = true;  // To prevent multiple clicks.\n",
              "      quickchartButtonEl.classList.add('colab-df-spinner');\n",
              "      try {\n",
              "        const charts = await google.colab.kernel.invokeFunction(\n",
              "            'suggestCharts', [key], {});\n",
              "      } catch (error) {\n",
              "        console.error('Error during call to suggestCharts:', error);\n",
              "      }\n",
              "      quickchartButtonEl.classList.remove('colab-df-spinner');\n",
              "      quickchartButtonEl.classList.add('colab-df-quickchart-complete');\n",
              "    }\n",
              "    (() => {\n",
              "      let quickchartButtonEl =\n",
              "        document.querySelector('#df-8e45767f-ae09-4990-8159-8ba8198a1b31 button');\n",
              "      quickchartButtonEl.style.display =\n",
              "        google.colab.kernel.accessAllowed ? 'block' : 'none';\n",
              "    })();\n",
              "  </script>\n",
              "</div>\n",
              "    </div>\n",
              "  </div>\n"
            ]
          },
          "metadata": {},
          "execution_count": 11
        }
      ]
    },
    {
      "cell_type": "markdown",
      "metadata": {
        "id": "ZB0WC_LTOqNM"
      },
      "source": [
        "Print summary statistics for the data."
      ]
    },
    {
      "cell_type": "code",
      "metadata": {
        "id": "XIwW_yFeOtpo",
        "colab": {
          "base_uri": "https://localhost:8080/",
          "height": 297
        },
        "outputId": "bd122956-9aa0-44a3-fb92-367a310de712"
      },
      "source": [
        "prices_data.describe()"
      ],
      "execution_count": 12,
      "outputs": [
        {
          "output_type": "execute_result",
          "data": {
            "text/plain": [
              "              sqft         age          price\n",
              "count   200.000000  200.000000     200.000000\n",
              "mean   1721.690000   42.100913  254548.075000\n",
              "std     423.824539   35.277504   62757.260134\n",
              "min     767.000000    0.270202  110380.000000\n",
              "25%    1443.750000   16.022210  212453.750000\n",
              "50%    1678.500000   34.432747  249524.500000\n",
              "75%    2021.750000   59.732957  289058.750000\n",
              "max    2927.000000  148.107500  472792.000000"
            ],
            "text/html": [
              "\n",
              "  <div id=\"df-a5b0c69f-6809-4c52-ae5e-da37747b63c9\" class=\"colab-df-container\">\n",
              "    <div>\n",
              "<style scoped>\n",
              "    .dataframe tbody tr th:only-of-type {\n",
              "        vertical-align: middle;\n",
              "    }\n",
              "\n",
              "    .dataframe tbody tr th {\n",
              "        vertical-align: top;\n",
              "    }\n",
              "\n",
              "    .dataframe thead th {\n",
              "        text-align: right;\n",
              "    }\n",
              "</style>\n",
              "<table border=\"1\" class=\"dataframe\">\n",
              "  <thead>\n",
              "    <tr style=\"text-align: right;\">\n",
              "      <th></th>\n",
              "      <th>sqft</th>\n",
              "      <th>age</th>\n",
              "      <th>price</th>\n",
              "    </tr>\n",
              "  </thead>\n",
              "  <tbody>\n",
              "    <tr>\n",
              "      <th>count</th>\n",
              "      <td>200.000000</td>\n",
              "      <td>200.000000</td>\n",
              "      <td>200.000000</td>\n",
              "    </tr>\n",
              "    <tr>\n",
              "      <th>mean</th>\n",
              "      <td>1721.690000</td>\n",
              "      <td>42.100913</td>\n",
              "      <td>254548.075000</td>\n",
              "    </tr>\n",
              "    <tr>\n",
              "      <th>std</th>\n",
              "      <td>423.824539</td>\n",
              "      <td>35.277504</td>\n",
              "      <td>62757.260134</td>\n",
              "    </tr>\n",
              "    <tr>\n",
              "      <th>min</th>\n",
              "      <td>767.000000</td>\n",
              "      <td>0.270202</td>\n",
              "      <td>110380.000000</td>\n",
              "    </tr>\n",
              "    <tr>\n",
              "      <th>25%</th>\n",
              "      <td>1443.750000</td>\n",
              "      <td>16.022210</td>\n",
              "      <td>212453.750000</td>\n",
              "    </tr>\n",
              "    <tr>\n",
              "      <th>50%</th>\n",
              "      <td>1678.500000</td>\n",
              "      <td>34.432747</td>\n",
              "      <td>249524.500000</td>\n",
              "    </tr>\n",
              "    <tr>\n",
              "      <th>75%</th>\n",
              "      <td>2021.750000</td>\n",
              "      <td>59.732957</td>\n",
              "      <td>289058.750000</td>\n",
              "    </tr>\n",
              "    <tr>\n",
              "      <th>max</th>\n",
              "      <td>2927.000000</td>\n",
              "      <td>148.107500</td>\n",
              "      <td>472792.000000</td>\n",
              "    </tr>\n",
              "  </tbody>\n",
              "</table>\n",
              "</div>\n",
              "    <div class=\"colab-df-buttons\">\n",
              "\n",
              "  <div class=\"colab-df-container\">\n",
              "    <button class=\"colab-df-convert\" onclick=\"convertToInteractive('df-a5b0c69f-6809-4c52-ae5e-da37747b63c9')\"\n",
              "            title=\"Convert this dataframe to an interactive table.\"\n",
              "            style=\"display:none;\">\n",
              "\n",
              "  <svg xmlns=\"http://www.w3.org/2000/svg\" height=\"24px\" viewBox=\"0 -960 960 960\">\n",
              "    <path d=\"M120-120v-720h720v720H120Zm60-500h600v-160H180v160Zm220 220h160v-160H400v160Zm0 220h160v-160H400v160ZM180-400h160v-160H180v160Zm440 0h160v-160H620v160ZM180-180h160v-160H180v160Zm440 0h160v-160H620v160Z\"/>\n",
              "  </svg>\n",
              "    </button>\n",
              "\n",
              "  <style>\n",
              "    .colab-df-container {\n",
              "      display:flex;\n",
              "      gap: 12px;\n",
              "    }\n",
              "\n",
              "    .colab-df-convert {\n",
              "      background-color: #E8F0FE;\n",
              "      border: none;\n",
              "      border-radius: 50%;\n",
              "      cursor: pointer;\n",
              "      display: none;\n",
              "      fill: #1967D2;\n",
              "      height: 32px;\n",
              "      padding: 0 0 0 0;\n",
              "      width: 32px;\n",
              "    }\n",
              "\n",
              "    .colab-df-convert:hover {\n",
              "      background-color: #E2EBFA;\n",
              "      box-shadow: 0px 1px 2px rgba(60, 64, 67, 0.3), 0px 1px 3px 1px rgba(60, 64, 67, 0.15);\n",
              "      fill: #174EA6;\n",
              "    }\n",
              "\n",
              "    .colab-df-buttons div {\n",
              "      margin-bottom: 4px;\n",
              "    }\n",
              "\n",
              "    [theme=dark] .colab-df-convert {\n",
              "      background-color: #3B4455;\n",
              "      fill: #D2E3FC;\n",
              "    }\n",
              "\n",
              "    [theme=dark] .colab-df-convert:hover {\n",
              "      background-color: #434B5C;\n",
              "      box-shadow: 0px 1px 3px 1px rgba(0, 0, 0, 0.15);\n",
              "      filter: drop-shadow(0px 1px 2px rgba(0, 0, 0, 0.3));\n",
              "      fill: #FFFFFF;\n",
              "    }\n",
              "  </style>\n",
              "\n",
              "    <script>\n",
              "      const buttonEl =\n",
              "        document.querySelector('#df-a5b0c69f-6809-4c52-ae5e-da37747b63c9 button.colab-df-convert');\n",
              "      buttonEl.style.display =\n",
              "        google.colab.kernel.accessAllowed ? 'block' : 'none';\n",
              "\n",
              "      async function convertToInteractive(key) {\n",
              "        const element = document.querySelector('#df-a5b0c69f-6809-4c52-ae5e-da37747b63c9');\n",
              "        const dataTable =\n",
              "          await google.colab.kernel.invokeFunction('convertToInteractive',\n",
              "                                                    [key], {});\n",
              "        if (!dataTable) return;\n",
              "\n",
              "        const docLinkHtml = 'Like what you see? Visit the ' +\n",
              "          '<a target=\"_blank\" href=https://colab.research.google.com/notebooks/data_table.ipynb>data table notebook</a>'\n",
              "          + ' to learn more about interactive tables.';\n",
              "        element.innerHTML = '';\n",
              "        dataTable['output_type'] = 'display_data';\n",
              "        await google.colab.output.renderOutput(dataTable, element);\n",
              "        const docLink = document.createElement('div');\n",
              "        docLink.innerHTML = docLinkHtml;\n",
              "        element.appendChild(docLink);\n",
              "      }\n",
              "    </script>\n",
              "  </div>\n",
              "\n",
              "\n",
              "<div id=\"df-4f212b71-6d4b-4554-a8a9-89042d50626b\">\n",
              "  <button class=\"colab-df-quickchart\" onclick=\"quickchart('df-4f212b71-6d4b-4554-a8a9-89042d50626b')\"\n",
              "            title=\"Suggest charts\"\n",
              "            style=\"display:none;\">\n",
              "\n",
              "<svg xmlns=\"http://www.w3.org/2000/svg\" height=\"24px\"viewBox=\"0 0 24 24\"\n",
              "     width=\"24px\">\n",
              "    <g>\n",
              "        <path d=\"M19 3H5c-1.1 0-2 .9-2 2v14c0 1.1.9 2 2 2h14c1.1 0 2-.9 2-2V5c0-1.1-.9-2-2-2zM9 17H7v-7h2v7zm4 0h-2V7h2v10zm4 0h-2v-4h2v4z\"/>\n",
              "    </g>\n",
              "</svg>\n",
              "  </button>\n",
              "\n",
              "<style>\n",
              "  .colab-df-quickchart {\n",
              "      --bg-color: #E8F0FE;\n",
              "      --fill-color: #1967D2;\n",
              "      --hover-bg-color: #E2EBFA;\n",
              "      --hover-fill-color: #174EA6;\n",
              "      --disabled-fill-color: #AAA;\n",
              "      --disabled-bg-color: #DDD;\n",
              "  }\n",
              "\n",
              "  [theme=dark] .colab-df-quickchart {\n",
              "      --bg-color: #3B4455;\n",
              "      --fill-color: #D2E3FC;\n",
              "      --hover-bg-color: #434B5C;\n",
              "      --hover-fill-color: #FFFFFF;\n",
              "      --disabled-bg-color: #3B4455;\n",
              "      --disabled-fill-color: #666;\n",
              "  }\n",
              "\n",
              "  .colab-df-quickchart {\n",
              "    background-color: var(--bg-color);\n",
              "    border: none;\n",
              "    border-radius: 50%;\n",
              "    cursor: pointer;\n",
              "    display: none;\n",
              "    fill: var(--fill-color);\n",
              "    height: 32px;\n",
              "    padding: 0;\n",
              "    width: 32px;\n",
              "  }\n",
              "\n",
              "  .colab-df-quickchart:hover {\n",
              "    background-color: var(--hover-bg-color);\n",
              "    box-shadow: 0 1px 2px rgba(60, 64, 67, 0.3), 0 1px 3px 1px rgba(60, 64, 67, 0.15);\n",
              "    fill: var(--button-hover-fill-color);\n",
              "  }\n",
              "\n",
              "  .colab-df-quickchart-complete:disabled,\n",
              "  .colab-df-quickchart-complete:disabled:hover {\n",
              "    background-color: var(--disabled-bg-color);\n",
              "    fill: var(--disabled-fill-color);\n",
              "    box-shadow: none;\n",
              "  }\n",
              "\n",
              "  .colab-df-spinner {\n",
              "    border: 2px solid var(--fill-color);\n",
              "    border-color: transparent;\n",
              "    border-bottom-color: var(--fill-color);\n",
              "    animation:\n",
              "      spin 1s steps(1) infinite;\n",
              "  }\n",
              "\n",
              "  @keyframes spin {\n",
              "    0% {\n",
              "      border-color: transparent;\n",
              "      border-bottom-color: var(--fill-color);\n",
              "      border-left-color: var(--fill-color);\n",
              "    }\n",
              "    20% {\n",
              "      border-color: transparent;\n",
              "      border-left-color: var(--fill-color);\n",
              "      border-top-color: var(--fill-color);\n",
              "    }\n",
              "    30% {\n",
              "      border-color: transparent;\n",
              "      border-left-color: var(--fill-color);\n",
              "      border-top-color: var(--fill-color);\n",
              "      border-right-color: var(--fill-color);\n",
              "    }\n",
              "    40% {\n",
              "      border-color: transparent;\n",
              "      border-right-color: var(--fill-color);\n",
              "      border-top-color: var(--fill-color);\n",
              "    }\n",
              "    60% {\n",
              "      border-color: transparent;\n",
              "      border-right-color: var(--fill-color);\n",
              "    }\n",
              "    80% {\n",
              "      border-color: transparent;\n",
              "      border-right-color: var(--fill-color);\n",
              "      border-bottom-color: var(--fill-color);\n",
              "    }\n",
              "    90% {\n",
              "      border-color: transparent;\n",
              "      border-bottom-color: var(--fill-color);\n",
              "    }\n",
              "  }\n",
              "</style>\n",
              "\n",
              "  <script>\n",
              "    async function quickchart(key) {\n",
              "      const quickchartButtonEl =\n",
              "        document.querySelector('#' + key + ' button');\n",
              "      quickchartButtonEl.disabled = true;  // To prevent multiple clicks.\n",
              "      quickchartButtonEl.classList.add('colab-df-spinner');\n",
              "      try {\n",
              "        const charts = await google.colab.kernel.invokeFunction(\n",
              "            'suggestCharts', [key], {});\n",
              "      } catch (error) {\n",
              "        console.error('Error during call to suggestCharts:', error);\n",
              "      }\n",
              "      quickchartButtonEl.classList.remove('colab-df-spinner');\n",
              "      quickchartButtonEl.classList.add('colab-df-quickchart-complete');\n",
              "    }\n",
              "    (() => {\n",
              "      let quickchartButtonEl =\n",
              "        document.querySelector('#df-4f212b71-6d4b-4554-a8a9-89042d50626b button');\n",
              "      quickchartButtonEl.style.display =\n",
              "        google.colab.kernel.accessAllowed ? 'block' : 'none';\n",
              "    })();\n",
              "  </script>\n",
              "</div>\n",
              "    </div>\n",
              "  </div>\n"
            ]
          },
          "metadata": {},
          "execution_count": 12
        }
      ]
    },
    {
      "cell_type": "markdown",
      "metadata": {
        "id": "2nxtbSfbMDsO"
      },
      "source": [
        "##Simple Linear Regression"
      ]
    },
    {
      "cell_type": "markdown",
      "metadata": {
        "id": "q9f94JhzMQmS"
      },
      "source": [
        "Using linear regression study the relationship between the square footage of houses in our data and their average price.\n",
        "\n",
        "1.   Use `LinearRegression` method in `scikit-learn` to fit a linear regression"
      ]
    },
    {
      "cell_type": "code",
      "metadata": {
        "id": "vYLuPa_-MHZC",
        "colab": {
          "base_uri": "https://localhost:8080/",
          "height": 74
        },
        "outputId": "db3d4e48-b613-4943-b2b6-22b682edcd84"
      },
      "source": [
        "x = prices_data[['sqft']]\n",
        "y = prices_data.price\n",
        "\n",
        "# TODO: Fit a linear regression to x and y\n",
        "model = LinearRegression()\n",
        "model.fit(x, y)\n",
        "# END OF TODO"
      ],
      "execution_count": 13,
      "outputs": [
        {
          "output_type": "execute_result",
          "data": {
            "text/plain": [
              "LinearRegression()"
            ],
            "text/html": [
              "<style>#sk-container-id-2 {color: black;background-color: white;}#sk-container-id-2 pre{padding: 0;}#sk-container-id-2 div.sk-toggleable {background-color: white;}#sk-container-id-2 label.sk-toggleable__label {cursor: pointer;display: block;width: 100%;margin-bottom: 0;padding: 0.3em;box-sizing: border-box;text-align: center;}#sk-container-id-2 label.sk-toggleable__label-arrow:before {content: \"▸\";float: left;margin-right: 0.25em;color: #696969;}#sk-container-id-2 label.sk-toggleable__label-arrow:hover:before {color: black;}#sk-container-id-2 div.sk-estimator:hover label.sk-toggleable__label-arrow:before {color: black;}#sk-container-id-2 div.sk-toggleable__content {max-height: 0;max-width: 0;overflow: hidden;text-align: left;background-color: #f0f8ff;}#sk-container-id-2 div.sk-toggleable__content pre {margin: 0.2em;color: black;border-radius: 0.25em;background-color: #f0f8ff;}#sk-container-id-2 input.sk-toggleable__control:checked~div.sk-toggleable__content {max-height: 200px;max-width: 100%;overflow: auto;}#sk-container-id-2 input.sk-toggleable__control:checked~label.sk-toggleable__label-arrow:before {content: \"▾\";}#sk-container-id-2 div.sk-estimator input.sk-toggleable__control:checked~label.sk-toggleable__label {background-color: #d4ebff;}#sk-container-id-2 div.sk-label input.sk-toggleable__control:checked~label.sk-toggleable__label {background-color: #d4ebff;}#sk-container-id-2 input.sk-hidden--visually {border: 0;clip: rect(1px 1px 1px 1px);clip: rect(1px, 1px, 1px, 1px);height: 1px;margin: -1px;overflow: hidden;padding: 0;position: absolute;width: 1px;}#sk-container-id-2 div.sk-estimator {font-family: monospace;background-color: #f0f8ff;border: 1px dotted black;border-radius: 0.25em;box-sizing: border-box;margin-bottom: 0.5em;}#sk-container-id-2 div.sk-estimator:hover {background-color: #d4ebff;}#sk-container-id-2 div.sk-parallel-item::after {content: \"\";width: 100%;border-bottom: 1px solid gray;flex-grow: 1;}#sk-container-id-2 div.sk-label:hover label.sk-toggleable__label {background-color: #d4ebff;}#sk-container-id-2 div.sk-serial::before {content: \"\";position: absolute;border-left: 1px solid gray;box-sizing: border-box;top: 0;bottom: 0;left: 50%;z-index: 0;}#sk-container-id-2 div.sk-serial {display: flex;flex-direction: column;align-items: center;background-color: white;padding-right: 0.2em;padding-left: 0.2em;position: relative;}#sk-container-id-2 div.sk-item {position: relative;z-index: 1;}#sk-container-id-2 div.sk-parallel {display: flex;align-items: stretch;justify-content: center;background-color: white;position: relative;}#sk-container-id-2 div.sk-item::before, #sk-container-id-2 div.sk-parallel-item::before {content: \"\";position: absolute;border-left: 1px solid gray;box-sizing: border-box;top: 0;bottom: 0;left: 50%;z-index: -1;}#sk-container-id-2 div.sk-parallel-item {display: flex;flex-direction: column;z-index: 1;position: relative;background-color: white;}#sk-container-id-2 div.sk-parallel-item:first-child::after {align-self: flex-end;width: 50%;}#sk-container-id-2 div.sk-parallel-item:last-child::after {align-self: flex-start;width: 50%;}#sk-container-id-2 div.sk-parallel-item:only-child::after {width: 0;}#sk-container-id-2 div.sk-dashed-wrapped {border: 1px dashed gray;margin: 0 0.4em 0.5em 0.4em;box-sizing: border-box;padding-bottom: 0.4em;background-color: white;}#sk-container-id-2 div.sk-label label {font-family: monospace;font-weight: bold;display: inline-block;line-height: 1.2em;}#sk-container-id-2 div.sk-label-container {text-align: center;}#sk-container-id-2 div.sk-container {/* jupyter's `normalize.less` sets `[hidden] { display: none; }` but bootstrap.min.css set `[hidden] { display: none !important; }` so we also need the `!important` here to be able to override the default hidden behavior on the sphinx rendered scikit-learn.org. See: https://github.com/scikit-learn/scikit-learn/issues/21755 */display: inline-block !important;position: relative;}#sk-container-id-2 div.sk-text-repr-fallback {display: none;}</style><div id=\"sk-container-id-2\" class=\"sk-top-container\"><div class=\"sk-text-repr-fallback\"><pre>LinearRegression()</pre><b>In a Jupyter environment, please rerun this cell to show the HTML representation or trust the notebook. <br />On GitHub, the HTML representation is unable to render, please try loading this page with nbviewer.org.</b></div><div class=\"sk-container\" hidden><div class=\"sk-item\"><div class=\"sk-estimator sk-toggleable\"><input class=\"sk-toggleable__control sk-hidden--visually\" id=\"sk-estimator-id-2\" type=\"checkbox\" checked><label for=\"sk-estimator-id-2\" class=\"sk-toggleable__label sk-toggleable__label-arrow\">LinearRegression</label><div class=\"sk-toggleable__content\"><pre>LinearRegression()</pre></div></div></div></div></div>"
            ]
          },
          "metadata": {},
          "execution_count": 13
        }
      ]
    },
    {
      "cell_type": "markdown",
      "metadata": {
        "id": "1pP_e4vGOOYv"
      },
      "source": [
        "2. Gather the estimated coefficients from the model."
      ]
    },
    {
      "cell_type": "code",
      "metadata": {
        "id": "PTJHXCiCOTqw",
        "colab": {
          "base_uri": "https://localhost:8080/"
        },
        "outputId": "b2666f15-c481-4b81-c8e9-ed24f626b3dd"
      },
      "source": [
        "# TODO: Assign correct values to intercept and sqft_est_coef\n",
        "intercept = model.intercept_\n",
        "sqft_est_coef = model.coef_[0]\n",
        "# END OF TODO\n",
        "\n",
        "print(\"intercept of the model is: \", intercept)\n",
        "print(\"coefficient of square footage is: \", sqft_est_coef)"
      ],
      "execution_count": 14,
      "outputs": [
        {
          "output_type": "stream",
          "name": "stdout",
          "text": [
            "intercept of the model is:  146762.72091842652\n",
            "coefficient of square footage is:  62.60439108177052\n"
          ]
        }
      ]
    },
    {
      "cell_type": "markdown",
      "metadata": {
        "id": "FCK4JrSnNJIr"
      },
      "source": [
        "3. How can we interpret the coeffient of the square footage?\n",
        "\n",
        "We can interpret the coefficient of square footage as the slope of the linear regression model. In this case, it represents a 62.6 unit increase in price for every 1 unit increase in square footage of house.  "
      ]
    },
    {
      "cell_type": "markdown",
      "metadata": {
        "id": "zcmYkj0hQEIr"
      },
      "source": [
        "4. Compute the residual sum of squares from the model."
      ]
    },
    {
      "cell_type": "code",
      "metadata": {
        "id": "x6dCtEfQN4X5",
        "colab": {
          "base_uri": "https://localhost:8080/"
        },
        "outputId": "8f2d15b4-c44c-4171-9ff2-6b75ba9b4d73"
      },
      "source": [
        "# TODO: Assign correct value to rss\n",
        "y_hat = model.predict(x)\n",
        "residuals = y - y_hat\n",
        "rss = np.sum(residuals**2)\n",
        "# END OF TODO\n",
        "\n",
        "print(\"RSS for the model is: \", rss)"
      ],
      "execution_count": 15,
      "outputs": [
        {
          "output_type": "stream",
          "name": "stdout",
          "text": [
            "RSS for the model is:  643657321143.4912\n"
          ]
        }
      ]
    },
    {
      "cell_type": "markdown",
      "metadata": {
        "id": "uXaxfMSgQVgm"
      },
      "source": [
        "##Multiple Linear Regression"
      ]
    },
    {
      "cell_type": "markdown",
      "metadata": {
        "id": "P2Up38A0QdKT"
      },
      "source": [
        "Using linear regression study the relationship between the features in our data and the average price.\n",
        "\n",
        "1.   Divide features and the response variable into different objects."
      ]
    },
    {
      "cell_type": "code",
      "metadata": {
        "id": "D26sEF3KQQp3"
      },
      "source": [
        "# TODO: Assign features to X and the outcome to y\n",
        "X = prices_data[['sqft', 'age']]\n",
        "y = prices_data.price\n",
        "# END OF TODO"
      ],
      "execution_count": 23,
      "outputs": []
    },
    {
      "cell_type": "markdown",
      "metadata": {
        "id": "RR6VFGomRAGT"
      },
      "source": [
        "2. Add indicator variables for house type into the  data frame of the features."
      ]
    },
    {
      "cell_type": "code",
      "metadata": {
        "id": "6PJjW4nTQ_a7",
        "colab": {
          "base_uri": "https://localhost:8080/"
        },
        "outputId": "35bab1f8-eea5-4964-a4c9-5046e922d4ce"
      },
      "source": [
        "# TODO: Update X\n",
        "prices_data_one_hot_encoded = pd.get_dummies(\n",
        "    prices_data,\n",
        "    columns = [\"house_type\"],\n",
        "    drop_first = True\n",
        ")\n",
        "X = prices_data_one_hot_encoded.drop(\"price\", axis = 1)\n",
        "# END OF TODO\n",
        "\n",
        "if isinstance(X, pd.DataFrame):\n",
        "  print(X.head(3))"
      ],
      "execution_count": 24,
      "outputs": [
        {
          "output_type": "stream",
          "name": "stdout",
          "text": [
            "     sqft        age  house_type_sfh  house_type_townhouse\n",
            "0  1380.0   1.873884               0                     0\n",
            "1  2137.0   0.655100               0                     1\n",
            "2  1639.0  22.591568               0                     0\n"
          ]
        }
      ]
    },
    {
      "cell_type": "markdown",
      "metadata": {
        "id": "-U7hYuZ9ROHG"
      },
      "source": [
        "3. Add age squared as a new feature to the data frame of the features."
      ]
    },
    {
      "cell_type": "code",
      "metadata": {
        "id": "f9BX251rRMi1",
        "colab": {
          "base_uri": "https://localhost:8080/"
        },
        "outputId": "ee4d5844-7710-43b6-b24c-9bf6541da1a3"
      },
      "source": [
        "# TODO: Update X\n",
        "X = X.assign(age_sqr = X.age**2)\n",
        "# END OF TODO\n",
        "\n",
        "if isinstance(X, pd.DataFrame):\n",
        "  print(X.head(3))"
      ],
      "execution_count": 25,
      "outputs": [
        {
          "output_type": "stream",
          "name": "stdout",
          "text": [
            "     sqft        age  house_type_sfh  house_type_townhouse     age_sqr\n",
            "0  1380.0   1.873884               0                     0    3.511440\n",
            "1  2137.0   0.655100               0                     1    0.429156\n",
            "2  1639.0  22.591568               0                     0  510.378927\n"
          ]
        }
      ]
    },
    {
      "cell_type": "markdown",
      "metadata": {
        "id": "xCwpQloyRocG"
      },
      "source": [
        "4. Apply a linear regression using `OLS` method in `statsmodels`. Don't forget to add an intercept column to the features using `sm.add_constant`."
      ]
    },
    {
      "cell_type": "code",
      "metadata": {
        "id": "HKyDP4qsRgiL",
        "colab": {
          "base_uri": "https://localhost:8080/"
        },
        "outputId": "13e49981-3fb3-4822-d5d3-b59b852fe384"
      },
      "source": [
        "# TODO: fit the model\n",
        "X_with_intercept = sm.add_constant(X)\n",
        "model = sm.OLS(y, X_with_intercept).fit()\n",
        "# END OF TODO\n",
        "\n",
        "if isinstance(model, sm.regression.linear_model.RegressionResultsWrapper):\n",
        "  print(model.summary())"
      ],
      "execution_count": 26,
      "outputs": [
        {
          "output_type": "stream",
          "name": "stdout",
          "text": [
            "                            OLS Regression Results                            \n",
            "==============================================================================\n",
            "Dep. Variable:                  price   R-squared:                       0.319\n",
            "Model:                            OLS   Adj. R-squared:                  0.301\n",
            "Method:                 Least Squares   F-statistic:                     18.14\n",
            "Date:                Mon, 05 Feb 2024   Prob (F-statistic):           9.39e-15\n",
            "Time:                        23:39:12   Log-Likelihood:                -2454.3\n",
            "No. Observations:                 200   AIC:                             4921.\n",
            "Df Residuals:                     194   BIC:                             4940.\n",
            "Df Model:                           5                                         \n",
            "Covariance Type:            nonrobust                                         \n",
            "========================================================================================\n",
            "                           coef    std err          t      P>|t|      [0.025      0.975]\n",
            "----------------------------------------------------------------------------------------\n",
            "const                 2.035e+05   1.81e+04     11.254      0.000    1.68e+05    2.39e+05\n",
            "sqft                    31.1996     11.462      2.722      0.007       8.594      53.805\n",
            "age                  -1183.4972    336.537     -3.517      0.001   -1847.238    -519.756\n",
            "house_type_sfh        4.826e+04   1.31e+04      3.681      0.000    2.24e+04    7.41e+04\n",
            "house_type_townhouse  1.003e+04   9482.668      1.057      0.292   -8676.948    2.87e+04\n",
            "age_sqr                  9.6372      2.586      3.726      0.000       4.536      14.738\n",
            "==============================================================================\n",
            "Omnibus:                        0.871   Durbin-Watson:                   1.904\n",
            "Prob(Omnibus):                  0.647   Jarque-Bera (JB):                0.991\n",
            "Skew:                           0.124   Prob(JB):                        0.609\n",
            "Kurtosis:                       2.760   Cond. No.                     2.92e+04\n",
            "==============================================================================\n",
            "\n",
            "Notes:\n",
            "[1] Standard Errors assume that the covariance matrix of the errors is correctly specified.\n",
            "[2] The condition number is large, 2.92e+04. This might indicate that there are\n",
            "strong multicollinearity or other numerical problems.\n"
          ]
        }
      ]
    },
    {
      "cell_type": "markdown",
      "metadata": {
        "id": "EEKuKKuXSYDP"
      },
      "source": [
        "5. From the model summary, what is the estimated coefficient for square footage (i.e., $\\hat{\\beta}_{\\text{sqft}}$)? Can we confidently say that the real coefficient of square footage (i.e., $\\beta_{\\text{sqft}}$) is positive? How do you interpret the estimated coefficient?\n",
        "\n",
        "The estimated coefficient for square footage is 31.1996, so 1 unit increase in square footage results in a 31.1996 unit increase in price given that all other features remain the same (i.e. house type, age, age_sqr, etc.). We can confidently say the real coefficient of square footage would be postive because that matches up with our expected result based on logic of house prices."
      ]
    },
    {
      "cell_type": "markdown",
      "metadata": {
        "id": "NJi_tLNJTQL5"
      },
      "source": [
        "6. What is the R-squared of the model?\n",
        "\n",
        "R-squared is given as 0.319"
      ]
    },
    {
      "cell_type": "markdown",
      "metadata": {
        "id": "T4IhlZNwTmf6"
      },
      "source": [
        "7. Compute the fitted values and the residuals for the model, and plot residuals vs. fitted values. Does the plot show any obvious issues with the model?"
      ]
    },
    {
      "cell_type": "code",
      "metadata": {
        "id": "RS3zjEv7SMdW",
        "colab": {
          "base_uri": "https://localhost:8080/",
          "height": 446
        },
        "outputId": "8e73033c-ca62-4356-bd45-06c5a98c113f"
      },
      "source": [
        "# TODO: Assign correct values to y_hat and residuals\n",
        "y_hat = model.predict(X_with_intercept)\n",
        "residuals = y - y_hat\n",
        "# END OF TODO\n",
        "\n",
        "import seaborn as sns\n",
        "from matplotlib import pyplot as plt\n",
        "%matplotlib inline\n",
        "\n",
        "fig, ax = plt.subplots(figsize=(6,5))\n",
        "_ = ax.scatter(y_hat, residuals)"
      ],
      "execution_count": 28,
      "outputs": [
        {
          "output_type": "display_data",
          "data": {
            "text/plain": [
              "<Figure size 600x500 with 1 Axes>"
            ],
            "image/png": "[encoded data removed]"
          },
          "metadata": {}
        }
      ]
    },
    {
      "cell_type": "code",
      "source": [],
      "metadata": {
        "id": "v2xipCpMpppD"
      },
      "execution_count": null,
      "outputs": []
    }
  ]
}