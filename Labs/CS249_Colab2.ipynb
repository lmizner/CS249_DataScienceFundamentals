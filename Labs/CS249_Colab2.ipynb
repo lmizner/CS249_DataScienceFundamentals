{
 "cells": [
  {
   "cell_type": "markdown",
   "metadata": {
    "id": "-5GaQVV7wALa"
   },
   "source": [
    "**Due Date: Monday, January 29th, 11:59pm**\n",
    "\n",
    "- Save a copy of the notebook to your Google Drive. You can do that by going to the menu and clicking `File` > `Save` > `SAVE A COPY IN DRIVE`.\n",
    "- Fill out the missing parts and run the code modules.\n",
    "- Answer the questions (if any) in a separate document or by adding a new `Text` block inside the Colab.\n",
    "- Download the solved notebook by going to the menu and clicking `File` > `Download .ipynb`.\n",
    "- Make sure the downloaded version is showing your solutions.\n",
    "- Upload your solutions to BruinLearn (under \"Colab Assignment #2: Hypothesis Testing\" for Week 3)."
   ]
  },
  {
   "cell_type": "code",
   "execution_count": 1,
   "metadata": {
    "id": "TDvxk7eov33r"
   },
   "outputs": [],
   "source": [
    "import numpy as np\n",
    "from scipy import stats\n",
    "\n",
    "np.random.seed(0)"
   ]
  },
  {
   "cell_type": "markdown",
   "metadata": {
    "id": "Ju_-DtszxJrm"
   },
   "source": [
    "Assume `y_1`, `y_2`, ..., `y_6` show the outcome of coin flips for six different coins."
   ]
  },
  {
   "cell_type": "code",
   "execution_count": 2,
   "metadata": {
    "id": "qEj4aMUXxtE_"
   },
   "outputs": [],
   "source": [
    "y_1 = np.random.binomial(1, 0.5, 50)\n",
    "y_2 = np.random.binomial(1, 0.5, 30)\n",
    "y_3 = np.random.binomial(1, 0.5, 40)\n",
    "y_4 = np.random.binomial(1, 0.5, 10)\n",
    "y_5 = np.random.binomial(1, 0.4, 30)\n",
    "y_6 = np.random.binomial(1, 0.8, 50)"
   ]
  },
  {
   "cell_type": "markdown",
   "metadata": {
    "id": "0vksao5R6xt6"
   },
   "source": [
    "## One group"
   ]
  },
  {
   "cell_type": "markdown",
   "metadata": {
    "id": "BRsPmRXIyQT4"
   },
   "source": [
    "Based on the observed data, test the hypothesis that the first coin is fair. The null hypothesis for this test is $H_0: p_1 = 0.5$. Compute the p-value of this test. Do you reject the null hypothesis based on the result of this test? If not, does that mean that $p_1 = 0.5$?\n",
    "\n"
   ]
  },
  {
   "cell_type": "code",
   "execution_count": 7,
   "metadata": {
    "colab": {
     "base_uri": "https://localhost:8080/"
    },
    "id": "_oJPgjYbxIXR",
    "outputId": "1be869ef-c7b1-42cc-fea6-aa144628a8ba"
   },
   "outputs": [
    {
     "name": "stdout",
     "output_type": "stream",
     "text": [
      "1.4288690166235203\n",
      "0.15938605197461647\n",
      "The p-value for the test is 0.15938605197461647\n"
     ]
    }
   ],
   "source": [
    "# TODO: Assign the right value to p_val\n",
    "\n",
    "mu_0 = 0.5\n",
    "t_stat, p_val = stats.ttest_1samp(y_1, mu_0)\n",
    "\n",
    "print(t_stat)\n",
    "print(p_val)\n",
    "\n",
    "# END OF TODO\n",
    "\n",
    "print(\"The p-value for the test is\", p_val)"
   ]
  },
  {
   "cell_type": "markdown",
   "metadata": {
    "id": "4anhpHbVPNye"
   },
   "source": [
    "Since the p-value is 0.159, which is greater than the 0.05 significance level, we can conclude that the result is not statistically significant meaning it is not strong enough evidence to reject the null hypothesis."
   ]
  },
  {
   "cell_type": "markdown",
   "metadata": {
    "id": "Gcv-hrQE1wlB"
   },
   "source": [
    "Answer the same questions for the fifth coin. This time, the null hypothesis is $H_0: p_5 = 0.5$.\n",
    "\n"
   ]
  },
  {
   "cell_type": "code",
   "execution_count": 8,
   "metadata": {
    "colab": {
     "base_uri": "https://localhost:8080/"
    },
    "id": "AdwEyRtM12H5",
    "outputId": "fb6e81a0-5286-4214-fdfb-ab4f11c734bd"
   },
   "outputs": [
    {
     "name": "stdout",
     "output_type": "stream",
     "text": [
      "-0.3598114585644621\n",
      "0.7215952675845513\n",
      "The p-value for the test is 0.7215952675845513\n"
     ]
    }
   ],
   "source": [
    "# TODO: Assign the right value to p_val\n",
    "\n",
    "mu_0 = 0.5\n",
    "t_stat, p_val = stats.ttest_1samp(y_5, mu_0)\n",
    "\n",
    "print(t_stat)\n",
    "print(p_val)\n",
    "\n",
    "# END OF TODO\n",
    "\n",
    "print(\"The p-value for the test is\", p_val)"
   ]
  },
  {
   "cell_type": "markdown",
   "metadata": {
    "id": "y0XkExK9PrSc"
   },
   "source": [
    "Since the p-value is 0.722, which is greater than the 0.05 significance level, we can conclude that the result is not statistically significant meaning it is not strong enough evidence to reject the null hypothesis."
   ]
  },
  {
   "cell_type": "markdown",
   "metadata": {
    "id": "TqCRR7cN2IBh"
   },
   "source": [
    "Answer the same questions for the sixth coin. This time, the null hypothesis is $H_0: p_6 = 0.5$."
   ]
  },
  {
   "cell_type": "code",
   "execution_count": 9,
   "metadata": {
    "colab": {
     "base_uri": "https://localhost:8080/"
    },
    "id": "PfUN--Q95crO",
    "outputId": "2d78c273-092d-46bd-e2d7-d935da2f6bed"
   },
   "outputs": [
    {
     "name": "stdout",
     "output_type": "stream",
     "text": [
      "0.5618006477335901\n",
      "0.5768126908825979\n",
      "The p-value for the test is 0.5768126908825979\n"
     ]
    }
   ],
   "source": [
    "# TODO: Assign the right value to p_val\n",
    "\n",
    "mu_0 = 0.5\n",
    "t_stat, p_val = stats.ttest_1samp(y_6, mu_0)\n",
    "\n",
    "print(t_stat)\n",
    "print(p_val)\n",
    "\n",
    "# END OF TODO\n",
    "\n",
    "print(\"The p-value for the test is\", p_val)"
   ]
  },
  {
   "cell_type": "markdown",
   "metadata": {
    "id": "15FJZMIaPwWU"
   },
   "source": [
    "Since the p-value is 0.578, which is greater than the 0.05 significance level, we can conclude that the result is not statistically significant meaning it is not strong enough evidence to reject the null hypothesis."
   ]
  },
  {
   "cell_type": "markdown",
   "metadata": {
    "id": "XHrKxih364z3"
   },
   "source": [
    "## Two groups"
   ]
  },
  {
   "cell_type": "markdown",
   "metadata": {
    "id": "auPKBS4d0YRv"
   },
   "source": [
    "Test if the bias of the fifth coin and the sixth coin are equal to each other. The null hypothesis is $H_0: p_5 = p_6$. Compute the p-value for this test."
   ]
  },
  {
   "cell_type": "code",
   "execution_count": 11,
   "metadata": {
    "colab": {
     "base_uri": "https://localhost:8080/"
    },
    "id": "zPOb1v3Xz51H",
    "outputId": "8faa27db-e849-4c2f-eb9a-12f7bba505cf"
   },
   "outputs": [
    {
     "name": "stdout",
     "output_type": "stream",
     "text": [
      "-0.05746065660284369\n",
      "0.9543251930320562\n",
      "The p-value for the test is 0.9543251930320562\n"
     ]
    }
   ],
   "source": [
    "# TODO: Assign the right value to p_val\n",
    "\n",
    "t_stat, p_val = stats.ttest_ind(y_5, y_6, equal_var = True)\n",
    "\n",
    "print(t_stat)\n",
    "print(p_val)\n",
    "\n",
    "# END OF TODO\n",
    "\n",
    "print(\"The p-value for the test is\", p_val)"
   ]
  },
  {
   "cell_type": "markdown",
   "metadata": {
    "id": "ocuQ5PCg7cB8"
   },
   "source": [
    "## k groups"
   ]
  },
  {
   "cell_type": "markdown",
   "metadata": {
    "id": "W03vwiPQ7fjS"
   },
   "source": [
    "Test the hypothesis that all the six coins have the same bias. The null hypothesis is $H_0: p_1 = p_2 = \\dots = p_6$. Compute the p-value for this test. Can you reject the null hypothesis based on this p-value?"
   ]
  },
  {
   "cell_type": "code",
   "execution_count": 12,
   "metadata": {
    "colab": {
     "base_uri": "https://localhost:8080/"
    },
    "id": "qf1EVfBD5tKL",
    "outputId": "401dfe27-03c7-4fb1-cc56-bdccc3d37a56"
   },
   "outputs": [
    {
     "name": "stdout",
     "output_type": "stream",
     "text": [
      "1.5882121770435256\n",
      "0.16485237297841546\n",
      "The p-value for the test is 0.16485237297841546\n"
     ]
    }
   ],
   "source": [
    "# TODO: Assign the right value to p_val\n",
    "\n",
    "f_stat, p_val = stats.f_oneway(y_1, y_2, y_3, y_4, y_5, y_6)\n",
    "print(f_stat)\n",
    "print(p_val)\n",
    "\n",
    "# END OF TODO\n",
    "\n",
    "print(\"The p-value for the test is\", p_val)"
   ]
  },
  {
   "cell_type": "markdown",
   "metadata": {
    "id": "_BIWnkEZP8nb"
   },
   "source": [
    "Since the p-value is 0.165, which is greater than the 0.05 significance level, we can conclude that the result is not statistically significant meaning it is not strong enough evidence to reject the null hypothesis."
   ]
  },
  {
   "cell_type": "markdown",
   "metadata": {
    "id": "9pRSdCZC8nHC"
   },
   "source": [
    "Test the hypothesis that all the first four coins have the same bias. The null hypothesis is $H_0: p_1 = p_2 = p_3 = p_4$. Compute the p-value for this test. Can you reject the null hypothesis based on this p-value?"
   ]
  },
  {
   "cell_type": "code",
   "execution_count": 13,
   "metadata": {
    "colab": {
     "base_uri": "https://localhost:8080/"
    },
    "id": "BmU-ELrQ2Wl4",
    "outputId": "e3108e18-91c1-44a5-ead3-ba6f3d989021"
   },
   "outputs": [
    {
     "name": "stdout",
     "output_type": "stream",
     "text": [
      "2.0907031363664705\n",
      "0.1047599747354836\n",
      "The p-value for the test is 0.1047599747354836\n"
     ]
    }
   ],
   "source": [
    "# TODO: Assign the right value to p_val\n",
    "\n",
    "f_stat, p_val = stats.f_oneway(y_1, y_2, y_3, y_4)\n",
    "print(f_stat)\n",
    "print(p_val)\n",
    "\n",
    "# END OF TODO\n",
    "\n",
    "print(\"The p-value for the test is\", p_val)"
   ]
  },
  {
   "cell_type": "markdown",
   "metadata": {
    "id": "UaronM6uQC8r"
   },
   "source": [
    "Since the p-value is 0.105, which is greater than the 0.05 significance level, we can conclude that the result is not statistically significant meaning it is not strong enough evidence to reject the null hypothesis."
   ]
  },
  {
   "cell_type": "markdown",
   "metadata": {
    "id": "Qkk8TJMG8z21"
   },
   "source": [
    "This time, let's do six pairwise two-sample t-tests between the first four coins. Meaning, let's test the null hypothesis $H_0^{(i,j)}: p_i = p_j$ for each $(i,j)$ pair where $1 \\leq i \\leq 4$, $1 \\leq j \\leq 4$, and $i \\neq j$). What is the smallest p-value you get from these six tests?"
   ]
  },
  {
   "cell_type": "code",
   "execution_count": 18,
   "metadata": {
    "colab": {
     "base_uri": "https://localhost:8080/"
    },
    "id": "cxXHdc-A3fm4",
    "outputId": "60ada74c-502d-47e1-c897-e53b80b5a012"
   },
   "outputs": [
    {
     "name": "stdout",
     "output_type": "stream",
     "text": [
      "Smallest p-value in pair-wise t-tests is:  0.020754896218989474\n"
     ]
    }
   ],
   "source": [
    "# TODO: Assign the right value to smallest_p_val\n",
    "y = [y_1, y_2, y_3, y_4]\n",
    "\n",
    "smallest_p_val = 1\n",
    "\n",
    "for i in range(0, 3):\n",
    "    t_stat, p_val = stats.ttest_ind(y[i], y[i+1], equal_var = True)\n",
    "    smallest_p_val = min(p_val, smallest_p_val)\n",
    "# END OF TODO\n",
    "\n",
    "print(\"Smallest p-value in pair-wise t-tests is: \", smallest_p_val)"
   ]
  },
  {
   "cell_type": "markdown",
   "metadata": {
    "id": "nlfvcvYe_iK8"
   },
   "source": [
    "If we test $H_0: p_1 = p_2 = p_3 = p_4$ by doing pairwise two-sample t-tests and rejecting $H_0: p_1 = p_2 = p_3 = p_4$ if we could reject any one of these pairwise tests, will we reject $H_0$? If so, is that the right decision?"
   ]
  },
  {
   "cell_type": "markdown",
   "metadata": {
    "id": "lBwFLBT8QJzP"
   },
   "source": [
    "Since the p-value is 0.02, which is less than the 0.05 significance level, we can conclude that the result is statistically significant meaning it is strong enough evidence to reject the null hypothesis."
   ]
  },
  {
   "cell_type": "code",
   "execution_count": null,
   "metadata": {
    "id": "rbVQ_2m8QRHo"
   },
   "outputs": [],
   "source": []
  }
 ],
 "metadata": {
  "colab": {
   "provenance": []
  },
  "kernelspec": {
   "display_name": "Python 3 (ipykernel)",
   "language": "python",
   "name": "python3"
  },
  "language_info": {
   "codemirror_mode": {
    "name": "ipython",
    "version": 3
   },
   "file_extension": ".py",
   "mimetype": "text/x-python",
   "name": "python",
   "nbconvert_exporter": "python",
   "pygments_lexer": "ipython3",
   "version": "3.11.6"
  }
 },
 "nbformat": 4,
 "nbformat_minor": 4
}
