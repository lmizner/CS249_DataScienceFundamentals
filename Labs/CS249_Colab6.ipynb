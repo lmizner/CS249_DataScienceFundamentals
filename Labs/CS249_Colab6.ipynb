{
 "cells": [
  {
   "cell_type": "markdown",
   "metadata": {
    "id": "5m74DlrjdPxO"
   },
   "source": [
    "**Due Date: Monday, March 11th, 11:59pm**\n",
    "\n",
    "- Save a copy of the notebook to your Google Drive. You can do that by going to the menu and clicking `File` > `Save` > `SAVE A COPY IN DRIVE`.\n",
    "- Fill out the missing parts and run the code modules.\n",
    "- Answer the questions (if any) in a separate document or by adding a new `Text` block inside the Colab.\n",
    "- Download the solved notebook by going to the menu and clicking `File` > `Download .ipynb`.\n",
    "- Make sure the downloaded version is showing your solutions.\n",
    "- Upload your solutions to BruinLearn (under \"Colab Assignment #6: Causal Inference\")."
   ]
  },
  {
   "cell_type": "code",
   "execution_count": 1,
   "metadata": {
    "id": "3JGhIyHgvLOR"
   },
   "outputs": [],
   "source": [
    "import numpy as np\n",
    "import pandas as pd\n",
    "\n",
    "np.random.seed(0)"
   ]
  },
  {
   "cell_type": "markdown",
   "metadata": {
    "id": "mpJfpzmdcBCI"
   },
   "source": [
    "We are going to work with the data of an A/B experiment --- a randomized experiment --- that tracks a new feature release for a product. The data contains the `treatment` variable (1 for having the feature enabled, and 0 for having the feature distabled), the `engagement` of the users (in minutes), and some other characteristics about the users.\n",
    "\n",
    "First, download the data."
   ]
  },
  {
   "cell_type": "code",
   "execution_count": 2,
   "metadata": {
    "colab": {
     "base_uri": "https://localhost:8080/"
    },
    "id": "v9eQduyyvOit",
    "outputId": "aeceaf5f-aad2-4a97-eddb-15550b40bcae"
   },
   "outputs": [
    {
     "name": "stdout",
     "output_type": "stream",
     "text": [
      "--2024-03-05 20:02:26--  https://www.dropbox.com/s/i288i9my64ee4mh/ab_experiment_engagement_data.csv?dl=0\n",
      "Resolving www.dropbox.com (www.dropbox.com)... 162.125.2.18, 2620:100:6021:18::a27d:4112\n",
      "Connecting to www.dropbox.com (www.dropbox.com)|162.125.2.18|:443... connected.\n",
      "HTTP request sent, awaiting response... 302 Found\n",
      "Location: /s/raw/i288i9my64ee4mh/ab_experiment_engagement_data.csv [following]\n",
      "--2024-03-05 20:02:27--  https://www.dropbox.com/s/raw/i288i9my64ee4mh/ab_experiment_engagement_data.csv\n",
      "Reusing existing connection to www.dropbox.com:443.\n",
      "HTTP request sent, awaiting response... 302 Found\n",
      "Location: https://uc946a04f3aba3075832fe46bde0.dl.dropboxusercontent.com/cd/0/inline/COjM88lhBFlaUC4LRknpGVCJLBBYmbm9YpwMKdglEV-pUdQHexjdfetWD_5ERSJ6D_SM3_7ooCIwt8c1MnXOr7IREypkjDrMBmjTZfsBQhqI7qj2yvdKaAp7nIwWDJJauok/file# [following]\n",
      "--2024-03-05 20:02:27--  https://uc946a04f3aba3075832fe46bde0.dl.dropboxusercontent.com/cd/0/inline/COjM88lhBFlaUC4LRknpGVCJLBBYmbm9YpwMKdglEV-pUdQHexjdfetWD_5ERSJ6D_SM3_7ooCIwt8c1MnXOr7IREypkjDrMBmjTZfsBQhqI7qj2yvdKaAp7nIwWDJJauok/file\n",
      "Resolving uc946a04f3aba3075832fe46bde0.dl.dropboxusercontent.com (uc946a04f3aba3075832fe46bde0.dl.dropboxusercontent.com)... 162.125.2.15, 2620:100:6017:15::a27d:20f\n",
      "Connecting to uc946a04f3aba3075832fe46bde0.dl.dropboxusercontent.com (uc946a04f3aba3075832fe46bde0.dl.dropboxusercontent.com)|162.125.2.15|:443... connected.\n",
      "HTTP request sent, awaiting response... 200 OK\n",
      "Length: 83019 (81K) [text/plain]\n",
      "Saving to: ‘experiment_data.csv’\n",
      "\n",
      "experiment_data.csv 100%[===================>]  81.07K  --.-KB/s    in 0.02s   \n",
      "\n",
      "2024-03-05 20:02:27 (5.11 MB/s) - ‘experiment_data.csv’ saved [83019/83019]\n",
      "\n"
     ]
    }
   ],
   "source": [
    "!wget -O experiment_data.csv https://www.dropbox.com/s/i288i9my64ee4mh/ab_experiment_engagement_data.csv?dl=0"
   ]
  },
  {
   "cell_type": "markdown",
   "metadata": {
    "id": "6BxHIuYZdXkZ"
   },
   "source": [
    "Load the data."
   ]
  },
  {
   "cell_type": "code",
   "execution_count": 3,
   "metadata": {
    "colab": {
     "base_uri": "https://localhost:8080/",
     "height": 159
    },
    "id": "5h-K1RPqa4BE",
    "outputId": "bac62d7f-7d63-4119-8b79-9adb45bdfb21"
   },
   "outputs": [
    {
     "name": "stdout",
     "output_type": "stream",
     "text": [
      "The first three rows of the data are:\n"
     ]
    },
    {
     "data": {
      "application/vnd.google.colaboratory.intrinsic+json": {
       "summary": "{\n  \"name\": \"experiment_data\",\n  \"rows\": 1800,\n  \"fields\": [\n    {\n      \"column\": \"treatment\",\n      \"properties\": {\n        \"dtype\": \"number\",\n        \"std\": 0.49704208142612866,\n        \"min\": 0.0,\n        \"max\": 1.0,\n        \"num_unique_values\": 2,\n        \"samples\": [\n          1.0,\n          0.0\n        ],\n        \"semantic_type\": \"\",\n        \"description\": \"\"\n      }\n    },\n    {\n      \"column\": \"age\",\n      \"properties\": {\n        \"dtype\": \"number\",\n        \"std\": 3.9338931363826286,\n        \"min\": 17.81542778080029,\n        \"max\": 42.68389909316072,\n        \"num_unique_values\": 1800,\n        \"samples\": [\n          29.858813041588338,\n          41.03742045608633\n        ],\n        \"semantic_type\": \"\",\n        \"description\": \"\"\n      }\n    },\n    {\n      \"column\": \"friend_cnt\",\n      \"properties\": {\n        \"dtype\": \"number\",\n        \"std\": 7.806994084167521,\n        \"min\": 15.0,\n        \"max\": 70.0,\n        \"num_unique_values\": 51,\n        \"samples\": [\n          22.0,\n          19.0\n        ],\n        \"semantic_type\": \"\",\n        \"description\": \"\"\n      }\n    },\n    {\n      \"column\": \"engagement\",\n      \"properties\": {\n        \"dtype\": \"number\",\n        \"std\": 5.295282011654212,\n        \"min\": 0.1057213494669535,\n        \"max\": 38.89206690934325,\n        \"num_unique_values\": 1800,\n        \"samples\": [\n          19.53786237060744,\n          15.976710462684956\n        ],\n        \"semantic_type\": \"\",\n        \"description\": \"\"\n      }\n    }\n  ]\n}",
       "type": "dataframe",
       "variable_name": "experiment_data"
      },
      "text/html": [
       "\n",
       "  <div id=\"df-d9ef2be2-260c-4d64-add1-25d0095e287c\" class=\"colab-df-container\">\n",
       "    <div>\n",
       "<style scoped>\n",
       "    .dataframe tbody tr th:only-of-type {\n",
       "        vertical-align: middle;\n",
       "    }\n",
       "\n",
       "    .dataframe tbody tr th {\n",
       "        vertical-align: top;\n",
       "    }\n",
       "\n",
       "    .dataframe thead th {\n",
       "        text-align: right;\n",
       "    }\n",
       "</style>\n",
       "<table border=\"1\" class=\"dataframe\">\n",
       "  <thead>\n",
       "    <tr style=\"text-align: right;\">\n",
       "      <th></th>\n",
       "      <th>treatment</th>\n",
       "      <th>age</th>\n",
       "      <th>friend_cnt</th>\n",
       "      <th>engagement</th>\n",
       "    </tr>\n",
       "  </thead>\n",
       "  <tbody>\n",
       "    <tr>\n",
       "      <th>0</th>\n",
       "      <td>0.0</td>\n",
       "      <td>37.056209</td>\n",
       "      <td>47.0</td>\n",
       "      <td>21.036701</td>\n",
       "    </tr>\n",
       "    <tr>\n",
       "      <th>1</th>\n",
       "      <td>0.0</td>\n",
       "      <td>31.600629</td>\n",
       "      <td>38.0</td>\n",
       "      <td>17.321933</td>\n",
       "    </tr>\n",
       "    <tr>\n",
       "      <th>2</th>\n",
       "      <td>0.0</td>\n",
       "      <td>33.914952</td>\n",
       "      <td>51.0</td>\n",
       "      <td>22.148228</td>\n",
       "    </tr>\n",
       "  </tbody>\n",
       "</table>\n",
       "</div>\n",
       "    <div class=\"colab-df-buttons\">\n",
       "\n",
       "  <div class=\"colab-df-container\">\n",
       "    <button class=\"colab-df-convert\" onclick=\"convertToInteractive('df-d9ef2be2-260c-4d64-add1-25d0095e287c')\"\n",
       "            title=\"Convert this dataframe to an interactive table.\"\n",
       "            style=\"display:none;\">\n",
       "\n",
       "  <svg xmlns=\"http://www.w3.org/2000/svg\" height=\"24px\" viewBox=\"0 -960 960 960\">\n",
       "    <path d=\"M120-120v-720h720v720H120Zm60-500h600v-160H180v160Zm220 220h160v-160H400v160Zm0 220h160v-160H400v160ZM180-400h160v-160H180v160Zm440 0h160v-160H620v160ZM180-180h160v-160H180v160Zm440 0h160v-160H620v160Z\"/>\n",
       "  </svg>\n",
       "    </button>\n",
       "\n",
       "  <style>\n",
       "    .colab-df-container {\n",
       "      display:flex;\n",
       "      gap: 12px;\n",
       "    }\n",
       "\n",
       "    .colab-df-convert {\n",
       "      background-color: #E8F0FE;\n",
       "      border: none;\n",
       "      border-radius: 50%;\n",
       "      cursor: pointer;\n",
       "      display: none;\n",
       "      fill: #1967D2;\n",
       "      height: 32px;\n",
       "      padding: 0 0 0 0;\n",
       "      width: 32px;\n",
       "    }\n",
       "\n",
       "    .colab-df-convert:hover {\n",
       "      background-color: #E2EBFA;\n",
       "      box-shadow: 0px 1px 2px rgba(60, 64, 67, 0.3), 0px 1px 3px 1px rgba(60, 64, 67, 0.15);\n",
       "      fill: #174EA6;\n",
       "    }\n",
       "\n",
       "    .colab-df-buttons div {\n",
       "      margin-bottom: 4px;\n",
       "    }\n",
       "\n",
       "    [theme=dark] .colab-df-convert {\n",
       "      background-color: #3B4455;\n",
       "      fill: #D2E3FC;\n",
       "    }\n",
       "\n",
       "    [theme=dark] .colab-df-convert:hover {\n",
       "      background-color: #434B5C;\n",
       "      box-shadow: 0px 1px 3px 1px rgba(0, 0, 0, 0.15);\n",
       "      filter: drop-shadow(0px 1px 2px rgba(0, 0, 0, 0.3));\n",
       "      fill: #FFFFFF;\n",
       "    }\n",
       "  </style>\n",
       "\n",
       "    <script>\n",
       "      const buttonEl =\n",
       "        document.querySelector('#df-d9ef2be2-260c-4d64-add1-25d0095e287c button.colab-df-convert');\n",
       "      buttonEl.style.display =\n",
       "        google.colab.kernel.accessAllowed ? 'block' : 'none';\n",
       "\n",
       "      async function convertToInteractive(key) {\n",
       "        const element = document.querySelector('#df-d9ef2be2-260c-4d64-add1-25d0095e287c');\n",
       "        const dataTable =\n",
       "          await google.colab.kernel.invokeFunction('convertToInteractive',\n",
       "                                                    [key], {});\n",
       "        if (!dataTable) return;\n",
       "\n",
       "        const docLinkHtml = 'Like what you see? Visit the ' +\n",
       "          '<a target=\"_blank\" href=https://colab.research.google.com/notebooks/data_table.ipynb>data table notebook</a>'\n",
       "          + ' to learn more about interactive tables.';\n",
       "        element.innerHTML = '';\n",
       "        dataTable['output_type'] = 'display_data';\n",
       "        await google.colab.output.renderOutput(dataTable, element);\n",
       "        const docLink = document.createElement('div');\n",
       "        docLink.innerHTML = docLinkHtml;\n",
       "        element.appendChild(docLink);\n",
       "      }\n",
       "    </script>\n",
       "  </div>\n",
       "\n",
       "\n",
       "<div id=\"df-2fc1cb5c-d670-4f82-b58b-bfed5ce23683\">\n",
       "  <button class=\"colab-df-quickchart\" onclick=\"quickchart('df-2fc1cb5c-d670-4f82-b58b-bfed5ce23683')\"\n",
       "            title=\"Suggest charts\"\n",
       "            style=\"display:none;\">\n",
       "\n",
       "<svg xmlns=\"http://www.w3.org/2000/svg\" height=\"24px\"viewBox=\"0 0 24 24\"\n",
       "     width=\"24px\">\n",
       "    <g>\n",
       "        <path d=\"M19 3H5c-1.1 0-2 .9-2 2v14c0 1.1.9 2 2 2h14c1.1 0 2-.9 2-2V5c0-1.1-.9-2-2-2zM9 17H7v-7h2v7zm4 0h-2V7h2v10zm4 0h-2v-4h2v4z\"/>\n",
       "    </g>\n",
       "</svg>\n",
       "  </button>\n",
       "\n",
       "<style>\n",
       "  .colab-df-quickchart {\n",
       "      --bg-color: #E8F0FE;\n",
       "      --fill-color: #1967D2;\n",
       "      --hover-bg-color: #E2EBFA;\n",
       "      --hover-fill-color: #174EA6;\n",
       "      --disabled-fill-color: #AAA;\n",
       "      --disabled-bg-color: #DDD;\n",
       "  }\n",
       "\n",
       "  [theme=dark] .colab-df-quickchart {\n",
       "      --bg-color: #3B4455;\n",
       "      --fill-color: #D2E3FC;\n",
       "      --hover-bg-color: #434B5C;\n",
       "      --hover-fill-color: #FFFFFF;\n",
       "      --disabled-bg-color: #3B4455;\n",
       "      --disabled-fill-color: #666;\n",
       "  }\n",
       "\n",
       "  .colab-df-quickchart {\n",
       "    background-color: var(--bg-color);\n",
       "    border: none;\n",
       "    border-radius: 50%;\n",
       "    cursor: pointer;\n",
       "    display: none;\n",
       "    fill: var(--fill-color);\n",
       "    height: 32px;\n",
       "    padding: 0;\n",
       "    width: 32px;\n",
       "  }\n",
       "\n",
       "  .colab-df-quickchart:hover {\n",
       "    background-color: var(--hover-bg-color);\n",
       "    box-shadow: 0 1px 2px rgba(60, 64, 67, 0.3), 0 1px 3px 1px rgba(60, 64, 67, 0.15);\n",
       "    fill: var(--button-hover-fill-color);\n",
       "  }\n",
       "\n",
       "  .colab-df-quickchart-complete:disabled,\n",
       "  .colab-df-quickchart-complete:disabled:hover {\n",
       "    background-color: var(--disabled-bg-color);\n",
       "    fill: var(--disabled-fill-color);\n",
       "    box-shadow: none;\n",
       "  }\n",
       "\n",
       "  .colab-df-spinner {\n",
       "    border: 2px solid var(--fill-color);\n",
       "    border-color: transparent;\n",
       "    border-bottom-color: var(--fill-color);\n",
       "    animation:\n",
       "      spin 1s steps(1) infinite;\n",
       "  }\n",
       "\n",
       "  @keyframes spin {\n",
       "    0% {\n",
       "      border-color: transparent;\n",
       "      border-bottom-color: var(--fill-color);\n",
       "      border-left-color: var(--fill-color);\n",
       "    }\n",
       "    20% {\n",
       "      border-color: transparent;\n",
       "      border-left-color: var(--fill-color);\n",
       "      border-top-color: var(--fill-color);\n",
       "    }\n",
       "    30% {\n",
       "      border-color: transparent;\n",
       "      border-left-color: var(--fill-color);\n",
       "      border-top-color: var(--fill-color);\n",
       "      border-right-color: var(--fill-color);\n",
       "    }\n",
       "    40% {\n",
       "      border-color: transparent;\n",
       "      border-right-color: var(--fill-color);\n",
       "      border-top-color: var(--fill-color);\n",
       "    }\n",
       "    60% {\n",
       "      border-color: transparent;\n",
       "      border-right-color: var(--fill-color);\n",
       "    }\n",
       "    80% {\n",
       "      border-color: transparent;\n",
       "      border-right-color: var(--fill-color);\n",
       "      border-bottom-color: var(--fill-color);\n",
       "    }\n",
       "    90% {\n",
       "      border-color: transparent;\n",
       "      border-bottom-color: var(--fill-color);\n",
       "    }\n",
       "  }\n",
       "</style>\n",
       "\n",
       "  <script>\n",
       "    async function quickchart(key) {\n",
       "      const quickchartButtonEl =\n",
       "        document.querySelector('#' + key + ' button');\n",
       "      quickchartButtonEl.disabled = true;  // To prevent multiple clicks.\n",
       "      quickchartButtonEl.classList.add('colab-df-spinner');\n",
       "      try {\n",
       "        const charts = await google.colab.kernel.invokeFunction(\n",
       "            'suggestCharts', [key], {});\n",
       "      } catch (error) {\n",
       "        console.error('Error during call to suggestCharts:', error);\n",
       "      }\n",
       "      quickchartButtonEl.classList.remove('colab-df-spinner');\n",
       "      quickchartButtonEl.classList.add('colab-df-quickchart-complete');\n",
       "    }\n",
       "    (() => {\n",
       "      let quickchartButtonEl =\n",
       "        document.querySelector('#df-2fc1cb5c-d670-4f82-b58b-bfed5ce23683 button');\n",
       "      quickchartButtonEl.style.display =\n",
       "        google.colab.kernel.accessAllowed ? 'block' : 'none';\n",
       "    })();\n",
       "  </script>\n",
       "</div>\n",
       "    </div>\n",
       "  </div>\n"
      ],
      "text/plain": [
       "   treatment        age  friend_cnt  engagement\n",
       "0        0.0  37.056209        47.0   21.036701\n",
       "1        0.0  31.600629        38.0   17.321933\n",
       "2        0.0  33.914952        51.0   22.148228"
      ]
     },
     "execution_count": 3,
     "metadata": {},
     "output_type": "execute_result"
    }
   ],
   "source": [
    "experiment_data = pd.read_csv(\"./experiment_data.csv\")\n",
    "\n",
    "print(\"The first three rows of the data are:\")\n",
    "experiment_data.head(3)"
   ]
  },
  {
   "cell_type": "markdown",
   "metadata": {
    "id": "9reytkuJdY5x"
   },
   "source": [
    "Check some of the statistics in the dataset."
   ]
  },
  {
   "cell_type": "code",
   "execution_count": 4,
   "metadata": {
    "colab": {
     "base_uri": "https://localhost:8080/",
     "height": 297
    },
    "id": "GuoOXSF4vTAd",
    "outputId": "f23b19f8-462a-4422-ed52-eed022ce9855"
   },
   "outputs": [
    {
     "data": {
      "application/vnd.google.colaboratory.intrinsic+json": {
       "summary": "{\n  \"name\": \"experiment_data\",\n  \"rows\": 8,\n  \"fields\": [\n    {\n      \"column\": \"treatment\",\n      \"properties\": {\n        \"dtype\": \"number\",\n        \"std\": 636.2476712393174,\n        \"min\": 0.0,\n        \"max\": 1800.0,\n        \"num_unique_values\": 5,\n        \"samples\": [\n          0.4444444444444444,\n          1.0,\n          0.49704208142612866\n        ],\n        \"semantic_type\": \"\",\n        \"description\": \"\"\n      }\n    },\n    {\n      \"column\": \"age\",\n      \"properties\": {\n        \"dtype\": \"number\",\n        \"std\": 627.2011278864722,\n        \"min\": 3.9338931363826286,\n        \"max\": 1800.0,\n        \"num_unique_values\": 8,\n        \"samples\": [\n          29.944523169074753,\n          29.96426576239496,\n          1800.0\n        ],\n        \"semantic_type\": \"\",\n        \"description\": \"\"\n      }\n    },\n    {\n      \"column\": \"friend_cnt\",\n      \"properties\": {\n        \"dtype\": \"number\",\n        \"std\": 623.9797697977191,\n        \"min\": 7.806994084167521,\n        \"max\": 1800.0,\n        \"num_unique_values\": 8,\n        \"samples\": [\n          39.70611111111111,\n          40.0,\n          1800.0\n        ],\n        \"semantic_type\": \"\",\n        \"description\": \"\"\n      }\n    },\n    {\n      \"column\": \"engagement\",\n      \"properties\": {\n        \"dtype\": \"number\",\n        \"std\": 630.0624900579867,\n        \"min\": 0.1057213494669535,\n        \"max\": 1800.0,\n        \"num_unique_values\": 8,\n        \"samples\": [\n          20.873575846973026,\n          20.791688485035554,\n          1800.0\n        ],\n        \"semantic_type\": \"\",\n        \"description\": \"\"\n      }\n    }\n  ]\n}",
       "type": "dataframe"
      },
      "text/html": [
       "\n",
       "  <div id=\"df-1bbde970-aa73-4e79-bcda-8db788e036ea\" class=\"colab-df-container\">\n",
       "    <div>\n",
       "<style scoped>\n",
       "    .dataframe tbody tr th:only-of-type {\n",
       "        vertical-align: middle;\n",
       "    }\n",
       "\n",
       "    .dataframe tbody tr th {\n",
       "        vertical-align: top;\n",
       "    }\n",
       "\n",
       "    .dataframe thead th {\n",
       "        text-align: right;\n",
       "    }\n",
       "</style>\n",
       "<table border=\"1\" class=\"dataframe\">\n",
       "  <thead>\n",
       "    <tr style=\"text-align: right;\">\n",
       "      <th></th>\n",
       "      <th>treatment</th>\n",
       "      <th>age</th>\n",
       "      <th>friend_cnt</th>\n",
       "      <th>engagement</th>\n",
       "    </tr>\n",
       "  </thead>\n",
       "  <tbody>\n",
       "    <tr>\n",
       "      <th>count</th>\n",
       "      <td>1800.000000</td>\n",
       "      <td>1800.000000</td>\n",
       "      <td>1800.000000</td>\n",
       "      <td>1800.000000</td>\n",
       "    </tr>\n",
       "    <tr>\n",
       "      <th>mean</th>\n",
       "      <td>0.444444</td>\n",
       "      <td>29.944523</td>\n",
       "      <td>39.706111</td>\n",
       "      <td>20.873576</td>\n",
       "    </tr>\n",
       "    <tr>\n",
       "      <th>std</th>\n",
       "      <td>0.497042</td>\n",
       "      <td>3.933893</td>\n",
       "      <td>7.806994</td>\n",
       "      <td>5.295282</td>\n",
       "    </tr>\n",
       "    <tr>\n",
       "      <th>min</th>\n",
       "      <td>0.000000</td>\n",
       "      <td>17.815428</td>\n",
       "      <td>15.000000</td>\n",
       "      <td>0.105721</td>\n",
       "    </tr>\n",
       "    <tr>\n",
       "      <th>25%</th>\n",
       "      <td>0.000000</td>\n",
       "      <td>27.258271</td>\n",
       "      <td>34.000000</td>\n",
       "      <td>17.191072</td>\n",
       "    </tr>\n",
       "    <tr>\n",
       "      <th>50%</th>\n",
       "      <td>0.000000</td>\n",
       "      <td>29.964266</td>\n",
       "      <td>40.000000</td>\n",
       "      <td>20.791688</td>\n",
       "    </tr>\n",
       "    <tr>\n",
       "      <th>75%</th>\n",
       "      <td>1.000000</td>\n",
       "      <td>32.495479</td>\n",
       "      <td>45.000000</td>\n",
       "      <td>24.440430</td>\n",
       "    </tr>\n",
       "    <tr>\n",
       "      <th>max</th>\n",
       "      <td>1.000000</td>\n",
       "      <td>42.683899</td>\n",
       "      <td>70.000000</td>\n",
       "      <td>38.892067</td>\n",
       "    </tr>\n",
       "  </tbody>\n",
       "</table>\n",
       "</div>\n",
       "    <div class=\"colab-df-buttons\">\n",
       "\n",
       "  <div class=\"colab-df-container\">\n",
       "    <button class=\"colab-df-convert\" onclick=\"convertToInteractive('df-1bbde970-aa73-4e79-bcda-8db788e036ea')\"\n",
       "            title=\"Convert this dataframe to an interactive table.\"\n",
       "            style=\"display:none;\">\n",
       "\n",
       "  <svg xmlns=\"http://www.w3.org/2000/svg\" height=\"24px\" viewBox=\"0 -960 960 960\">\n",
       "    <path d=\"M120-120v-720h720v720H120Zm60-500h600v-160H180v160Zm220 220h160v-160H400v160Zm0 220h160v-160H400v160ZM180-400h160v-160H180v160Zm440 0h160v-160H620v160ZM180-180h160v-160H180v160Zm440 0h160v-160H620v160Z\"/>\n",
       "  </svg>\n",
       "    </button>\n",
       "\n",
       "  <style>\n",
       "    .colab-df-container {\n",
       "      display:flex;\n",
       "      gap: 12px;\n",
       "    }\n",
       "\n",
       "    .colab-df-convert {\n",
       "      background-color: #E8F0FE;\n",
       "      border: none;\n",
       "      border-radius: 50%;\n",
       "      cursor: pointer;\n",
       "      display: none;\n",
       "      fill: #1967D2;\n",
       "      height: 32px;\n",
       "      padding: 0 0 0 0;\n",
       "      width: 32px;\n",
       "    }\n",
       "\n",
       "    .colab-df-convert:hover {\n",
       "      background-color: #E2EBFA;\n",
       "      box-shadow: 0px 1px 2px rgba(60, 64, 67, 0.3), 0px 1px 3px 1px rgba(60, 64, 67, 0.15);\n",
       "      fill: #174EA6;\n",
       "    }\n",
       "\n",
       "    .colab-df-buttons div {\n",
       "      margin-bottom: 4px;\n",
       "    }\n",
       "\n",
       "    [theme=dark] .colab-df-convert {\n",
       "      background-color: #3B4455;\n",
       "      fill: #D2E3FC;\n",
       "    }\n",
       "\n",
       "    [theme=dark] .colab-df-convert:hover {\n",
       "      background-color: #434B5C;\n",
       "      box-shadow: 0px 1px 3px 1px rgba(0, 0, 0, 0.15);\n",
       "      filter: drop-shadow(0px 1px 2px rgba(0, 0, 0, 0.3));\n",
       "      fill: #FFFFFF;\n",
       "    }\n",
       "  </style>\n",
       "\n",
       "    <script>\n",
       "      const buttonEl =\n",
       "        document.querySelector('#df-1bbde970-aa73-4e79-bcda-8db788e036ea button.colab-df-convert');\n",
       "      buttonEl.style.display =\n",
       "        google.colab.kernel.accessAllowed ? 'block' : 'none';\n",
       "\n",
       "      async function convertToInteractive(key) {\n",
       "        const element = document.querySelector('#df-1bbde970-aa73-4e79-bcda-8db788e036ea');\n",
       "        const dataTable =\n",
       "          await google.colab.kernel.invokeFunction('convertToInteractive',\n",
       "                                                    [key], {});\n",
       "        if (!dataTable) return;\n",
       "\n",
       "        const docLinkHtml = 'Like what you see? Visit the ' +\n",
       "          '<a target=\"_blank\" href=https://colab.research.google.com/notebooks/data_table.ipynb>data table notebook</a>'\n",
       "          + ' to learn more about interactive tables.';\n",
       "        element.innerHTML = '';\n",
       "        dataTable['output_type'] = 'display_data';\n",
       "        await google.colab.output.renderOutput(dataTable, element);\n",
       "        const docLink = document.createElement('div');\n",
       "        docLink.innerHTML = docLinkHtml;\n",
       "        element.appendChild(docLink);\n",
       "      }\n",
       "    </script>\n",
       "  </div>\n",
       "\n",
       "\n",
       "<div id=\"df-4ca258f5-cddf-4968-830f-723106fb1d3b\">\n",
       "  <button class=\"colab-df-quickchart\" onclick=\"quickchart('df-4ca258f5-cddf-4968-830f-723106fb1d3b')\"\n",
       "            title=\"Suggest charts\"\n",
       "            style=\"display:none;\">\n",
       "\n",
       "<svg xmlns=\"http://www.w3.org/2000/svg\" height=\"24px\"viewBox=\"0 0 24 24\"\n",
       "     width=\"24px\">\n",
       "    <g>\n",
       "        <path d=\"M19 3H5c-1.1 0-2 .9-2 2v14c0 1.1.9 2 2 2h14c1.1 0 2-.9 2-2V5c0-1.1-.9-2-2-2zM9 17H7v-7h2v7zm4 0h-2V7h2v10zm4 0h-2v-4h2v4z\"/>\n",
       "    </g>\n",
       "</svg>\n",
       "  </button>\n",
       "\n",
       "<style>\n",
       "  .colab-df-quickchart {\n",
       "      --bg-color: #E8F0FE;\n",
       "      --fill-color: #1967D2;\n",
       "      --hover-bg-color: #E2EBFA;\n",
       "      --hover-fill-color: #174EA6;\n",
       "      --disabled-fill-color: #AAA;\n",
       "      --disabled-bg-color: #DDD;\n",
       "  }\n",
       "\n",
       "  [theme=dark] .colab-df-quickchart {\n",
       "      --bg-color: #3B4455;\n",
       "      --fill-color: #D2E3FC;\n",
       "      --hover-bg-color: #434B5C;\n",
       "      --hover-fill-color: #FFFFFF;\n",
       "      --disabled-bg-color: #3B4455;\n",
       "      --disabled-fill-color: #666;\n",
       "  }\n",
       "\n",
       "  .colab-df-quickchart {\n",
       "    background-color: var(--bg-color);\n",
       "    border: none;\n",
       "    border-radius: 50%;\n",
       "    cursor: pointer;\n",
       "    display: none;\n",
       "    fill: var(--fill-color);\n",
       "    height: 32px;\n",
       "    padding: 0;\n",
       "    width: 32px;\n",
       "  }\n",
       "\n",
       "  .colab-df-quickchart:hover {\n",
       "    background-color: var(--hover-bg-color);\n",
       "    box-shadow: 0 1px 2px rgba(60, 64, 67, 0.3), 0 1px 3px 1px rgba(60, 64, 67, 0.15);\n",
       "    fill: var(--button-hover-fill-color);\n",
       "  }\n",
       "\n",
       "  .colab-df-quickchart-complete:disabled,\n",
       "  .colab-df-quickchart-complete:disabled:hover {\n",
       "    background-color: var(--disabled-bg-color);\n",
       "    fill: var(--disabled-fill-color);\n",
       "    box-shadow: none;\n",
       "  }\n",
       "\n",
       "  .colab-df-spinner {\n",
       "    border: 2px solid var(--fill-color);\n",
       "    border-color: transparent;\n",
       "    border-bottom-color: var(--fill-color);\n",
       "    animation:\n",
       "      spin 1s steps(1) infinite;\n",
       "  }\n",
       "\n",
       "  @keyframes spin {\n",
       "    0% {\n",
       "      border-color: transparent;\n",
       "      border-bottom-color: var(--fill-color);\n",
       "      border-left-color: var(--fill-color);\n",
       "    }\n",
       "    20% {\n",
       "      border-color: transparent;\n",
       "      border-left-color: var(--fill-color);\n",
       "      border-top-color: var(--fill-color);\n",
       "    }\n",
       "    30% {\n",
       "      border-color: transparent;\n",
       "      border-left-color: var(--fill-color);\n",
       "      border-top-color: var(--fill-color);\n",
       "      border-right-color: var(--fill-color);\n",
       "    }\n",
       "    40% {\n",
       "      border-color: transparent;\n",
       "      border-right-color: var(--fill-color);\n",
       "      border-top-color: var(--fill-color);\n",
       "    }\n",
       "    60% {\n",
       "      border-color: transparent;\n",
       "      border-right-color: var(--fill-color);\n",
       "    }\n",
       "    80% {\n",
       "      border-color: transparent;\n",
       "      border-right-color: var(--fill-color);\n",
       "      border-bottom-color: var(--fill-color);\n",
       "    }\n",
       "    90% {\n",
       "      border-color: transparent;\n",
       "      border-bottom-color: var(--fill-color);\n",
       "    }\n",
       "  }\n",
       "</style>\n",
       "\n",
       "  <script>\n",
       "    async function quickchart(key) {\n",
       "      const quickchartButtonEl =\n",
       "        document.querySelector('#' + key + ' button');\n",
       "      quickchartButtonEl.disabled = true;  // To prevent multiple clicks.\n",
       "      quickchartButtonEl.classList.add('colab-df-spinner');\n",
       "      try {\n",
       "        const charts = await google.colab.kernel.invokeFunction(\n",
       "            'suggestCharts', [key], {});\n",
       "      } catch (error) {\n",
       "        console.error('Error during call to suggestCharts:', error);\n",
       "      }\n",
       "      quickchartButtonEl.classList.remove('colab-df-spinner');\n",
       "      quickchartButtonEl.classList.add('colab-df-quickchart-complete');\n",
       "    }\n",
       "    (() => {\n",
       "      let quickchartButtonEl =\n",
       "        document.querySelector('#df-4ca258f5-cddf-4968-830f-723106fb1d3b button');\n",
       "      quickchartButtonEl.style.display =\n",
       "        google.colab.kernel.accessAllowed ? 'block' : 'none';\n",
       "    })();\n",
       "  </script>\n",
       "</div>\n",
       "    </div>\n",
       "  </div>\n"
      ],
      "text/plain": [
       "         treatment          age   friend_cnt   engagement\n",
       "count  1800.000000  1800.000000  1800.000000  1800.000000\n",
       "mean      0.444444    29.944523    39.706111    20.873576\n",
       "std       0.497042     3.933893     7.806994     5.295282\n",
       "min       0.000000    17.815428    15.000000     0.105721\n",
       "25%       0.000000    27.258271    34.000000    17.191072\n",
       "50%       0.000000    29.964266    40.000000    20.791688\n",
       "75%       1.000000    32.495479    45.000000    24.440430\n",
       "max       1.000000    42.683899    70.000000    38.892067"
      ]
     },
     "execution_count": 4,
     "metadata": {},
     "output_type": "execute_result"
    }
   ],
   "source": [
    "experiment_data.describe()"
   ]
  },
  {
   "cell_type": "code",
   "execution_count": null,
   "metadata": {
    "id": "6hZy21gjN_Ci"
   },
   "outputs": [],
   "source": []
  },
  {
   "cell_type": "markdown",
   "metadata": {
    "id": "Z5hoAtjydk1E"
   },
   "source": [
    "##Estimate Average Treatment Effect (ATE)\n",
    "\n",
    "Compute the average treatment effect for enabling the feature for the users."
   ]
  },
  {
   "cell_type": "code",
   "execution_count": 5,
   "metadata": {
    "colab": {
     "base_uri": "https://localhost:8080/"
    },
    "id": "m7w7gGM2vVOI",
    "outputId": "aa5f7842-0076-401b-c247-54bde341fb98"
   },
   "outputs": [
    {
     "name": "stdout",
     "output_type": "stream",
     "text": [
      "Control average outcome:  18.473860162402563\n",
      "Treatment average outcome:  23.873220452686102\n",
      "Estimated ATE is:  5.399360290283539\n"
     ]
    }
   ],
   "source": [
    "# TODO: Assign the right values to control_mean_engagement,\n",
    "#       treatment_mean_engagement, and ate\n",
    "control_data = experiment_data[experiment_data.treatment == 0]\n",
    "treatment_data = experiment_data[experiment_data.treatment == 1]\n",
    "\n",
    "control_mean_engagement = np.mean(control_data.engagement)\n",
    "treatment_mean_engagement = np.mean(treatment_data.engagement)\n",
    "ate = treatment_mean_engagement - control_mean_engagement\n",
    "# END OF TODO\n",
    "\n",
    "print(\"Control average outcome: \", control_mean_engagement)\n",
    "print(\"Treatment average outcome: \", treatment_mean_engagement)\n",
    "print(\"Estimated ATE is: \", ate)"
   ]
  },
  {
   "cell_type": "markdown",
   "metadata": {
    "id": "f_kczxlveRX3"
   },
   "source": [
    "Test if the observed average treatment effect is statistically significant."
   ]
  },
  {
   "cell_type": "code",
   "execution_count": 6,
   "metadata": {
    "colab": {
     "base_uri": "https://localhost:8080/"
    },
    "id": "SNC8UGMHvYIo",
    "outputId": "f7c2cf3e-2c2a-4137-f8a7-52ef5c879cab"
   },
   "outputs": [
    {
     "name": "stdout",
     "output_type": "stream",
     "text": [
      "p-value for comparing the mean outcome between two groups is:  7.234859301282946e-116\n"
     ]
    }
   ],
   "source": [
    "# TODO: Assign the right values to p_val\n",
    "from scipy import stats\n",
    "\n",
    "t_stat, p_val = stats.ttest_ind(treatment_data.engagement,\n",
    "                                control_data.engagement,\n",
    "                                equal_var = False)\n",
    "\n",
    "# END OF TODO\n",
    "\n",
    "print(\"p-value for comparing the mean outcome between two groups is: \", p_val)"
   ]
  },
  {
   "cell_type": "markdown",
   "metadata": {
    "id": "jg1u34fkejrV"
   },
   "source": [
    "What can you say based on the previous computations about the relationship between having the feature enabled and engagement among the users?"
   ]
  },
  {
   "cell_type": "markdown",
   "metadata": {
    "id": "cNK6y4j1TKst"
   },
   "source": [
    "The value of the Average Treatment Effect tells us that users with the feature enabled are showing 5.399 units more of engagement than users without the feature enabled.\n",
    "\n",
    "The p-value being less than an alpha of 0.05 informs us that observed difference in mean for the two groups (treatment and control groups) is statistically significant."
   ]
  },
  {
   "cell_type": "markdown",
   "metadata": {
    "id": "ekvV_R-efDU9"
   },
   "source": [
    "##Linear Regression\n",
    "\n",
    "This time, let's use a linear regression model from `statsmodels` to estimate the average treatment effect. The regression model should only have the treatment variable as a feature."
   ]
  },
  {
   "cell_type": "code",
   "execution_count": 9,
   "metadata": {
    "colab": {
     "base_uri": "https://localhost:8080/"
    },
    "id": "gsaFDdCnvd7t",
    "outputId": "da7653a5-60dd-4e9a-8dbd-a3ae34422d4e"
   },
   "outputs": [
    {
     "name": "stdout",
     "output_type": "stream",
     "text": [
      "                            OLS Regression Results                            \n",
      "==============================================================================\n",
      "Dep. Variable:             engagement   R-squared:                       0.257\n",
      "Model:                            OLS   Adj. R-squared:                  0.256\n",
      "Method:                 Least Squares   F-statistic:                     621.5\n",
      "Date:                Tue, 05 Mar 2024   Prob (F-statistic):          4.60e-118\n",
      "Time:                        20:23:23   Log-Likelihood:                -5286.7\n",
      "No. Observations:                1800   AIC:                         1.058e+04\n",
      "Df Residuals:                    1798   BIC:                         1.059e+04\n",
      "Df Model:                           1                                         \n",
      "Covariance Type:            nonrobust                                         \n",
      "==============================================================================\n",
      "                 coef    std err          t      P>|t|      [0.025      0.975]\n",
      "------------------------------------------------------------------------------\n",
      "const         18.4739      0.144    127.942      0.000      18.191      18.757\n",
      "treatment      5.3994      0.217     24.929      0.000       4.975       5.824\n",
      "==============================================================================\n",
      "Omnibus:                        0.012   Durbin-Watson:                   1.906\n",
      "Prob(Omnibus):                  0.994   Jarque-Bera (JB):                0.007\n",
      "Skew:                           0.005   Prob(JB):                        0.996\n",
      "Kurtosis:                       2.998   Cond. No.                         2.51\n",
      "==============================================================================\n",
      "\n",
      "Notes:\n",
      "[1] Standard Errors assume that the covariance matrix of the errors is correctly specified.\n"
     ]
    }
   ],
   "source": [
    "# TODO: fit a simple linear regression to the data\n",
    "import statsmodels.api as sm\n",
    "y = experiment_data['engagement']\n",
    "X = experiment_data['treatment']\n",
    "\n",
    "X_with_intercept = sm.add_constant(X)\n",
    "\n",
    "model = sm.OLS(y, X_with_intercept).fit()\n",
    "# END OF TODO\n",
    "\n",
    "print(model.summary())"
   ]
  },
  {
   "cell_type": "markdown",
   "metadata": {
    "id": "L67keucTfscc"
   },
   "source": [
    "What can you say about the estimated effect and the statistical significance based on these results? Does the results from the linear regression model match our previous results?"
   ]
  },
  {
   "cell_type": "markdown",
   "metadata": {
    "id": "3oiT9drObP9K"
   },
   "source": [
    "We obtained a coefficient of 5.399, which indicates that users with the feature enabled show 5.399 units higher engagement compared to users without the feature enabled.\n",
    "\n",
    "We also obtain a very low p value associated with the treatment (0.000), indicating statistical significance.\n",
    "\n",
    "The results from the linear regression match our previous results."
   ]
  },
  {
   "cell_type": "markdown",
   "metadata": {
    "id": "9oJeD67Hf3B3"
   },
   "source": [
    "##Linear Regression with Additional Covariates\n",
    "\n",
    "This time, let's add the other features in the dataset (i.e., age and friend count) into the linear regression model and check how the results change."
   ]
  },
  {
   "cell_type": "code",
   "execution_count": 11,
   "metadata": {
    "colab": {
     "base_uri": "https://localhost:8080/"
    },
    "id": "bQHO3EI3vk07",
    "outputId": "8aa0abcc-b36b-453e-da3f-b1f886a612d4"
   },
   "outputs": [
    {
     "name": "stdout",
     "output_type": "stream",
     "text": [
      "                            OLS Regression Results                            \n",
      "==============================================================================\n",
      "Dep. Variable:             engagement   R-squared:                       0.858\n",
      "Model:                            OLS   Adj. R-squared:                  0.857\n",
      "Method:                 Least Squares   F-statistic:                     3607.\n",
      "Date:                Tue, 05 Mar 2024   Prob (F-statistic):               0.00\n",
      "Time:                        20:25:51   Log-Likelihood:                -3799.4\n",
      "No. Observations:                1800   AIC:                             7607.\n",
      "Df Residuals:                    1796   BIC:                             7629.\n",
      "Df Model:                           3                                         \n",
      "Covariance Type:            nonrobust                                         \n",
      "==============================================================================\n",
      "                 coef    std err          t      P>|t|      [0.025      0.975]\n",
      "------------------------------------------------------------------------------\n",
      "const          7.7387      0.425     18.219      0.000       6.906       8.572\n",
      "treatment      5.4650      0.095     57.580      0.000       5.279       5.651\n",
      "age           -0.3182      0.012    -26.493      0.000      -0.342      -0.295\n",
      "friend_cnt     0.5096      0.006     84.258      0.000       0.498       0.521\n",
      "==============================================================================\n",
      "Omnibus:                        1.388   Durbin-Watson:                   2.007\n",
      "Prob(Omnibus):                  0.500   Jarque-Bera (JB):                1.389\n",
      "Skew:                          -0.020   Prob(JB):                        0.499\n",
      "Kurtosis:                       2.870   Cond. No.                         453.\n",
      "==============================================================================\n",
      "\n",
      "Notes:\n",
      "[1] Standard Errors assume that the covariance matrix of the errors is correctly specified.\n"
     ]
    }
   ],
   "source": [
    "# TODO: fit a linear regression with all the provided covariates to the data\n",
    "import statsmodels.api as sm\n",
    "y = experiment_data['engagement']\n",
    "X = experiment_data[['treatment', 'age', 'friend_cnt']]\n",
    "\n",
    "X_with_intercept = sm.add_constant(X)\n",
    "\n",
    "model = sm.OLS(y, X_with_intercept).fit()\n",
    "# END OF TODO\n",
    "\n",
    "print(model.summary())"
   ]
  },
  {
   "cell_type": "markdown",
   "metadata": {
    "id": "uzi7E3Esgg2X"
   },
   "source": [
    "- How does the estimated ATE changes with the covariates added to the model? Explain your findings.\n",
    "- How does the confidence interval for ATE change in the new model? Explain your findings."
   ]
  },
  {
   "cell_type": "markdown",
   "metadata": {
    "id": "vZISN7budPVV"
   },
   "source": [
    "We can see that our treatment coefficient changes from 5.399 to 5.4650 with the addition of the covariates to the model, meaning that we see an increase in engagement from the previous model for those user with the feature enabled.\n",
    "\n",
    "We see that the confidence interval for the previous model was [4.975, 5.824] and the confidence interval for the covariate model is [5.279, 5.651] for treatment. The confidence interval is tighter compared to the previous model, indicating increased precision.\n",
    "\n"
   ]
  },
  {
   "cell_type": "code",
   "execution_count": null,
   "metadata": {
    "id": "Lmzio2l7hqsY"
   },
   "outputs": [],
   "source": []
  }
 ],
 "metadata": {
  "colab": {
   "provenance": []
  },
  "kernelspec": {
   "display_name": "Python 3 (ipykernel)",
   "language": "python",
   "name": "python3"
  },
  "language_info": {
   "codemirror_mode": {
    "name": "ipython",
    "version": 3
   },
   "file_extension": ".py",
   "mimetype": "text/x-python",
   "name": "python",
   "nbconvert_exporter": "python",
   "pygments_lexer": "ipython3",
   "version": "3.11.6"
  }
 },
 "nbformat": 4,
 "nbformat_minor": 4
}
