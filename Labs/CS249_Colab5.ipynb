{
 "cells": [
  {
   "cell_type": "markdown",
   "metadata": {
    "id": "a1iV7ShrajpK"
   },
   "source": [
    "**Due Date: Monday, February 26th, 11:59pm**\n",
    "\n",
    "- Save a copy of the notebook to your Google Drive. You can do that by going to the menu and clicking `File` > `Save` > `SAVE A COPY IN DRIVE`.\n",
    "- Fill out the missing parts and run the code modules.\n",
    "- Answer the questions (if any) in a separate document or by adding a new `Text` block inside the Colab.\n",
    "- Download the solved notebook by going to the menu and clicking `File` > `Download .ipynb`.\n",
    "- Make sure the downloaded version is showing your solutions.\n",
    "- Upload your solutions to BruinLearn (under \"Colab Assignment #5: Prediction - Classification\")."
   ]
  },
  {
   "cell_type": "code",
   "execution_count": 11,
   "metadata": {
    "id": "8gttap207s7V"
   },
   "outputs": [],
   "source": [
    "import numpy as np\n",
    "import pandas as pd\n",
    "import matplotlib.pyplot as plt\n",
    "from sklearn.model_selection import train_test_split\n",
    "from sklearn import metrics\n",
    "\n",
    "np.random.seed(0)"
   ]
  },
  {
   "cell_type": "markdown",
   "metadata": {
    "id": "0yMXGmqo7mvh"
   },
   "source": [
    "We are going to work with a dataset of credit card defaults in Taiwan. You can check the original dataset [here](https://archive.ics.uci.edu/ml/datasets/default+of+credit+card+clients). We download a cleaned and slightly modified version of this dataset to use here.\n"
   ]
  },
  {
   "cell_type": "code",
   "execution_count": 12,
   "metadata": {
    "colab": {
     "base_uri": "https://localhost:8080/",
     "height": 0
    },
    "id": "E3AidFSx7GNc",
    "outputId": "2cb8bd50-0128-435c-ce6a-5421feeee8f2"
   },
   "outputs": [
    {
     "name": "stdout",
     "output_type": "stream",
     "text": [
      "--2024-02-26 04:24:50--  https://www.dropbox.com/s/xy1jbcrfbj8lqps/credit_card_default_clean.csv?dl=0\n",
      "Resolving www.dropbox.com (www.dropbox.com)... 162.125.3.18, 2620:100:6018:18::a27d:312\n",
      "Connecting to www.dropbox.com (www.dropbox.com)|162.125.3.18|:443... connected.\n",
      "HTTP request sent, awaiting response... 302 Found\n",
      "Location: /s/raw/xy1jbcrfbj8lqps/credit_card_default_clean.csv [following]\n",
      "--2024-02-26 04:24:51--  https://www.dropbox.com/s/raw/xy1jbcrfbj8lqps/credit_card_default_clean.csv\n",
      "Reusing existing connection to www.dropbox.com:443.\n",
      "HTTP request sent, awaiting response... 302 Found\n",
      "Location: https://uc03bbe1006e9d1e77bbfb148f81.dl.dropboxusercontent.com/cd/0/inline/CN9n8W6_lj7IFeOYwoZ-UAo-IpFz8Nu_4yYBOiCXcQp9RbGl3C4uXTR_8f3H3hwUO2y__3J_lUKfzOa_xOY4U3r49AJXairt1RC0cqbLhT87IpOSZENhMykINxP9anCYEAg/file# [following]\n",
      "--2024-02-26 04:24:51--  https://uc03bbe1006e9d1e77bbfb148f81.dl.dropboxusercontent.com/cd/0/inline/CN9n8W6_lj7IFeOYwoZ-UAo-IpFz8Nu_4yYBOiCXcQp9RbGl3C4uXTR_8f3H3hwUO2y__3J_lUKfzOa_xOY4U3r49AJXairt1RC0cqbLhT87IpOSZENhMykINxP9anCYEAg/file\n",
      "Resolving uc03bbe1006e9d1e77bbfb148f81.dl.dropboxusercontent.com (uc03bbe1006e9d1e77bbfb148f81.dl.dropboxusercontent.com)... 162.125.3.15, 2620:100:6018:15::a27d:30f\n",
      "Connecting to uc03bbe1006e9d1e77bbfb148f81.dl.dropboxusercontent.com (uc03bbe1006e9d1e77bbfb148f81.dl.dropboxusercontent.com)|162.125.3.15|:443... connected.\n",
      "HTTP request sent, awaiting response... 200 OK\n",
      "Length: 1428011 (1.4M) [text/plain]\n",
      "Saving to: ‘credit_card_defaults_clean.csv’\n",
      "\n",
      "credit_card_default 100%[===================>]   1.36M  --.-KB/s    in 0.07s   \n",
      "\n",
      "2024-02-26 04:24:51 (20.0 MB/s) - ‘credit_card_defaults_clean.csv’ saved [1428011/1428011]\n",
      "\n"
     ]
    }
   ],
   "source": [
    "!wget -O credit_card_defaults_clean.csv https://www.dropbox.com/s/xy1jbcrfbj8lqps/credit_card_default_clean.csv?dl=0"
   ]
  },
  {
   "cell_type": "markdown",
   "metadata": {
    "id": "NCLWsAx_8-fk"
   },
   "source": [
    "Load the data."
   ]
  },
  {
   "cell_type": "code",
   "execution_count": 13,
   "metadata": {
    "colab": {
     "base_uri": "https://localhost:8080/",
     "height": 159
    },
    "id": "-DEJzJRv840X",
    "outputId": "9f04a7cc-57ac-457a-9c85-9bf08e8d2fb6"
   },
   "outputs": [
    {
     "name": "stdout",
     "output_type": "stream",
     "text": [
      "The first three rows of the data are:\n"
     ]
    },
    {
     "data": {
      "application/vnd.google.colaboratory.intrinsic+json": {
       "summary": "{\n  \"name\": \"default_data\",\n  \"rows\": 29601,\n  \"fields\": [\n    {\n      \"column\": \"limit_bal\",\n      \"properties\": {\n        \"dtype\": \"number\",\n        \"std\": 129944,\n        \"min\": 10000,\n        \"max\": 1000000,\n        \"num_unique_values\": 81,\n        \"samples\": [\n          340000,\n          20000,\n          40000\n        ],\n        \"semantic_type\": \"\",\n        \"description\": \"\"\n      }\n    },\n    {\n      \"column\": \"sex\",\n      \"properties\": {\n        \"dtype\": \"category\",\n        \"num_unique_values\": 2,\n        \"samples\": [\n          \"male\",\n          \"female\"\n        ],\n        \"semantic_type\": \"\",\n        \"description\": \"\"\n      }\n    },\n    {\n      \"column\": \"education\",\n      \"properties\": {\n        \"dtype\": \"category\",\n        \"num_unique_values\": 4,\n        \"samples\": [\n          \"graduate school\",\n          \"others\"\n        ],\n        \"semantic_type\": \"\",\n        \"description\": \"\"\n      }\n    },\n    {\n      \"column\": \"marriage\",\n      \"properties\": {\n        \"dtype\": \"category\",\n        \"num_unique_values\": 3,\n        \"samples\": [\n          \"married\",\n          \"single\"\n        ],\n        \"semantic_type\": \"\",\n        \"description\": \"\"\n      }\n    },\n    {\n      \"column\": \"age\",\n      \"properties\": {\n        \"dtype\": \"number\",\n        \"std\": 9,\n        \"min\": 21,\n        \"max\": 79,\n        \"num_unique_values\": 56,\n        \"samples\": [\n          24,\n          29\n        ],\n        \"semantic_type\": \"\",\n        \"description\": \"\"\n      }\n    },\n    {\n      \"column\": \"last_payment\",\n      \"properties\": {\n        \"dtype\": \"number\",\n        \"std\": 16568,\n        \"min\": 0,\n        \"max\": 873552,\n        \"num_unique_values\": 7862,\n        \"samples\": [\n          11677,\n          32000\n        ],\n        \"semantic_type\": \"\",\n        \"description\": \"\"\n      }\n    },\n    {\n      \"column\": \"last_balance\",\n      \"properties\": {\n        \"dtype\": \"number\",\n        \"std\": 73370,\n        \"min\": -165580,\n        \"max\": 964511,\n        \"num_unique_values\": 22441,\n        \"samples\": [\n          19269,\n          302396\n        ],\n        \"semantic_type\": \"\",\n        \"description\": \"\"\n      }\n    },\n    {\n      \"column\": \"default\",\n      \"properties\": {\n        \"dtype\": \"number\",\n        \"std\": 0,\n        \"min\": 0,\n        \"max\": 1,\n        \"num_unique_values\": 2,\n        \"samples\": [\n          0,\n          1\n        ],\n        \"semantic_type\": \"\",\n        \"description\": \"\"\n      }\n    }\n  ]\n}",
       "type": "dataframe",
       "variable_name": "default_data"
      },
      "text/html": [
       "\n",
       "  <div id=\"df-2d9cbf96-c8a2-4ee8-9e9e-8ca6a88374f1\" class=\"colab-df-container\">\n",
       "    <div>\n",
       "<style scoped>\n",
       "    .dataframe tbody tr th:only-of-type {\n",
       "        vertical-align: middle;\n",
       "    }\n",
       "\n",
       "    .dataframe tbody tr th {\n",
       "        vertical-align: top;\n",
       "    }\n",
       "\n",
       "    .dataframe thead th {\n",
       "        text-align: right;\n",
       "    }\n",
       "</style>\n",
       "<table border=\"1\" class=\"dataframe\">\n",
       "  <thead>\n",
       "    <tr style=\"text-align: right;\">\n",
       "      <th></th>\n",
       "      <th>limit_bal</th>\n",
       "      <th>sex</th>\n",
       "      <th>education</th>\n",
       "      <th>marriage</th>\n",
       "      <th>age</th>\n",
       "      <th>last_payment</th>\n",
       "      <th>last_balance</th>\n",
       "      <th>default</th>\n",
       "    </tr>\n",
       "  </thead>\n",
       "  <tbody>\n",
       "    <tr>\n",
       "      <th>0</th>\n",
       "      <td>20000</td>\n",
       "      <td>female</td>\n",
       "      <td>university</td>\n",
       "      <td>married</td>\n",
       "      <td>24</td>\n",
       "      <td>0</td>\n",
       "      <td>3913</td>\n",
       "      <td>1</td>\n",
       "    </tr>\n",
       "    <tr>\n",
       "      <th>1</th>\n",
       "      <td>120000</td>\n",
       "      <td>female</td>\n",
       "      <td>university</td>\n",
       "      <td>single</td>\n",
       "      <td>26</td>\n",
       "      <td>0</td>\n",
       "      <td>2682</td>\n",
       "      <td>1</td>\n",
       "    </tr>\n",
       "    <tr>\n",
       "      <th>2</th>\n",
       "      <td>90000</td>\n",
       "      <td>female</td>\n",
       "      <td>university</td>\n",
       "      <td>single</td>\n",
       "      <td>34</td>\n",
       "      <td>1518</td>\n",
       "      <td>29239</td>\n",
       "      <td>0</td>\n",
       "    </tr>\n",
       "  </tbody>\n",
       "</table>\n",
       "</div>\n",
       "    <div class=\"colab-df-buttons\">\n",
       "\n",
       "  <div class=\"colab-df-container\">\n",
       "    <button class=\"colab-df-convert\" onclick=\"convertToInteractive('df-2d9cbf96-c8a2-4ee8-9e9e-8ca6a88374f1')\"\n",
       "            title=\"Convert this dataframe to an interactive table.\"\n",
       "            style=\"display:none;\">\n",
       "\n",
       "  <svg xmlns=\"http://www.w3.org/2000/svg\" height=\"24px\" viewBox=\"0 -960 960 960\">\n",
       "    <path d=\"M120-120v-720h720v720H120Zm60-500h600v-160H180v160Zm220 220h160v-160H400v160Zm0 220h160v-160H400v160ZM180-400h160v-160H180v160Zm440 0h160v-160H620v160ZM180-180h160v-160H180v160Zm440 0h160v-160H620v160Z\"/>\n",
       "  </svg>\n",
       "    </button>\n",
       "\n",
       "  <style>\n",
       "    .colab-df-container {\n",
       "      display:flex;\n",
       "      gap: 12px;\n",
       "    }\n",
       "\n",
       "    .colab-df-convert {\n",
       "      background-color: #E8F0FE;\n",
       "      border: none;\n",
       "      border-radius: 50%;\n",
       "      cursor: pointer;\n",
       "      display: none;\n",
       "      fill: #1967D2;\n",
       "      height: 32px;\n",
       "      padding: 0 0 0 0;\n",
       "      width: 32px;\n",
       "    }\n",
       "\n",
       "    .colab-df-convert:hover {\n",
       "      background-color: #E2EBFA;\n",
       "      box-shadow: 0px 1px 2px rgba(60, 64, 67, 0.3), 0px 1px 3px 1px rgba(60, 64, 67, 0.15);\n",
       "      fill: #174EA6;\n",
       "    }\n",
       "\n",
       "    .colab-df-buttons div {\n",
       "      margin-bottom: 4px;\n",
       "    }\n",
       "\n",
       "    [theme=dark] .colab-df-convert {\n",
       "      background-color: #3B4455;\n",
       "      fill: #D2E3FC;\n",
       "    }\n",
       "\n",
       "    [theme=dark] .colab-df-convert:hover {\n",
       "      background-color: #434B5C;\n",
       "      box-shadow: 0px 1px 3px 1px rgba(0, 0, 0, 0.15);\n",
       "      filter: drop-shadow(0px 1px 2px rgba(0, 0, 0, 0.3));\n",
       "      fill: #FFFFFF;\n",
       "    }\n",
       "  </style>\n",
       "\n",
       "    <script>\n",
       "      const buttonEl =\n",
       "        document.querySelector('#df-2d9cbf96-c8a2-4ee8-9e9e-8ca6a88374f1 button.colab-df-convert');\n",
       "      buttonEl.style.display =\n",
       "        google.colab.kernel.accessAllowed ? 'block' : 'none';\n",
       "\n",
       "      async function convertToInteractive(key) {\n",
       "        const element = document.querySelector('#df-2d9cbf96-c8a2-4ee8-9e9e-8ca6a88374f1');\n",
       "        const dataTable =\n",
       "          await google.colab.kernel.invokeFunction('convertToInteractive',\n",
       "                                                    [key], {});\n",
       "        if (!dataTable) return;\n",
       "\n",
       "        const docLinkHtml = 'Like what you see? Visit the ' +\n",
       "          '<a target=\"_blank\" href=https://colab.research.google.com/notebooks/data_table.ipynb>data table notebook</a>'\n",
       "          + ' to learn more about interactive tables.';\n",
       "        element.innerHTML = '';\n",
       "        dataTable['output_type'] = 'display_data';\n",
       "        await google.colab.output.renderOutput(dataTable, element);\n",
       "        const docLink = document.createElement('div');\n",
       "        docLink.innerHTML = docLinkHtml;\n",
       "        element.appendChild(docLink);\n",
       "      }\n",
       "    </script>\n",
       "  </div>\n",
       "\n",
       "\n",
       "<div id=\"df-c5359743-de45-4beb-9187-6b7bb92c4cff\">\n",
       "  <button class=\"colab-df-quickchart\" onclick=\"quickchart('df-c5359743-de45-4beb-9187-6b7bb92c4cff')\"\n",
       "            title=\"Suggest charts\"\n",
       "            style=\"display:none;\">\n",
       "\n",
       "<svg xmlns=\"http://www.w3.org/2000/svg\" height=\"24px\"viewBox=\"0 0 24 24\"\n",
       "     width=\"24px\">\n",
       "    <g>\n",
       "        <path d=\"M19 3H5c-1.1 0-2 .9-2 2v14c0 1.1.9 2 2 2h14c1.1 0 2-.9 2-2V5c0-1.1-.9-2-2-2zM9 17H7v-7h2v7zm4 0h-2V7h2v10zm4 0h-2v-4h2v4z\"/>\n",
       "    </g>\n",
       "</svg>\n",
       "  </button>\n",
       "\n",
       "<style>\n",
       "  .colab-df-quickchart {\n",
       "      --bg-color: #E8F0FE;\n",
       "      --fill-color: #1967D2;\n",
       "      --hover-bg-color: #E2EBFA;\n",
       "      --hover-fill-color: #174EA6;\n",
       "      --disabled-fill-color: #AAA;\n",
       "      --disabled-bg-color: #DDD;\n",
       "  }\n",
       "\n",
       "  [theme=dark] .colab-df-quickchart {\n",
       "      --bg-color: #3B4455;\n",
       "      --fill-color: #D2E3FC;\n",
       "      --hover-bg-color: #434B5C;\n",
       "      --hover-fill-color: #FFFFFF;\n",
       "      --disabled-bg-color: #3B4455;\n",
       "      --disabled-fill-color: #666;\n",
       "  }\n",
       "\n",
       "  .colab-df-quickchart {\n",
       "    background-color: var(--bg-color);\n",
       "    border: none;\n",
       "    border-radius: 50%;\n",
       "    cursor: pointer;\n",
       "    display: none;\n",
       "    fill: var(--fill-color);\n",
       "    height: 32px;\n",
       "    padding: 0;\n",
       "    width: 32px;\n",
       "  }\n",
       "\n",
       "  .colab-df-quickchart:hover {\n",
       "    background-color: var(--hover-bg-color);\n",
       "    box-shadow: 0 1px 2px rgba(60, 64, 67, 0.3), 0 1px 3px 1px rgba(60, 64, 67, 0.15);\n",
       "    fill: var(--button-hover-fill-color);\n",
       "  }\n",
       "\n",
       "  .colab-df-quickchart-complete:disabled,\n",
       "  .colab-df-quickchart-complete:disabled:hover {\n",
       "    background-color: var(--disabled-bg-color);\n",
       "    fill: var(--disabled-fill-color);\n",
       "    box-shadow: none;\n",
       "  }\n",
       "\n",
       "  .colab-df-spinner {\n",
       "    border: 2px solid var(--fill-color);\n",
       "    border-color: transparent;\n",
       "    border-bottom-color: var(--fill-color);\n",
       "    animation:\n",
       "      spin 1s steps(1) infinite;\n",
       "  }\n",
       "\n",
       "  @keyframes spin {\n",
       "    0% {\n",
       "      border-color: transparent;\n",
       "      border-bottom-color: var(--fill-color);\n",
       "      border-left-color: var(--fill-color);\n",
       "    }\n",
       "    20% {\n",
       "      border-color: transparent;\n",
       "      border-left-color: var(--fill-color);\n",
       "      border-top-color: var(--fill-color);\n",
       "    }\n",
       "    30% {\n",
       "      border-color: transparent;\n",
       "      border-left-color: var(--fill-color);\n",
       "      border-top-color: var(--fill-color);\n",
       "      border-right-color: var(--fill-color);\n",
       "    }\n",
       "    40% {\n",
       "      border-color: transparent;\n",
       "      border-right-color: var(--fill-color);\n",
       "      border-top-color: var(--fill-color);\n",
       "    }\n",
       "    60% {\n",
       "      border-color: transparent;\n",
       "      border-right-color: var(--fill-color);\n",
       "    }\n",
       "    80% {\n",
       "      border-color: transparent;\n",
       "      border-right-color: var(--fill-color);\n",
       "      border-bottom-color: var(--fill-color);\n",
       "    }\n",
       "    90% {\n",
       "      border-color: transparent;\n",
       "      border-bottom-color: var(--fill-color);\n",
       "    }\n",
       "  }\n",
       "</style>\n",
       "\n",
       "  <script>\n",
       "    async function quickchart(key) {\n",
       "      const quickchartButtonEl =\n",
       "        document.querySelector('#' + key + ' button');\n",
       "      quickchartButtonEl.disabled = true;  // To prevent multiple clicks.\n",
       "      quickchartButtonEl.classList.add('colab-df-spinner');\n",
       "      try {\n",
       "        const charts = await google.colab.kernel.invokeFunction(\n",
       "            'suggestCharts', [key], {});\n",
       "      } catch (error) {\n",
       "        console.error('Error during call to suggestCharts:', error);\n",
       "      }\n",
       "      quickchartButtonEl.classList.remove('colab-df-spinner');\n",
       "      quickchartButtonEl.classList.add('colab-df-quickchart-complete');\n",
       "    }\n",
       "    (() => {\n",
       "      let quickchartButtonEl =\n",
       "        document.querySelector('#df-c5359743-de45-4beb-9187-6b7bb92c4cff button');\n",
       "      quickchartButtonEl.style.display =\n",
       "        google.colab.kernel.accessAllowed ? 'block' : 'none';\n",
       "    })();\n",
       "  </script>\n",
       "</div>\n",
       "    </div>\n",
       "  </div>\n"
      ],
      "text/plain": [
       "   limit_bal     sex   education marriage  age  last_payment  last_balance  \\\n",
       "0      20000  female  university  married   24             0          3913   \n",
       "1     120000  female  university   single   26             0          2682   \n",
       "2      90000  female  university   single   34          1518         29239   \n",
       "\n",
       "   default  \n",
       "0        1  \n",
       "1        1  \n",
       "2        0  "
      ]
     },
     "execution_count": 13,
     "metadata": {},
     "output_type": "execute_result"
    }
   ],
   "source": [
    "default_data = pd.read_csv(\"./credit_card_defaults_clean.csv\")\n",
    "\n",
    "print(\"The first three rows of the data are:\")\n",
    "default_data.head(3)"
   ]
  },
  {
   "cell_type": "markdown",
   "metadata": {
    "id": "iUQjorXO9OWI"
   },
   "source": [
    "We are going to use this dataset to predict the probability of default for a credit card customer based on the features in our data.\n",
    "\n",
    "## Preprocessing data\n",
    "\n",
    "Separate features and label into two different variables."
   ]
  },
  {
   "cell_type": "code",
   "execution_count": 14,
   "metadata": {
    "colab": {
     "base_uri": "https://localhost:8080/",
     "height": 0
    },
    "id": "Erae4Yqp9Bb-",
    "outputId": "262e89c0-d505-41f0-f069-820ddf62a62b"
   },
   "outputs": [
    {
     "name": "stdout",
     "output_type": "stream",
     "text": [
      "shape of X is:  (29601, 10)\n",
      "shape of y is:  (29601,)\n"
     ]
    }
   ],
   "source": [
    "# TODO: Assign the right values to X and y\n",
    "default_data = pd.get_dummies(\n",
    "    default_data,\n",
    "    columns = [\"sex\", \"education\", \"marriage\"],\n",
    "    drop_first = True\n",
    ")\n",
    "\n",
    "X = default_data.drop(\"default\", axis = 1)\n",
    "y = default_data.default\n",
    "# END OF TODO\n",
    "\n",
    "print(\"shape of X is: \", X.shape)\n",
    "print(\"shape of y is: \", y.shape)"
   ]
  },
  {
   "cell_type": "markdown",
   "metadata": {
    "id": "KHGIeA82-Ov6"
   },
   "source": [
    "Convert categorical features to 0-1 indicator variables."
   ]
  },
  {
   "cell_type": "code",
   "execution_count": 18,
   "metadata": {
    "colab": {
     "base_uri": "https://localhost:8080/",
     "height": 159
    },
    "id": "btYTKxmm-HNW",
    "outputId": "0e77f3ac-3491-456d-b912-62ac8e299a13"
   },
   "outputs": [
    {
     "name": "stdout",
     "output_type": "stream",
     "text": [
      "The first three rows for the features are:\n"
     ]
    },
    {
     "data": {
      "application/vnd.google.colaboratory.intrinsic+json": {
       "summary": "{\n  \"name\": \"X\",\n  \"rows\": 29601,\n  \"fields\": [\n    {\n      \"column\": \"limit_bal\",\n      \"properties\": {\n        \"dtype\": \"number\",\n        \"std\": 129944,\n        \"min\": 10000,\n        \"max\": 1000000,\n        \"num_unique_values\": 81,\n        \"samples\": [\n          340000,\n          20000,\n          40000\n        ],\n        \"semantic_type\": \"\",\n        \"description\": \"\"\n      }\n    },\n    {\n      \"column\": \"age\",\n      \"properties\": {\n        \"dtype\": \"number\",\n        \"std\": 9,\n        \"min\": 21,\n        \"max\": 79,\n        \"num_unique_values\": 56,\n        \"samples\": [\n          24,\n          29,\n          36\n        ],\n        \"semantic_type\": \"\",\n        \"description\": \"\"\n      }\n    },\n    {\n      \"column\": \"last_payment\",\n      \"properties\": {\n        \"dtype\": \"number\",\n        \"std\": 16568,\n        \"min\": 0,\n        \"max\": 873552,\n        \"num_unique_values\": 7862,\n        \"samples\": [\n          11677,\n          32000,\n          827\n        ],\n        \"semantic_type\": \"\",\n        \"description\": \"\"\n      }\n    },\n    {\n      \"column\": \"last_balance\",\n      \"properties\": {\n        \"dtype\": \"number\",\n        \"std\": 73370,\n        \"min\": -165580,\n        \"max\": 964511,\n        \"num_unique_values\": 22441,\n        \"samples\": [\n          19269,\n          302396,\n          158844\n        ],\n        \"semantic_type\": \"\",\n        \"description\": \"\"\n      }\n    },\n    {\n      \"column\": \"sex_male\",\n      \"properties\": {\n        \"dtype\": \"uint8\",\n        \"num_unique_values\": 2,\n        \"samples\": [\n          1,\n          0\n        ],\n        \"semantic_type\": \"\",\n        \"description\": \"\"\n      }\n    },\n    {\n      \"column\": \"education_high school\",\n      \"properties\": {\n        \"dtype\": \"uint8\",\n        \"num_unique_values\": 2,\n        \"samples\": [\n          1,\n          0\n        ],\n        \"semantic_type\": \"\",\n        \"description\": \"\"\n      }\n    },\n    {\n      \"column\": \"education_others\",\n      \"properties\": {\n        \"dtype\": \"uint8\",\n        \"num_unique_values\": 2,\n        \"samples\": [\n          1,\n          0\n        ],\n        \"semantic_type\": \"\",\n        \"description\": \"\"\n      }\n    },\n    {\n      \"column\": \"education_university\",\n      \"properties\": {\n        \"dtype\": \"uint8\",\n        \"num_unique_values\": 2,\n        \"samples\": [\n          0,\n          1\n        ],\n        \"semantic_type\": \"\",\n        \"description\": \"\"\n      }\n    },\n    {\n      \"column\": \"marriage_others\",\n      \"properties\": {\n        \"dtype\": \"uint8\",\n        \"num_unique_values\": 2,\n        \"samples\": [\n          1,\n          0\n        ],\n        \"semantic_type\": \"\",\n        \"description\": \"\"\n      }\n    },\n    {\n      \"column\": \"marriage_single\",\n      \"properties\": {\n        \"dtype\": \"uint8\",\n        \"num_unique_values\": 2,\n        \"samples\": [\n          1,\n          0\n        ],\n        \"semantic_type\": \"\",\n        \"description\": \"\"\n      }\n    }\n  ]\n}",
       "type": "dataframe",
       "variable_name": "X"
      },
      "text/html": [
       "\n",
       "  <div id=\"df-72a188ca-c5fc-455c-b0e5-e0eadd954eb9\" class=\"colab-df-container\">\n",
       "    <div>\n",
       "<style scoped>\n",
       "    .dataframe tbody tr th:only-of-type {\n",
       "        vertical-align: middle;\n",
       "    }\n",
       "\n",
       "    .dataframe tbody tr th {\n",
       "        vertical-align: top;\n",
       "    }\n",
       "\n",
       "    .dataframe thead th {\n",
       "        text-align: right;\n",
       "    }\n",
       "</style>\n",
       "<table border=\"1\" class=\"dataframe\">\n",
       "  <thead>\n",
       "    <tr style=\"text-align: right;\">\n",
       "      <th></th>\n",
       "      <th>limit_bal</th>\n",
       "      <th>age</th>\n",
       "      <th>last_payment</th>\n",
       "      <th>last_balance</th>\n",
       "      <th>sex_male</th>\n",
       "      <th>education_high school</th>\n",
       "      <th>education_others</th>\n",
       "      <th>education_university</th>\n",
       "      <th>marriage_others</th>\n",
       "      <th>marriage_single</th>\n",
       "    </tr>\n",
       "  </thead>\n",
       "  <tbody>\n",
       "    <tr>\n",
       "      <th>0</th>\n",
       "      <td>20000</td>\n",
       "      <td>24</td>\n",
       "      <td>0</td>\n",
       "      <td>3913</td>\n",
       "      <td>0</td>\n",
       "      <td>0</td>\n",
       "      <td>0</td>\n",
       "      <td>1</td>\n",
       "      <td>0</td>\n",
       "      <td>0</td>\n",
       "    </tr>\n",
       "    <tr>\n",
       "      <th>1</th>\n",
       "      <td>120000</td>\n",
       "      <td>26</td>\n",
       "      <td>0</td>\n",
       "      <td>2682</td>\n",
       "      <td>0</td>\n",
       "      <td>0</td>\n",
       "      <td>0</td>\n",
       "      <td>1</td>\n",
       "      <td>0</td>\n",
       "      <td>1</td>\n",
       "    </tr>\n",
       "    <tr>\n",
       "      <th>2</th>\n",
       "      <td>90000</td>\n",
       "      <td>34</td>\n",
       "      <td>1518</td>\n",
       "      <td>29239</td>\n",
       "      <td>0</td>\n",
       "      <td>0</td>\n",
       "      <td>0</td>\n",
       "      <td>1</td>\n",
       "      <td>0</td>\n",
       "      <td>1</td>\n",
       "    </tr>\n",
       "  </tbody>\n",
       "</table>\n",
       "</div>\n",
       "    <div class=\"colab-df-buttons\">\n",
       "\n",
       "  <div class=\"colab-df-container\">\n",
       "    <button class=\"colab-df-convert\" onclick=\"convertToInteractive('df-72a188ca-c5fc-455c-b0e5-e0eadd954eb9')\"\n",
       "            title=\"Convert this dataframe to an interactive table.\"\n",
       "            style=\"display:none;\">\n",
       "\n",
       "  <svg xmlns=\"http://www.w3.org/2000/svg\" height=\"24px\" viewBox=\"0 -960 960 960\">\n",
       "    <path d=\"M120-120v-720h720v720H120Zm60-500h600v-160H180v160Zm220 220h160v-160H400v160Zm0 220h160v-160H400v160ZM180-400h160v-160H180v160Zm440 0h160v-160H620v160ZM180-180h160v-160H180v160Zm440 0h160v-160H620v160Z\"/>\n",
       "  </svg>\n",
       "    </button>\n",
       "\n",
       "  <style>\n",
       "    .colab-df-container {\n",
       "      display:flex;\n",
       "      gap: 12px;\n",
       "    }\n",
       "\n",
       "    .colab-df-convert {\n",
       "      background-color: #E8F0FE;\n",
       "      border: none;\n",
       "      border-radius: 50%;\n",
       "      cursor: pointer;\n",
       "      display: none;\n",
       "      fill: #1967D2;\n",
       "      height: 32px;\n",
       "      padding: 0 0 0 0;\n",
       "      width: 32px;\n",
       "    }\n",
       "\n",
       "    .colab-df-convert:hover {\n",
       "      background-color: #E2EBFA;\n",
       "      box-shadow: 0px 1px 2px rgba(60, 64, 67, 0.3), 0px 1px 3px 1px rgba(60, 64, 67, 0.15);\n",
       "      fill: #174EA6;\n",
       "    }\n",
       "\n",
       "    .colab-df-buttons div {\n",
       "      margin-bottom: 4px;\n",
       "    }\n",
       "\n",
       "    [theme=dark] .colab-df-convert {\n",
       "      background-color: #3B4455;\n",
       "      fill: #D2E3FC;\n",
       "    }\n",
       "\n",
       "    [theme=dark] .colab-df-convert:hover {\n",
       "      background-color: #434B5C;\n",
       "      box-shadow: 0px 1px 3px 1px rgba(0, 0, 0, 0.15);\n",
       "      filter: drop-shadow(0px 1px 2px rgba(0, 0, 0, 0.3));\n",
       "      fill: #FFFFFF;\n",
       "    }\n",
       "  </style>\n",
       "\n",
       "    <script>\n",
       "      const buttonEl =\n",
       "        document.querySelector('#df-72a188ca-c5fc-455c-b0e5-e0eadd954eb9 button.colab-df-convert');\n",
       "      buttonEl.style.display =\n",
       "        google.colab.kernel.accessAllowed ? 'block' : 'none';\n",
       "\n",
       "      async function convertToInteractive(key) {\n",
       "        const element = document.querySelector('#df-72a188ca-c5fc-455c-b0e5-e0eadd954eb9');\n",
       "        const dataTable =\n",
       "          await google.colab.kernel.invokeFunction('convertToInteractive',\n",
       "                                                    [key], {});\n",
       "        if (!dataTable) return;\n",
       "\n",
       "        const docLinkHtml = 'Like what you see? Visit the ' +\n",
       "          '<a target=\"_blank\" href=https://colab.research.google.com/notebooks/data_table.ipynb>data table notebook</a>'\n",
       "          + ' to learn more about interactive tables.';\n",
       "        element.innerHTML = '';\n",
       "        dataTable['output_type'] = 'display_data';\n",
       "        await google.colab.output.renderOutput(dataTable, element);\n",
       "        const docLink = document.createElement('div');\n",
       "        docLink.innerHTML = docLinkHtml;\n",
       "        element.appendChild(docLink);\n",
       "      }\n",
       "    </script>\n",
       "  </div>\n",
       "\n",
       "\n",
       "<div id=\"df-ec42758e-7ef1-491a-a101-c08660d1d6fd\">\n",
       "  <button class=\"colab-df-quickchart\" onclick=\"quickchart('df-ec42758e-7ef1-491a-a101-c08660d1d6fd')\"\n",
       "            title=\"Suggest charts\"\n",
       "            style=\"display:none;\">\n",
       "\n",
       "<svg xmlns=\"http://www.w3.org/2000/svg\" height=\"24px\"viewBox=\"0 0 24 24\"\n",
       "     width=\"24px\">\n",
       "    <g>\n",
       "        <path d=\"M19 3H5c-1.1 0-2 .9-2 2v14c0 1.1.9 2 2 2h14c1.1 0 2-.9 2-2V5c0-1.1-.9-2-2-2zM9 17H7v-7h2v7zm4 0h-2V7h2v10zm4 0h-2v-4h2v4z\"/>\n",
       "    </g>\n",
       "</svg>\n",
       "  </button>\n",
       "\n",
       "<style>\n",
       "  .colab-df-quickchart {\n",
       "      --bg-color: #E8F0FE;\n",
       "      --fill-color: #1967D2;\n",
       "      --hover-bg-color: #E2EBFA;\n",
       "      --hover-fill-color: #174EA6;\n",
       "      --disabled-fill-color: #AAA;\n",
       "      --disabled-bg-color: #DDD;\n",
       "  }\n",
       "\n",
       "  [theme=dark] .colab-df-quickchart {\n",
       "      --bg-color: #3B4455;\n",
       "      --fill-color: #D2E3FC;\n",
       "      --hover-bg-color: #434B5C;\n",
       "      --hover-fill-color: #FFFFFF;\n",
       "      --disabled-bg-color: #3B4455;\n",
       "      --disabled-fill-color: #666;\n",
       "  }\n",
       "\n",
       "  .colab-df-quickchart {\n",
       "    background-color: var(--bg-color);\n",
       "    border: none;\n",
       "    border-radius: 50%;\n",
       "    cursor: pointer;\n",
       "    display: none;\n",
       "    fill: var(--fill-color);\n",
       "    height: 32px;\n",
       "    padding: 0;\n",
       "    width: 32px;\n",
       "  }\n",
       "\n",
       "  .colab-df-quickchart:hover {\n",
       "    background-color: var(--hover-bg-color);\n",
       "    box-shadow: 0 1px 2px rgba(60, 64, 67, 0.3), 0 1px 3px 1px rgba(60, 64, 67, 0.15);\n",
       "    fill: var(--button-hover-fill-color);\n",
       "  }\n",
       "\n",
       "  .colab-df-quickchart-complete:disabled,\n",
       "  .colab-df-quickchart-complete:disabled:hover {\n",
       "    background-color: var(--disabled-bg-color);\n",
       "    fill: var(--disabled-fill-color);\n",
       "    box-shadow: none;\n",
       "  }\n",
       "\n",
       "  .colab-df-spinner {\n",
       "    border: 2px solid var(--fill-color);\n",
       "    border-color: transparent;\n",
       "    border-bottom-color: var(--fill-color);\n",
       "    animation:\n",
       "      spin 1s steps(1) infinite;\n",
       "  }\n",
       "\n",
       "  @keyframes spin {\n",
       "    0% {\n",
       "      border-color: transparent;\n",
       "      border-bottom-color: var(--fill-color);\n",
       "      border-left-color: var(--fill-color);\n",
       "    }\n",
       "    20% {\n",
       "      border-color: transparent;\n",
       "      border-left-color: var(--fill-color);\n",
       "      border-top-color: var(--fill-color);\n",
       "    }\n",
       "    30% {\n",
       "      border-color: transparent;\n",
       "      border-left-color: var(--fill-color);\n",
       "      border-top-color: var(--fill-color);\n",
       "      border-right-color: var(--fill-color);\n",
       "    }\n",
       "    40% {\n",
       "      border-color: transparent;\n",
       "      border-right-color: var(--fill-color);\n",
       "      border-top-color: var(--fill-color);\n",
       "    }\n",
       "    60% {\n",
       "      border-color: transparent;\n",
       "      border-right-color: var(--fill-color);\n",
       "    }\n",
       "    80% {\n",
       "      border-color: transparent;\n",
       "      border-right-color: var(--fill-color);\n",
       "      border-bottom-color: var(--fill-color);\n",
       "    }\n",
       "    90% {\n",
       "      border-color: transparent;\n",
       "      border-bottom-color: var(--fill-color);\n",
       "    }\n",
       "  }\n",
       "</style>\n",
       "\n",
       "  <script>\n",
       "    async function quickchart(key) {\n",
       "      const quickchartButtonEl =\n",
       "        document.querySelector('#' + key + ' button');\n",
       "      quickchartButtonEl.disabled = true;  // To prevent multiple clicks.\n",
       "      quickchartButtonEl.classList.add('colab-df-spinner');\n",
       "      try {\n",
       "        const charts = await google.colab.kernel.invokeFunction(\n",
       "            'suggestCharts', [key], {});\n",
       "      } catch (error) {\n",
       "        console.error('Error during call to suggestCharts:', error);\n",
       "      }\n",
       "      quickchartButtonEl.classList.remove('colab-df-spinner');\n",
       "      quickchartButtonEl.classList.add('colab-df-quickchart-complete');\n",
       "    }\n",
       "    (() => {\n",
       "      let quickchartButtonEl =\n",
       "        document.querySelector('#df-ec42758e-7ef1-491a-a101-c08660d1d6fd button');\n",
       "      quickchartButtonEl.style.display =\n",
       "        google.colab.kernel.accessAllowed ? 'block' : 'none';\n",
       "    })();\n",
       "  </script>\n",
       "</div>\n",
       "    </div>\n",
       "  </div>\n"
      ],
      "text/plain": [
       "   limit_bal  age  last_payment  last_balance  sex_male  \\\n",
       "0      20000   24             0          3913         0   \n",
       "1     120000   26             0          2682         0   \n",
       "2      90000   34          1518         29239         0   \n",
       "\n",
       "   education_high school  education_others  education_university  \\\n",
       "0                      0                 0                     1   \n",
       "1                      0                 0                     1   \n",
       "2                      0                 0                     1   \n",
       "\n",
       "   marriage_others  marriage_single  \n",
       "0                0                0  \n",
       "1                0                1  \n",
       "2                0                1  "
      ]
     },
     "execution_count": 18,
     "metadata": {},
     "output_type": "execute_result"
    }
   ],
   "source": [
    "# TODO: Update X\n",
    "X = default_data.drop(\"default\", axis = 1)\n",
    "# END OF TODO\n",
    "\n",
    "print(\"The first three rows for the features are:\")\n",
    "X.head(3)"
   ]
  },
  {
   "cell_type": "markdown",
   "metadata": {
    "id": "c3yPiRc0-x85"
   },
   "source": [
    "Divide the data into train-validation-test datasets using 80%-10%-10% split."
   ]
  },
  {
   "cell_type": "code",
   "execution_count": 19,
   "metadata": {
    "colab": {
     "base_uri": "https://localhost:8080/",
     "height": 0
    },
    "id": "MeM3kGbs-lpK",
    "outputId": "e5d88560-8f41-4136-f474-ae5028f582b8"
   },
   "outputs": [
    {
     "name": "stdout",
     "output_type": "stream",
     "text": [
      "shape of X_train is:  (23680, 10)\n",
      "shape of X_val is:  (2960, 10)\n",
      "shape of X_test is:  (2961, 10)\n"
     ]
    }
   ],
   "source": [
    "# TODO: Assign the right values to X_train, X_val, X_test, y_train, y_val, y_test\n",
    "X_train, X_temp, y_train, y_temp = train_test_split(X, y, test_size=0.2)\n",
    "X_val, X_test, y_val, y_test = train_test_split(X_temp, y_temp, test_size=0.5)\n",
    "\n",
    "# X_train = X\n",
    "# X_val = X\n",
    "# X_test = X\n",
    "# y_train = y\n",
    "# y_val = y\n",
    "# y_test = y\n",
    "# END OF TODO\n",
    "\n",
    "print(\"shape of X_train is: \", X_train.shape)\n",
    "print(\"shape of X_val is: \", X_val.shape)\n",
    "print(\"shape of X_test is: \", X_test.shape)"
   ]
  },
  {
   "cell_type": "markdown",
   "metadata": {
    "id": "3Nm82pos_1B3"
   },
   "source": [
    "##Logistic Regression (Linear Model)\n",
    "\n",
    "Use the logistic regression to develop a model for predicting default on credit card loan based on the observed data."
   ]
  },
  {
   "cell_type": "code",
   "execution_count": 20,
   "metadata": {
    "colab": {
     "base_uri": "https://localhost:8080/",
     "height": 0
    },
    "id": "B-WqS9G1_rWU",
    "outputId": "ab86835c-858a-4e7c-be7b-9a2c50b58529"
   },
   "outputs": [
    {
     "name": "stdout",
     "output_type": "stream",
     "text": [
      "First four 0-1 predictions for the validation set:\n",
      "[0 0 0 0]\n",
      "First four predicted probabilities for positive label in the validation set:\n",
      "[0.18076835 0.0908968  0.2008445  0.07364089]\n"
     ]
    }
   ],
   "source": [
    "# TODO: Fit a logistic regression model with L-1 regularization to the data\n",
    "#       Use 1.0 for the regularization parameter (C = 1.0)\n",
    "from sklearn.linear_model import LogisticRegression\n",
    "model_lr = LogisticRegression(solver = 'liblinear',\n",
    "                              penalty = 'l1',\n",
    "                              C = 1.0)\n",
    "model_lr.fit(X_train, y_train)\n",
    "# END OF TODO\n",
    "\n",
    "preds_train = model_lr.predict(X_train)\n",
    "preds_val = model_lr.predict(X_val)\n",
    "print(\"First four 0-1 predictions for the validation set:\")\n",
    "print(preds_val[0:4])\n",
    "\n",
    "probs_train = model_lr.predict_proba(X_train)[:, 1]\n",
    "probs_val = model_lr.predict_proba(X_val)[:, 1]\n",
    "print(\"First four predicted probabilities for positive label in the validation set:\")\n",
    "print(probs_val[0:4])"
   ]
  },
  {
   "cell_type": "markdown",
   "metadata": {
    "id": "JRLa7HU96RFu"
   },
   "source": [
    "Let's look at the coefficients in the logistic regression model:"
   ]
  },
  {
   "cell_type": "code",
   "execution_count": 21,
   "metadata": {
    "colab": {
     "base_uri": "https://localhost:8080/",
     "height": 0
    },
    "id": "nIn9UEklFb9P",
    "outputId": "3ffb781b-da1d-474f-e387-d37c03417a30"
   },
   "outputs": [
    {
     "name": "stdout",
     "output_type": "stream",
     "text": [
      "intercept:  -0.7231926185121389\n",
      "limit_bal : -3.311349067465324e-06\n",
      "age : 0.002057657360114029\n",
      "last_payment : -2.650785200960953e-05\n",
      "last_balance : 1.5396520077614916e-06\n",
      "sex_male : 0.16481287475119066\n",
      "education_high school : 0.009956462069655479\n",
      "education_others : -1.1478876437602845\n",
      "education_university : 0.015991725888227056\n",
      "marriage_others : -0.06323297076212933\n",
      "marriage_single : -0.21903936336391452\n"
     ]
    }
   ],
   "source": [
    "print(\"intercept: \", model_lr.intercept_[0])\n",
    "for feature, coef in zip(X_train.columns, model_lr.coef_[0]):\n",
    "    print(feature, \":\", coef)"
   ]
  },
  {
   "cell_type": "markdown",
   "metadata": {
    "id": "4EEdTuEk6aEa"
   },
   "source": [
    "How can you interpret the value of the coefficient for `last_payment`?\n",
    "\n",
    "Let's check the confusion matrix in the training data if we use 0-1 predictions from the model (using 0.5 as the probability threshold):"
   ]
  },
  {
   "cell_type": "code",
   "execution_count": 22,
   "metadata": {
    "colab": {
     "base_uri": "https://localhost:8080/",
     "height": 0
    },
    "id": "VsIxg2syILrC",
    "outputId": "d154fb41-7e75-490e-ac09-906ce54182fd"
   },
   "outputs": [
    {
     "name": "stdout",
     "output_type": "stream",
     "text": [
      "Confusion matrix for the training set:\n",
      "[[18342     0]\n",
      " [ 5338     0]]\n"
     ]
    }
   ],
   "source": [
    "confusion_matrix_train = metrics.confusion_matrix(y_train, preds_train)\n",
    "print(\"Confusion matrix for the training set:\")\n",
    "print(confusion_matrix_train)"
   ]
  },
  {
   "cell_type": "markdown",
   "metadata": {
    "id": "tV4Y5jvuJSrX"
   },
   "source": [
    "What are the values in each cell in this confusion matrix correspond to? Based on this confusion matrix, do you think these predictions from the model are useful at all?\n",
    "\n",
    "Now, let's use 0.2 as the probability threshold, assign positive prediction if the prediction probability was > 0.2, and compute the confusion matrix again."
   ]
  },
  {
   "cell_type": "code",
   "execution_count": 23,
   "metadata": {
    "colab": {
     "base_uri": "https://localhost:8080/",
     "height": 0
    },
    "id": "3StpnzKyJlfq",
    "outputId": "48c1248f-d5b7-4ca6-867d-1da2dc86c1c3"
   },
   "outputs": [
    {
     "name": "stdout",
     "output_type": "stream",
     "text": [
      "Confusion matrix for the training set:\n",
      "[[ 7248 11094]\n",
      " [ 1143  4195]]\n"
     ]
    }
   ],
   "source": [
    "confusion_matrix_train = metrics.confusion_matrix(y_train, probs_train > 0.2)\n",
    "print(\"Confusion matrix for the training set:\")\n",
    "print(confusion_matrix_train)"
   ]
  },
  {
   "cell_type": "markdown",
   "metadata": {
    "id": "VgJ3TDqrIMId"
   },
   "source": [
    "What is the number of false positives in the training set for this model?\n",
    "\n",
    "To measure the performance of the model independent of the probability threshold, let' look at the AUC of the model in the training and validation sets:"
   ]
  },
  {
   "cell_type": "code",
   "execution_count": 24,
   "metadata": {
    "colab": {
     "base_uri": "https://localhost:8080/",
     "height": 0
    },
    "id": "CdABi6IOFdoD",
    "outputId": "a3704eb6-8759-43ed-84e0-cac24b01975a"
   },
   "outputs": [
    {
     "name": "stdout",
     "output_type": "stream",
     "text": [
      "AUC of the model in the training set is:  0.6385343986099178\n",
      "AUC of the model in the validation set is:  0.6254533418156509\n"
     ]
    }
   ],
   "source": [
    "fpr, tpr, thresholds = metrics.roc_curve(y_train, probs_train)\n",
    "auc_train = metrics.auc(fpr, tpr)\n",
    "print(\"AUC of the model in the training set is: \", auc_train)\n",
    "\n",
    "fpr, tpr, thresholds = metrics.roc_curve(y_val, probs_val)\n",
    "auc_val = metrics.auc(fpr, tpr)\n",
    "print(\"AUC of the model in the validation set is: \", auc_val)"
   ]
  },
  {
   "cell_type": "markdown",
   "metadata": {
    "id": "zS2dnw958nf1"
   },
   "source": [
    "Based on these metrics, do you see any overfitting to the training data in this model?\n",
    "\n",
    "## Decision Tree (Non-linear Model)\n",
    "\n",
    "This time, let's apply a decision tree model to the classification problem."
   ]
  },
  {
   "cell_type": "code",
   "execution_count": 25,
   "metadata": {
    "colab": {
     "base_uri": "https://localhost:8080/",
     "height": 0
    },
    "id": "YEwsu3Kr79WN",
    "outputId": "8ee71314-6fb9-42a6-e212-2f66578c5140"
   },
   "outputs": [
    {
     "name": "stdout",
     "output_type": "stream",
     "text": [
      "First four 0-1 predictions for the validation set:\n",
      "[0 0 0 0]\n",
      "First four predicted probabilities for positive label in the validation set:\n",
      "[0.27174472 0.27174472 0.11384181 0.27174472]\n"
     ]
    }
   ],
   "source": [
    "# TODO: Fit a decision tree to the data\n",
    "#       Use cross-entropy for the split\n",
    "#       Use 3 as the maximum depth of the tree\n",
    "#       Use 100 as minimum number of samples for a split at a node\n",
    "#       Don't forget to set the random_state to 0.\n",
    "from sklearn import tree\n",
    "\n",
    "model_dt = tree.DecisionTreeClassifier(\n",
    "    criterion=\"entropy\",\n",
    "    min_samples_split = 100,\n",
    "    max_depth = 3,\n",
    "    random_state = 0\n",
    ")\n",
    "model_dt.fit(X_train, y_train)\n",
    "# END OF TODO\n",
    "\n",
    "preds_train = model_dt.predict(X_train)\n",
    "preds_val = model_dt.predict(X_val)\n",
    "print(\"First four 0-1 predictions for the validation set:\")\n",
    "print(preds_val[0:4])\n",
    "\n",
    "probs_train = model_dt.predict_proba(X_train)[:, 1]\n",
    "probs_val = model_dt.predict_proba(X_val)[:, 1]\n",
    "print(\"First four predicted probabilities for positive label in the validation set:\")\n",
    "print(probs_val[0:4])"
   ]
  },
  {
   "cell_type": "markdown",
   "metadata": {
    "id": "gZACi2gxD5M0"
   },
   "source": [
    "Let's draw the tree to see what is happening inside the fitted model."
   ]
  },
  {
   "cell_type": "code",
   "execution_count": 26,
   "metadata": {
    "colab": {
     "base_uri": "https://localhost:8080/",
     "height": 422
    },
    "id": "XTzJYiBE-nRh",
    "outputId": "8a45ae75-fb18-4ca1-e3b8-1c510126d5bf"
   },
   "outputs": [
    {
     "data": {
      "image/png": "[encoded data removed]",
      "text/plain": [
       "<Figure size 1400x500 with 1 Axes>"
      ]
     },
     "metadata": {},
     "output_type": "display_data"
    }
   ],
   "source": [
    "plt.rcParams['figure.figsize'] = [14, 5]\n",
    "tree.plot_tree(model_dt,\n",
    "               feature_names=X_train.columns)\n",
    "plt.show()"
   ]
  },
  {
   "cell_type": "markdown",
   "metadata": {
    "id": "FYRGRtLfEAah"
   },
   "source": [
    "Based on the diagram, which feature is splitted at the root of the tree?\n",
    "\n",
    "Next, let's compute the AUC of this model."
   ]
  },
  {
   "cell_type": "code",
   "execution_count": 27,
   "metadata": {
    "colab": {
     "base_uri": "https://localhost:8080/",
     "height": 0
    },
    "id": "sM4JH7VJCm1w",
    "outputId": "92ba772a-bd70-4602-80e8-d8b44175b739"
   },
   "outputs": [
    {
     "name": "stdout",
     "output_type": "stream",
     "text": [
      "AUC of the model in the training set is:  0.6570252164047332\n",
      "AUC of the model in the validation set is:  0.649479098699378\n"
     ]
    }
   ],
   "source": [
    "# TODO: Assign the correct values to auc_train and auc_val\n",
    "\n",
    "fpr, tpr, thresholds = metrics.roc_curve(y_train, probs_train)\n",
    "auc_train = metrics.auc(fpr, tpr)\n",
    "\n",
    "fpr, tpr, thresholds = metrics.roc_curve(y_val, probs_val)\n",
    "auc_val = metrics.auc(fpr, tpr)\n",
    "\n",
    "# END OF TODO\n",
    "\n",
    "print(\"AUC of the model in the training set is: \", auc_train)\n",
    "print(\"AUC of the model in the validation set is: \", auc_val)"
   ]
  },
  {
   "cell_type": "markdown",
   "metadata": {
    "id": "8jKfkp5rEjlu"
   },
   "source": [
    "Is this model performing better in the prediction task over the validation set compared to logistic regression?"
   ]
  },
  {
   "cell_type": "markdown",
   "metadata": {
    "id": "c2P6BxRAEME-"
   },
   "source": [
    "##Out-of-sample Validation\n",
    "\n",
    "Finally, let's estimate the prediction error of the best model for new data by using the test set."
   ]
  },
  {
   "cell_type": "code",
   "execution_count": 28,
   "metadata": {
    "colab": {
     "base_uri": "https://localhost:8080/",
     "height": 0
    },
    "id": "Akvw_XBDDuXq",
    "outputId": "a1c0c236-78db-4e41-b189-73c5ca392b40"
   },
   "outputs": [
    {
     "name": "stdout",
     "output_type": "stream",
     "text": [
      "AUC of the model in the test set is:  0.6335200844950271\n"
     ]
    }
   ],
   "source": [
    "# TODO: Assign the correct values to auc_test\n",
    "preds_test = model_dt.predict(X_test)\n",
    "pred_prob_test = model_dt.predict_proba(X_test)[:,1]\n",
    "fpr, tpr, thresholds = metrics.roc_curve(y_test, pred_prob_test, pos_label = 1)\n",
    "auc_test = metrics.auc(fpr, tpr)\n",
    "# END OF TODO\n",
    "\n",
    "print(\"AUC of the model in the test set is: \", auc_test)"
   ]
  },
  {
   "cell_type": "markdown",
   "metadata": {
    "id": "hSErYKEYFlTQ"
   },
   "source": [
    "Apply the following code to draw the ROC curve for the model in the test set."
   ]
  },
  {
   "cell_type": "code",
   "execution_count": 29,
   "metadata": {
    "colab": {
     "base_uri": "https://localhost:8080/",
     "height": 487
    },
    "id": "CJx6kgcvFhJz",
    "outputId": "3b80dc19-844e-4d8f-fa40-96e12f80a6e4"
   },
   "outputs": [
    {
     "data": {
      "image/png": "[encoded data removed]",
      "text/plain": [
       "<Figure size 500x500 with 1 Axes>"
      ]
     },
     "metadata": {},
     "output_type": "display_data"
    }
   ],
   "source": [
    "plt.rcParams['figure.figsize'] = [5, 5]\n",
    "plt.figure()\n",
    "plt.plot(fpr, tpr)\n",
    "plt.xlim([0.0, 1.0])\n",
    "plt.ylim([0.0, 1.0])\n",
    "plt.xlabel('False Positive Rate')\n",
    "plt.ylabel('True Positive Rate')\n",
    "plt.title('ROC Curve')\n",
    "plt.show()"
   ]
  },
  {
   "cell_type": "code",
   "execution_count": null,
   "metadata": {
    "id": "lJghgtSTzHcX"
   },
   "outputs": [],
   "source": []
  }
 ],
 "metadata": {
  "colab": {
   "provenance": []
  },
  "kernelspec": {
   "display_name": "Python 3 (ipykernel)",
   "language": "python",
   "name": "python3"
  },
  "language_info": {
   "codemirror_mode": {
    "name": "ipython",
    "version": 3
   },
   "file_extension": ".py",
   "mimetype": "text/x-python",
   "name": "python",
   "nbconvert_exporter": "python",
   "pygments_lexer": "ipython3",
   "version": "3.11.6"
  }
 },
 "nbformat": 4,
 "nbformat_minor": 4
}
