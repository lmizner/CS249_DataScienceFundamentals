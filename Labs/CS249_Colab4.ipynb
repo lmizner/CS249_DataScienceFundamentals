{
 "cells": [
  {
   "cell_type": "markdown",
   "metadata": {
    "id": "jeAsuXPaMRxn"
   },
   "source": [
    "**Due Date: Monday, February 19th, 11:59pm**\n",
    "\n",
    "- Save a copy of the notebook to your Google Drive. You can do that by going to the menu and clicking `File` > `Save` > `SAVE A COPY IN DRIVE`.\n",
    "- Fill out the missing parts and run the code modules.\n",
    "- Answer the questions (if any) in a separate document or by adding a new `Text` block inside the Colab.\n",
    "- Download the solved notebook by going to the menu and clicking `File` > `Download .ipynb`.\n",
    "- Make sure the downloaded version is showing your solutions.\n",
    "- Upload your solutions to BruinLearn (under \"Colab Assignment #4: Prediction - Regression\")."
   ]
  },
  {
   "cell_type": "code",
   "execution_count": 1,
   "metadata": {
    "id": "Xtu7waVKfby6"
   },
   "outputs": [],
   "source": [
    "import numpy as np\n",
    "import pandas as pd\n",
    "import matplotlib.pyplot as plt\n",
    "\n",
    "np.random.seed(0)"
   ]
  },
  {
   "cell_type": "markdown",
   "metadata": {
    "id": "NlDiG28CTOAF"
   },
   "source": [
    "Download the data for house prices."
   ]
  },
  {
   "cell_type": "code",
   "execution_count": 2,
   "metadata": {
    "colab": {
     "base_uri": "https://localhost:8080/"
    },
    "id": "qItY1pveTMrU",
    "outputId": "60c2c783-2fd1-40ca-cefc-527e5cfbee10"
   },
   "outputs": [
    {
     "name": "stdout",
     "output_type": "stream",
     "text": [
      "--2024-02-15 23:42:27--  https://www.dropbox.com/s/v14nl9kcgqoqn36/house_prices.csv?dl=0\n",
      "Resolving www.dropbox.com (www.dropbox.com)... 162.125.5.18, 2620:100:601d:18::a27d:512\n",
      "Connecting to www.dropbox.com (www.dropbox.com)|162.125.5.18|:443... connected.\n",
      "HTTP request sent, awaiting response... 302 Found\n",
      "Location: /s/raw/v14nl9kcgqoqn36/house_prices.csv [following]\n",
      "--2024-02-15 23:42:28--  https://www.dropbox.com/s/raw/v14nl9kcgqoqn36/house_prices.csv\n",
      "Reusing existing connection to www.dropbox.com:443.\n",
      "HTTP request sent, awaiting response... 302 Found\n",
      "Location: https://uc365e1cb144aff67e940a31bc73.dl.dropboxusercontent.com/cd/0/inline/CNWC1xRovFU6pn7EknIyc46GnOcTbCUGdh-pKvaDUTMgyFsFuBuuE-wOJLno7HJIMGTqe5G3xRoWLyhDRkVwLK_ZG9XXCEX4U4HTcgx1g27ZDjV8W6eUuX1gBvB4SC-nQLc/file# [following]\n",
      "--2024-02-15 23:42:28--  https://uc365e1cb144aff67e940a31bc73.dl.dropboxusercontent.com/cd/0/inline/CNWC1xRovFU6pn7EknIyc46GnOcTbCUGdh-pKvaDUTMgyFsFuBuuE-wOJLno7HJIMGTqe5G3xRoWLyhDRkVwLK_ZG9XXCEX4U4HTcgx1g27ZDjV8W6eUuX1gBvB4SC-nQLc/file\n",
      "Resolving uc365e1cb144aff67e940a31bc73.dl.dropboxusercontent.com (uc365e1cb144aff67e940a31bc73.dl.dropboxusercontent.com)... 162.125.5.15, 2620:100:601d:15::a27d:50f\n",
      "Connecting to uc365e1cb144aff67e940a31bc73.dl.dropboxusercontent.com (uc365e1cb144aff67e940a31bc73.dl.dropboxusercontent.com)|162.125.5.15|:443... connected.\n",
      "HTTP request sent, awaiting response... 200 OK\n",
      "Length: 8666 (8.5K) [text/plain]\n",
      "Saving to: ‘house_prices.csv’\n",
      "\n",
      "house_prices.csv    100%[===================>]   8.46K  --.-KB/s    in 0s      \n",
      "\n",
      "2024-02-15 23:42:29 (150 MB/s) - ‘house_prices.csv’ saved [8666/8666]\n",
      "\n"
     ]
    }
   ],
   "source": [
    "!wget -O house_prices.csv https://www.dropbox.com/s/v14nl9kcgqoqn36/house_prices.csv?dl=0"
   ]
  },
  {
   "cell_type": "markdown",
   "metadata": {
    "id": "bCQ9CZy_IHar"
   },
   "source": [
    "Load the data."
   ]
  },
  {
   "cell_type": "code",
   "execution_count": 3,
   "metadata": {
    "colab": {
     "base_uri": "https://localhost:8080/",
     "height": 159
    },
    "id": "zFyLzLZKH-49",
    "outputId": "e5a66d65-36b5-4b38-c9a7-b2681832f98d"
   },
   "outputs": [
    {
     "name": "stdout",
     "output_type": "stream",
     "text": [
      "The first three rows of the data are:\n"
     ]
    },
    {
     "data": {
      "text/html": [
       "\n",
       "  <div id=\"df-7e3381da-3746-4c56-b994-940cfeea1e45\" class=\"colab-df-container\">\n",
       "    <div>\n",
       "<style scoped>\n",
       "    .dataframe tbody tr th:only-of-type {\n",
       "        vertical-align: middle;\n",
       "    }\n",
       "\n",
       "    .dataframe tbody tr th {\n",
       "        vertical-align: top;\n",
       "    }\n",
       "\n",
       "    .dataframe thead th {\n",
       "        text-align: right;\n",
       "    }\n",
       "</style>\n",
       "<table border=\"1\" class=\"dataframe\">\n",
       "  <thead>\n",
       "    <tr style=\"text-align: right;\">\n",
       "      <th></th>\n",
       "      <th>sqft</th>\n",
       "      <th>age</th>\n",
       "      <th>price</th>\n",
       "    </tr>\n",
       "  </thead>\n",
       "  <tbody>\n",
       "    <tr>\n",
       "      <th>0</th>\n",
       "      <td>1380.0</td>\n",
       "      <td>1.873884</td>\n",
       "      <td>231430.0</td>\n",
       "    </tr>\n",
       "    <tr>\n",
       "      <th>1</th>\n",
       "      <td>2137.0</td>\n",
       "      <td>0.655100</td>\n",
       "      <td>276776.0</td>\n",
       "    </tr>\n",
       "    <tr>\n",
       "      <th>2</th>\n",
       "      <td>1639.0</td>\n",
       "      <td>22.591568</td>\n",
       "      <td>199513.0</td>\n",
       "    </tr>\n",
       "  </tbody>\n",
       "</table>\n",
       "</div>\n",
       "    <div class=\"colab-df-buttons\">\n",
       "\n",
       "  <div class=\"colab-df-container\">\n",
       "    <button class=\"colab-df-convert\" onclick=\"convertToInteractive('df-7e3381da-3746-4c56-b994-940cfeea1e45')\"\n",
       "            title=\"Convert this dataframe to an interactive table.\"\n",
       "            style=\"display:none;\">\n",
       "\n",
       "  <svg xmlns=\"http://www.w3.org/2000/svg\" height=\"24px\" viewBox=\"0 -960 960 960\">\n",
       "    <path d=\"M120-120v-720h720v720H120Zm60-500h600v-160H180v160Zm220 220h160v-160H400v160Zm0 220h160v-160H400v160ZM180-400h160v-160H180v160Zm440 0h160v-160H620v160ZM180-180h160v-160H180v160Zm440 0h160v-160H620v160Z\"/>\n",
       "  </svg>\n",
       "    </button>\n",
       "\n",
       "  <style>\n",
       "    .colab-df-container {\n",
       "      display:flex;\n",
       "      gap: 12px;\n",
       "    }\n",
       "\n",
       "    .colab-df-convert {\n",
       "      background-color: #E8F0FE;\n",
       "      border: none;\n",
       "      border-radius: 50%;\n",
       "      cursor: pointer;\n",
       "      display: none;\n",
       "      fill: #1967D2;\n",
       "      height: 32px;\n",
       "      padding: 0 0 0 0;\n",
       "      width: 32px;\n",
       "    }\n",
       "\n",
       "    .colab-df-convert:hover {\n",
       "      background-color: #E2EBFA;\n",
       "      box-shadow: 0px 1px 2px rgba(60, 64, 67, 0.3), 0px 1px 3px 1px rgba(60, 64, 67, 0.15);\n",
       "      fill: #174EA6;\n",
       "    }\n",
       "\n",
       "    .colab-df-buttons div {\n",
       "      margin-bottom: 4px;\n",
       "    }\n",
       "\n",
       "    [theme=dark] .colab-df-convert {\n",
       "      background-color: #3B4455;\n",
       "      fill: #D2E3FC;\n",
       "    }\n",
       "\n",
       "    [theme=dark] .colab-df-convert:hover {\n",
       "      background-color: #434B5C;\n",
       "      box-shadow: 0px 1px 3px 1px rgba(0, 0, 0, 0.15);\n",
       "      filter: drop-shadow(0px 1px 2px rgba(0, 0, 0, 0.3));\n",
       "      fill: #FFFFFF;\n",
       "    }\n",
       "  </style>\n",
       "\n",
       "    <script>\n",
       "      const buttonEl =\n",
       "        document.querySelector('#df-7e3381da-3746-4c56-b994-940cfeea1e45 button.colab-df-convert');\n",
       "      buttonEl.style.display =\n",
       "        google.colab.kernel.accessAllowed ? 'block' : 'none';\n",
       "\n",
       "      async function convertToInteractive(key) {\n",
       "        const element = document.querySelector('#df-7e3381da-3746-4c56-b994-940cfeea1e45');\n",
       "        const dataTable =\n",
       "          await google.colab.kernel.invokeFunction('convertToInteractive',\n",
       "                                                    [key], {});\n",
       "        if (!dataTable) return;\n",
       "\n",
       "        const docLinkHtml = 'Like what you see? Visit the ' +\n",
       "          '<a target=\"_blank\" href=https://colab.research.google.com/notebooks/data_table.ipynb>data table notebook</a>'\n",
       "          + ' to learn more about interactive tables.';\n",
       "        element.innerHTML = '';\n",
       "        dataTable['output_type'] = 'display_data';\n",
       "        await google.colab.output.renderOutput(dataTable, element);\n",
       "        const docLink = document.createElement('div');\n",
       "        docLink.innerHTML = docLinkHtml;\n",
       "        element.appendChild(docLink);\n",
       "      }\n",
       "    </script>\n",
       "  </div>\n",
       "\n",
       "\n",
       "<div id=\"df-3d063732-4abd-4e81-a3b4-4a6f84144091\">\n",
       "  <button class=\"colab-df-quickchart\" onclick=\"quickchart('df-3d063732-4abd-4e81-a3b4-4a6f84144091')\"\n",
       "            title=\"Suggest charts\"\n",
       "            style=\"display:none;\">\n",
       "\n",
       "<svg xmlns=\"http://www.w3.org/2000/svg\" height=\"24px\"viewBox=\"0 0 24 24\"\n",
       "     width=\"24px\">\n",
       "    <g>\n",
       "        <path d=\"M19 3H5c-1.1 0-2 .9-2 2v14c0 1.1.9 2 2 2h14c1.1 0 2-.9 2-2V5c0-1.1-.9-2-2-2zM9 17H7v-7h2v7zm4 0h-2V7h2v10zm4 0h-2v-4h2v4z\"/>\n",
       "    </g>\n",
       "</svg>\n",
       "  </button>\n",
       "\n",
       "<style>\n",
       "  .colab-df-quickchart {\n",
       "      --bg-color: #E8F0FE;\n",
       "      --fill-color: #1967D2;\n",
       "      --hover-bg-color: #E2EBFA;\n",
       "      --hover-fill-color: #174EA6;\n",
       "      --disabled-fill-color: #AAA;\n",
       "      --disabled-bg-color: #DDD;\n",
       "  }\n",
       "\n",
       "  [theme=dark] .colab-df-quickchart {\n",
       "      --bg-color: #3B4455;\n",
       "      --fill-color: #D2E3FC;\n",
       "      --hover-bg-color: #434B5C;\n",
       "      --hover-fill-color: #FFFFFF;\n",
       "      --disabled-bg-color: #3B4455;\n",
       "      --disabled-fill-color: #666;\n",
       "  }\n",
       "\n",
       "  .colab-df-quickchart {\n",
       "    background-color: var(--bg-color);\n",
       "    border: none;\n",
       "    border-radius: 50%;\n",
       "    cursor: pointer;\n",
       "    display: none;\n",
       "    fill: var(--fill-color);\n",
       "    height: 32px;\n",
       "    padding: 0;\n",
       "    width: 32px;\n",
       "  }\n",
       "\n",
       "  .colab-df-quickchart:hover {\n",
       "    background-color: var(--hover-bg-color);\n",
       "    box-shadow: 0 1px 2px rgba(60, 64, 67, 0.3), 0 1px 3px 1px rgba(60, 64, 67, 0.15);\n",
       "    fill: var(--button-hover-fill-color);\n",
       "  }\n",
       "\n",
       "  .colab-df-quickchart-complete:disabled,\n",
       "  .colab-df-quickchart-complete:disabled:hover {\n",
       "    background-color: var(--disabled-bg-color);\n",
       "    fill: var(--disabled-fill-color);\n",
       "    box-shadow: none;\n",
       "  }\n",
       "\n",
       "  .colab-df-spinner {\n",
       "    border: 2px solid var(--fill-color);\n",
       "    border-color: transparent;\n",
       "    border-bottom-color: var(--fill-color);\n",
       "    animation:\n",
       "      spin 1s steps(1) infinite;\n",
       "  }\n",
       "\n",
       "  @keyframes spin {\n",
       "    0% {\n",
       "      border-color: transparent;\n",
       "      border-bottom-color: var(--fill-color);\n",
       "      border-left-color: var(--fill-color);\n",
       "    }\n",
       "    20% {\n",
       "      border-color: transparent;\n",
       "      border-left-color: var(--fill-color);\n",
       "      border-top-color: var(--fill-color);\n",
       "    }\n",
       "    30% {\n",
       "      border-color: transparent;\n",
       "      border-left-color: var(--fill-color);\n",
       "      border-top-color: var(--fill-color);\n",
       "      border-right-color: var(--fill-color);\n",
       "    }\n",
       "    40% {\n",
       "      border-color: transparent;\n",
       "      border-right-color: var(--fill-color);\n",
       "      border-top-color: var(--fill-color);\n",
       "    }\n",
       "    60% {\n",
       "      border-color: transparent;\n",
       "      border-right-color: var(--fill-color);\n",
       "    }\n",
       "    80% {\n",
       "      border-color: transparent;\n",
       "      border-right-color: var(--fill-color);\n",
       "      border-bottom-color: var(--fill-color);\n",
       "    }\n",
       "    90% {\n",
       "      border-color: transparent;\n",
       "      border-bottom-color: var(--fill-color);\n",
       "    }\n",
       "  }\n",
       "</style>\n",
       "\n",
       "  <script>\n",
       "    async function quickchart(key) {\n",
       "      const quickchartButtonEl =\n",
       "        document.querySelector('#' + key + ' button');\n",
       "      quickchartButtonEl.disabled = true;  // To prevent multiple clicks.\n",
       "      quickchartButtonEl.classList.add('colab-df-spinner');\n",
       "      try {\n",
       "        const charts = await google.colab.kernel.invokeFunction(\n",
       "            'suggestCharts', [key], {});\n",
       "      } catch (error) {\n",
       "        console.error('Error during call to suggestCharts:', error);\n",
       "      }\n",
       "      quickchartButtonEl.classList.remove('colab-df-spinner');\n",
       "      quickchartButtonEl.classList.add('colab-df-quickchart-complete');\n",
       "    }\n",
       "    (() => {\n",
       "      let quickchartButtonEl =\n",
       "        document.querySelector('#df-3d063732-4abd-4e81-a3b4-4a6f84144091 button');\n",
       "      quickchartButtonEl.style.display =\n",
       "        google.colab.kernel.accessAllowed ? 'block' : 'none';\n",
       "    })();\n",
       "  </script>\n",
       "</div>\n",
       "    </div>\n",
       "  </div>\n"
      ],
      "text/plain": [
       "     sqft        age     price\n",
       "0  1380.0   1.873884  231430.0\n",
       "1  2137.0   0.655100  276776.0\n",
       "2  1639.0  22.591568  199513.0"
      ]
     },
     "execution_count": 3,
     "metadata": {},
     "output_type": "execute_result"
    }
   ],
   "source": [
    "prices_data = pd.read_csv(\"house_prices.csv\")\n",
    "prices_data = prices_data.drop(\"house_type\", axis = 1)\n",
    "\n",
    "print(\"The first three rows of the data are:\")\n",
    "prices_data.head(3)"
   ]
  },
  {
   "cell_type": "markdown",
   "metadata": {
    "id": "hOyv6xNpImpY"
   },
   "source": [
    "Add a number of additional features to the dataset."
   ]
  },
  {
   "cell_type": "code",
   "execution_count": 4,
   "metadata": {
    "colab": {
     "base_uri": "https://localhost:8080/",
     "height": 159
    },
    "id": "5ojER3pnI2KI",
    "outputId": "f750eeb3-6e79-4fcc-aedc-145bdc79cbae"
   },
   "outputs": [
    {
     "name": "stdout",
     "output_type": "stream",
     "text": [
      "The first three rows of the updated dataset are:\n"
     ]
    },
    {
     "data": {
      "text/html": [
       "\n",
       "  <div id=\"df-78e18eec-c672-4d70-bbb9-7b8311d277b5\" class=\"colab-df-container\">\n",
       "    <div>\n",
       "<style scoped>\n",
       "    .dataframe tbody tr th:only-of-type {\n",
       "        vertical-align: middle;\n",
       "    }\n",
       "\n",
       "    .dataframe tbody tr th {\n",
       "        vertical-align: top;\n",
       "    }\n",
       "\n",
       "    .dataframe thead th {\n",
       "        text-align: right;\n",
       "    }\n",
       "</style>\n",
       "<table border=\"1\" class=\"dataframe\">\n",
       "  <thead>\n",
       "    <tr style=\"text-align: right;\">\n",
       "      <th></th>\n",
       "      <th>sqft</th>\n",
       "      <th>age</th>\n",
       "      <th>price</th>\n",
       "      <th>age_sqr</th>\n",
       "      <th>age_cub</th>\n",
       "      <th>age_log</th>\n",
       "      <th>age_sqrt</th>\n",
       "      <th>sqft_sqr</th>\n",
       "      <th>sqft_cub</th>\n",
       "      <th>sqft_log</th>\n",
       "      <th>sqft_sqrt</th>\n",
       "      <th>sqft_x_age</th>\n",
       "    </tr>\n",
       "  </thead>\n",
       "  <tbody>\n",
       "    <tr>\n",
       "      <th>0</th>\n",
       "      <td>1380.0</td>\n",
       "      <td>1.873884</td>\n",
       "      <td>231430.0</td>\n",
       "      <td>3.511440</td>\n",
       "      <td>6.580029</td>\n",
       "      <td>0.628013</td>\n",
       "      <td>1.368899</td>\n",
       "      <td>1904400.0</td>\n",
       "      <td>2.628072e+09</td>\n",
       "      <td>7.229839</td>\n",
       "      <td>37.148351</td>\n",
       "      <td>2585.959380</td>\n",
       "    </tr>\n",
       "    <tr>\n",
       "      <th>1</th>\n",
       "      <td>2137.0</td>\n",
       "      <td>0.655100</td>\n",
       "      <td>276776.0</td>\n",
       "      <td>0.429156</td>\n",
       "      <td>0.281140</td>\n",
       "      <td>-0.422967</td>\n",
       "      <td>0.809383</td>\n",
       "      <td>4566769.0</td>\n",
       "      <td>9.759185e+09</td>\n",
       "      <td>7.667158</td>\n",
       "      <td>46.227697</td>\n",
       "      <td>1399.949311</td>\n",
       "    </tr>\n",
       "    <tr>\n",
       "      <th>2</th>\n",
       "      <td>1639.0</td>\n",
       "      <td>22.591568</td>\n",
       "      <td>199513.0</td>\n",
       "      <td>510.378927</td>\n",
       "      <td>11530.260041</td>\n",
       "      <td>3.117577</td>\n",
       "      <td>4.753059</td>\n",
       "      <td>2686321.0</td>\n",
       "      <td>4.402880e+09</td>\n",
       "      <td>7.401842</td>\n",
       "      <td>40.484565</td>\n",
       "      <td>37027.579316</td>\n",
       "    </tr>\n",
       "  </tbody>\n",
       "</table>\n",
       "</div>\n",
       "    <div class=\"colab-df-buttons\">\n",
       "\n",
       "  <div class=\"colab-df-container\">\n",
       "    <button class=\"colab-df-convert\" onclick=\"convertToInteractive('df-78e18eec-c672-4d70-bbb9-7b8311d277b5')\"\n",
       "            title=\"Convert this dataframe to an interactive table.\"\n",
       "            style=\"display:none;\">\n",
       "\n",
       "  <svg xmlns=\"http://www.w3.org/2000/svg\" height=\"24px\" viewBox=\"0 -960 960 960\">\n",
       "    <path d=\"M120-120v-720h720v720H120Zm60-500h600v-160H180v160Zm220 220h160v-160H400v160Zm0 220h160v-160H400v160ZM180-400h160v-160H180v160Zm440 0h160v-160H620v160ZM180-180h160v-160H180v160Zm440 0h160v-160H620v160Z\"/>\n",
       "  </svg>\n",
       "    </button>\n",
       "\n",
       "  <style>\n",
       "    .colab-df-container {\n",
       "      display:flex;\n",
       "      gap: 12px;\n",
       "    }\n",
       "\n",
       "    .colab-df-convert {\n",
       "      background-color: #E8F0FE;\n",
       "      border: none;\n",
       "      border-radius: 50%;\n",
       "      cursor: pointer;\n",
       "      display: none;\n",
       "      fill: #1967D2;\n",
       "      height: 32px;\n",
       "      padding: 0 0 0 0;\n",
       "      width: 32px;\n",
       "    }\n",
       "\n",
       "    .colab-df-convert:hover {\n",
       "      background-color: #E2EBFA;\n",
       "      box-shadow: 0px 1px 2px rgba(60, 64, 67, 0.3), 0px 1px 3px 1px rgba(60, 64, 67, 0.15);\n",
       "      fill: #174EA6;\n",
       "    }\n",
       "\n",
       "    .colab-df-buttons div {\n",
       "      margin-bottom: 4px;\n",
       "    }\n",
       "\n",
       "    [theme=dark] .colab-df-convert {\n",
       "      background-color: #3B4455;\n",
       "      fill: #D2E3FC;\n",
       "    }\n",
       "\n",
       "    [theme=dark] .colab-df-convert:hover {\n",
       "      background-color: #434B5C;\n",
       "      box-shadow: 0px 1px 3px 1px rgba(0, 0, 0, 0.15);\n",
       "      filter: drop-shadow(0px 1px 2px rgba(0, 0, 0, 0.3));\n",
       "      fill: #FFFFFF;\n",
       "    }\n",
       "  </style>\n",
       "\n",
       "    <script>\n",
       "      const buttonEl =\n",
       "        document.querySelector('#df-78e18eec-c672-4d70-bbb9-7b8311d277b5 button.colab-df-convert');\n",
       "      buttonEl.style.display =\n",
       "        google.colab.kernel.accessAllowed ? 'block' : 'none';\n",
       "\n",
       "      async function convertToInteractive(key) {\n",
       "        const element = document.querySelector('#df-78e18eec-c672-4d70-bbb9-7b8311d277b5');\n",
       "        const dataTable =\n",
       "          await google.colab.kernel.invokeFunction('convertToInteractive',\n",
       "                                                    [key], {});\n",
       "        if (!dataTable) return;\n",
       "\n",
       "        const docLinkHtml = 'Like what you see? Visit the ' +\n",
       "          '<a target=\"_blank\" href=https://colab.research.google.com/notebooks/data_table.ipynb>data table notebook</a>'\n",
       "          + ' to learn more about interactive tables.';\n",
       "        element.innerHTML = '';\n",
       "        dataTable['output_type'] = 'display_data';\n",
       "        await google.colab.output.renderOutput(dataTable, element);\n",
       "        const docLink = document.createElement('div');\n",
       "        docLink.innerHTML = docLinkHtml;\n",
       "        element.appendChild(docLink);\n",
       "      }\n",
       "    </script>\n",
       "  </div>\n",
       "\n",
       "\n",
       "<div id=\"df-b57ba821-4346-4597-ae8b-a3da18cbdbdd\">\n",
       "  <button class=\"colab-df-quickchart\" onclick=\"quickchart('df-b57ba821-4346-4597-ae8b-a3da18cbdbdd')\"\n",
       "            title=\"Suggest charts\"\n",
       "            style=\"display:none;\">\n",
       "\n",
       "<svg xmlns=\"http://www.w3.org/2000/svg\" height=\"24px\"viewBox=\"0 0 24 24\"\n",
       "     width=\"24px\">\n",
       "    <g>\n",
       "        <path d=\"M19 3H5c-1.1 0-2 .9-2 2v14c0 1.1.9 2 2 2h14c1.1 0 2-.9 2-2V5c0-1.1-.9-2-2-2zM9 17H7v-7h2v7zm4 0h-2V7h2v10zm4 0h-2v-4h2v4z\"/>\n",
       "    </g>\n",
       "</svg>\n",
       "  </button>\n",
       "\n",
       "<style>\n",
       "  .colab-df-quickchart {\n",
       "      --bg-color: #E8F0FE;\n",
       "      --fill-color: #1967D2;\n",
       "      --hover-bg-color: #E2EBFA;\n",
       "      --hover-fill-color: #174EA6;\n",
       "      --disabled-fill-color: #AAA;\n",
       "      --disabled-bg-color: #DDD;\n",
       "  }\n",
       "\n",
       "  [theme=dark] .colab-df-quickchart {\n",
       "      --bg-color: #3B4455;\n",
       "      --fill-color: #D2E3FC;\n",
       "      --hover-bg-color: #434B5C;\n",
       "      --hover-fill-color: #FFFFFF;\n",
       "      --disabled-bg-color: #3B4455;\n",
       "      --disabled-fill-color: #666;\n",
       "  }\n",
       "\n",
       "  .colab-df-quickchart {\n",
       "    background-color: var(--bg-color);\n",
       "    border: none;\n",
       "    border-radius: 50%;\n",
       "    cursor: pointer;\n",
       "    display: none;\n",
       "    fill: var(--fill-color);\n",
       "    height: 32px;\n",
       "    padding: 0;\n",
       "    width: 32px;\n",
       "  }\n",
       "\n",
       "  .colab-df-quickchart:hover {\n",
       "    background-color: var(--hover-bg-color);\n",
       "    box-shadow: 0 1px 2px rgba(60, 64, 67, 0.3), 0 1px 3px 1px rgba(60, 64, 67, 0.15);\n",
       "    fill: var(--button-hover-fill-color);\n",
       "  }\n",
       "\n",
       "  .colab-df-quickchart-complete:disabled,\n",
       "  .colab-df-quickchart-complete:disabled:hover {\n",
       "    background-color: var(--disabled-bg-color);\n",
       "    fill: var(--disabled-fill-color);\n",
       "    box-shadow: none;\n",
       "  }\n",
       "\n",
       "  .colab-df-spinner {\n",
       "    border: 2px solid var(--fill-color);\n",
       "    border-color: transparent;\n",
       "    border-bottom-color: var(--fill-color);\n",
       "    animation:\n",
       "      spin 1s steps(1) infinite;\n",
       "  }\n",
       "\n",
       "  @keyframes spin {\n",
       "    0% {\n",
       "      border-color: transparent;\n",
       "      border-bottom-color: var(--fill-color);\n",
       "      border-left-color: var(--fill-color);\n",
       "    }\n",
       "    20% {\n",
       "      border-color: transparent;\n",
       "      border-left-color: var(--fill-color);\n",
       "      border-top-color: var(--fill-color);\n",
       "    }\n",
       "    30% {\n",
       "      border-color: transparent;\n",
       "      border-left-color: var(--fill-color);\n",
       "      border-top-color: var(--fill-color);\n",
       "      border-right-color: var(--fill-color);\n",
       "    }\n",
       "    40% {\n",
       "      border-color: transparent;\n",
       "      border-right-color: var(--fill-color);\n",
       "      border-top-color: var(--fill-color);\n",
       "    }\n",
       "    60% {\n",
       "      border-color: transparent;\n",
       "      border-right-color: var(--fill-color);\n",
       "    }\n",
       "    80% {\n",
       "      border-color: transparent;\n",
       "      border-right-color: var(--fill-color);\n",
       "      border-bottom-color: var(--fill-color);\n",
       "    }\n",
       "    90% {\n",
       "      border-color: transparent;\n",
       "      border-bottom-color: var(--fill-color);\n",
       "    }\n",
       "  }\n",
       "</style>\n",
       "\n",
       "  <script>\n",
       "    async function quickchart(key) {\n",
       "      const quickchartButtonEl =\n",
       "        document.querySelector('#' + key + ' button');\n",
       "      quickchartButtonEl.disabled = true;  // To prevent multiple clicks.\n",
       "      quickchartButtonEl.classList.add('colab-df-spinner');\n",
       "      try {\n",
       "        const charts = await google.colab.kernel.invokeFunction(\n",
       "            'suggestCharts', [key], {});\n",
       "      } catch (error) {\n",
       "        console.error('Error during call to suggestCharts:', error);\n",
       "      }\n",
       "      quickchartButtonEl.classList.remove('colab-df-spinner');\n",
       "      quickchartButtonEl.classList.add('colab-df-quickchart-complete');\n",
       "    }\n",
       "    (() => {\n",
       "      let quickchartButtonEl =\n",
       "        document.querySelector('#df-b57ba821-4346-4597-ae8b-a3da18cbdbdd button');\n",
       "      quickchartButtonEl.style.display =\n",
       "        google.colab.kernel.accessAllowed ? 'block' : 'none';\n",
       "    })();\n",
       "  </script>\n",
       "</div>\n",
       "    </div>\n",
       "  </div>\n"
      ],
      "text/plain": [
       "     sqft        age     price     age_sqr       age_cub   age_log  age_sqrt  \\\n",
       "0  1380.0   1.873884  231430.0    3.511440      6.580029  0.628013  1.368899   \n",
       "1  2137.0   0.655100  276776.0    0.429156      0.281140 -0.422967  0.809383   \n",
       "2  1639.0  22.591568  199513.0  510.378927  11530.260041  3.117577  4.753059   \n",
       "\n",
       "    sqft_sqr      sqft_cub  sqft_log  sqft_sqrt    sqft_x_age  \n",
       "0  1904400.0  2.628072e+09  7.229839  37.148351   2585.959380  \n",
       "1  4566769.0  9.759185e+09  7.667158  46.227697   1399.949311  \n",
       "2  2686321.0  4.402880e+09  7.401842  40.484565  37027.579316  "
      ]
     },
     "execution_count": 4,
     "metadata": {},
     "output_type": "execute_result"
    }
   ],
   "source": [
    "prices_data = prices_data.assign(\n",
    "    age_sqr = prices_data.age**2,\n",
    "    age_cub = prices_data.age**3,\n",
    "    age_log = np.log(prices_data.age),\n",
    "    age_sqrt = np.sqrt(prices_data.age),\n",
    "    sqft_sqr = prices_data.sqft**2,\n",
    "    sqft_cub = prices_data.sqft**3,\n",
    "    sqft_log = np.log(prices_data.sqft),\n",
    "    sqft_sqrt = np.sqrt(prices_data.sqft),\n",
    "    sqft_x_age = prices_data.sqft * prices_data.age\n",
    ")\n",
    "\n",
    "print(\"The first three rows of the updated dataset are:\")\n",
    "prices_data.head(3)"
   ]
  },
  {
   "cell_type": "markdown",
   "metadata": {
    "id": "GxG3BKleJr3t"
   },
   "source": [
    "Separate features and labels into two different variables."
   ]
  },
  {
   "cell_type": "code",
   "execution_count": 5,
   "metadata": {
    "id": "EJnQwd5YILLU"
   },
   "outputs": [],
   "source": [
    "X = prices_data.drop(\"price\", axis=1)\n",
    "y = prices_data.price"
   ]
  },
  {
   "cell_type": "markdown",
   "metadata": {
    "id": "D3v3LhCWKdIN"
   },
   "source": [
    "Divide the data into train/test datasets using a 70/30 split."
   ]
  },
  {
   "cell_type": "code",
   "execution_count": 6,
   "metadata": {
    "colab": {
     "base_uri": "https://localhost:8080/"
    },
    "id": "TtR1dEJtKb3D",
    "outputId": "96c8ee10-84d4-4dba-c65a-8cf032d74e30"
   },
   "outputs": [
    {
     "name": "stdout",
     "output_type": "stream",
     "text": [
      "shape of X_train is:  (140, 11)\n",
      "shape of X_test is:  (60, 11)\n"
     ]
    }
   ],
   "source": [
    "# TODO: Assign the right values to X_train, X_test, y_train and y_test\n",
    "from sklearn.model_selection import train_test_split\n",
    "\n",
    "X_train, X_test, y_train, y_test = train_test_split(X, y, test_size = 0.3, shuffle = True, random_state = 0)\n",
    "\n",
    "\n",
    "print(\"shape of X_train is: \", X_train.shape)\n",
    "print(\"shape of X_test is: \", X_test.shape)"
   ]
  },
  {
   "cell_type": "markdown",
   "metadata": {
    "id": "8gboLlvfMd9D"
   },
   "source": [
    "##Linear Regression for Prediction"
   ]
  },
  {
   "cell_type": "markdown",
   "metadata": {
    "id": "I7NfOgKhMa8S"
   },
   "source": [
    "Fit a linear regression model to the train data, and compute the RMSE of the fitted model in the training data and the test data."
   ]
  },
  {
   "cell_type": "code",
   "execution_count": 8,
   "metadata": {
    "colab": {
     "base_uri": "https://localhost:8080/"
    },
    "id": "r6Wb8Wz8K6V3",
    "outputId": "a40527b6-9969-4396-af27-fc096df59214"
   },
   "outputs": [
    {
     "name": "stdout",
     "output_type": "stream",
     "text": [
      "Train RMSE of the linear regression model is:  48371.8335822685\n",
      "Test RMSE of the linear regression model is:  53626.35772950375\n"
     ]
    }
   ],
   "source": [
    "# TODO: Compute rmse_train and rmse_test\n",
    "from sklearn.linear_model import LinearRegression\n",
    "\n",
    "model = LinearRegression()\n",
    "\n",
    "# Fit for training data\n",
    "model.fit(X_train, y_train)\n",
    "preds_train = model.predict(X_train)\n",
    "\n",
    "# Fit for test data\n",
    "model.fit(X_test, y_test)\n",
    "preds_test = model.predict(X_test)\n",
    "\n",
    "rmse_train = np.sqrt(np.mean((preds_train - y_train)**2))\n",
    "rmse_test = np.sqrt(np.mean((preds_test - y_test)**2))\n",
    "# END OF TODO\n",
    "\n",
    "print(\"Train RMSE of the linear regression model is: \", rmse_train)\n",
    "print(\"Test RMSE of the linear regression model is: \", rmse_test)"
   ]
  },
  {
   "cell_type": "markdown",
   "metadata": {
    "id": "eP_dEicwOWE9"
   },
   "source": [
    "Based on the train and test RMSE's, do you see any overfitting in the model?\n",
    "\n",
    "Yes, because the RMSE of the test data is greater than the RMSE of the train data which indicated overfitting."
   ]
  },
  {
   "cell_type": "markdown",
   "metadata": {
    "id": "KsQt_wIkNgkW"
   },
   "source": [
    "##$k$-Nearest Neighbors"
   ]
  },
  {
   "cell_type": "markdown",
   "metadata": {
    "id": "_Htg7hv9NpXj"
   },
   "source": [
    "Fit a KNN model to the train data, and compute the RMSE of the fitted model in the training data and the test data. Use $k = 5$."
   ]
  },
  {
   "cell_type": "code",
   "execution_count": 13,
   "metadata": {
    "colab": {
     "base_uri": "https://localhost:8080/"
    },
    "id": "T336KfJRLusr",
    "outputId": "2df87592-3cb7-4deb-9bfc-aff24aec604b"
   },
   "outputs": [
    {
     "name": "stdout",
     "output_type": "stream",
     "text": [
      "Train RMSE of the KNN model is:  49904.32879909604\n",
      "Test RMSE of the KNN regression model is:  53832.4957459897\n"
     ]
    }
   ],
   "source": [
    "# TODO: Compute rmse_train and rmse_test\n",
    "from sklearn.neighbors import KNeighborsRegressor\n",
    "\n",
    "model = KNeighborsRegressor(n_neighbors = 5)\n",
    "\n",
    "# Fit for training data\n",
    "model.fit(X_train, y_train)\n",
    "preds_train = model.predict(X_train)\n",
    "\n",
    "# Fit for test data\n",
    "model.fit(X_test, y_test)\n",
    "preds_test = model.predict(X_test)\n",
    "\n",
    "rmse_train = np.sqrt(np.mean((preds_train - y_train)**2))\n",
    "rmse_test = np.sqrt(np.mean((preds_test - y_test)**2))\n",
    "# END OF TODO\n",
    "\n",
    "print(\"Train RMSE of the KNN model is: \", rmse_train)\n",
    "print(\"Test RMSE of the KNN regression model is: \", rmse_test)"
   ]
  },
  {
   "cell_type": "markdown",
   "metadata": {
    "id": "Dm3ZwuRTOcVV"
   },
   "source": [
    "Based on train and test RMSE's, do you see any overffiting in the model?\n",
    "\n",
    "Yes, because the RMSE of the test data is greater than the RMSE of the train data which indicated overfitting.\n",
    "\n",
    "\n",
    "Between this model and the linear regression model in the previous part, which one do you choose for predicting house prices?\n",
    "\n",
    "Choose this model because there is less overfitting than we saw in the previous linear regression model.\n",
    "\n"
   ]
  },
  {
   "cell_type": "markdown",
   "metadata": {
    "id": "zBM76x4bRoBW"
   },
   "source": [
    "##Regularization"
   ]
  },
  {
   "cell_type": "markdown",
   "metadata": {
    "id": "8apIagh2R9a8"
   },
   "source": [
    "As we said in the lecture, regularization is one of the methods we can use to alleviate overfitting in our model.\n",
    "Let's apply regularization to our linear regression model. For this part, we are going to use the L-2 regularized linear regression.\n",
    "\n",
    "Note: Before applying regularization, we need to normalize the features in our data. As we said in the lecture, L-2 regularization introduces a new term into our objective function, $\\lambda \\sum \\beta_i^2$. If one of the coefficients, $\\beta_j$, is much larger compared to the other coefficients then the regularization term is primarily dominated by the value of that coefficient. Normalizing features helps us to avoid problems like that. We can achieve that by using `normalize=True` as the parameter in `Ridge`.\n",
    "\n",
    "For different values of the regularization hyperparameter, fit a ridge regression to the train data, and compute the RMSE of the fitted model in the training data and the test data."
   ]
  },
  {
   "cell_type": "code",
   "execution_count": 47,
   "metadata": {
    "colab": {
     "base_uri": "https://localhost:8080/"
    },
    "id": "mU4kKE2pR8Vw",
    "outputId": "27fd9ef6-c81d-449f-e2bd-6af5fd67f49a"
   },
   "outputs": [
    {
     "name": "stdout",
     "output_type": "stream",
     "text": [
      "[48624.46684133648, 48626.90740835717, 48629.849737553785, 48633.43111803689, 48637.80030907365, 48643.11229608414, 48649.52016775883, 48657.16419279147, 48666.15875117814, 48676.57844338662, 48688.445299199964, 48701.71932840391, 48716.294511103704, 48732.0016392871, 48748.61828744046, 48765.884872297254, 48783.52460979997, 48801.264501167025, 48818.85443091605, 48836.08199540237, 48852.78159903431, 48868.837397470044, 48884.18060510732, 48898.78238037954, 48912.643907130696, 48925.78541572431, 48938.23577011347, 48950.023930995674, 48961.173142338965, 48971.698149176365, 48981.60522830733, 48990.89439513272, 48999.56291174733, 49007.60918944615, 49015.036324739776, 49021.85476318143, 49028.08386789633, 49033.752411418645, 49038.89817162451, 49043.56688821414, 49047.81084178383, 49051.68728079213, 49055.256870896614, 49058.58229766349, 49061.727128605206, 49064.75503369412, 49067.729464638476, 49070.71388506692, 49073.77260758723, 49076.9722163315, 49080.383434752504, 49084.08315506865, 49088.156211533, 49092.696398698376, 49097.806252051276, 49103.59525330158, 49110.17640279033, 49117.66148744152, 49126.155792516955, 49135.753349442755, 49146.53395560122, 49158.56304808923, 49171.895042252654, 49186.58004822926, 49202.67314820473, 49220.24489156715, 49239.39153811914, 49260.24391887826, 49282.97449653218, 49307.803064286185, 49335.0022305736, 49364.90413101185, 49397.90951823541, 49434.49947104481, 49475.248548672695, 49520.8365473254, 49572.05448117284, 49629.79950697702, 49695.05378703824, 49768.844199150066, 49852.18352228102, 49945.99890062147, 50051.05900186857, 50167.91573350572, 50296.877845012285, 50438.03082975893, 50591.30994936147, 50756.62209841593, 50934.00002739924, 51123.762069467506, 51326.644462232885, 51543.87302645151, 51777.14660480699, 52028.51571472844, 52300.155336370975, 52594.049212217215, 52911.622196352895, 53253.37350606263, 53618.572604009336, 54005.07654308143]\n",
      "[54538.44995026956, 54545.04771088716, 54552.96243763672, 54562.44040515089, 54573.71733700573, 54587.001004332, 54602.45125710098, 54620.15960230035, 54640.131200845295, 54662.272502476975, 54686.387443220025, 54712.18410700873, 54739.292138967714, 54767.289356236615, 54795.7344156972, 54824.2014890495, 54852.31287072501, 54879.766219702164, 54906.35439746451, 54931.97720229664, 54956.64536138825, 54980.47772848643, 55003.69272792982, 55026.59481630197, 55049.556320957745, 55072.99470872441, 55097.34535711244, 55123.03037843763, 55150.424978751165, 55179.82403319775, 55211.41266604567, 55245.24517699025, 55281.236250942915, 55319.16686519138, 55358.70487914685, 55399.43753524145, 55440.91077671459, 55482.66906772365, 55524.28961346504, 55565.406415119556, 55605.72198657941, 55645.007164066184, 55683.09164346847, 55719.84924792361, 55755.18226961449, 55789.0086057027, 55821.2540905425, 55851.85081932009, 55880.74078970109, 55907.88319191797, 55933.26330941434, 55956.90120903721, 55978.85901135544, 55999.24629106623, 56018.22385035259, 56036.006605821356, 56052.86659613422, 56069.13718097585, 56085.21941310268, 56101.59135876399, 56118.82081532802, 56137.58138774818, 56158.67117790258, 56183.03236959992, 56211.76877401151, 56246.15705394618, 56287.64611864321, 56337.83845305543, 56398.44739156639, 56471.22604711126, 56557.86710081629, 56659.87793681507, 56778.44211105757, 56914.28464215451, 57067.563309787285, 57237.80908838194, 57423.93460617785, 57624.31994574124, 57836.971725156516, 58059.737224501296, 58290.54392241724, 58527.62908911539, 58769.725306876695, 59016.175308138365, 59266.96125849234, 59522.64692678124, 59784.24362874424, 60053.020530342386, 60330.285625992874, 60617.16490614187, 60914.404131861425, 61222.211401017834, 61540.15125386242, 61867.09450796928, 62201.223657910734, 62540.091441716395, 62880.72870488279, 63219.79530033416, 63553.76365358611, 63879.119550003415]\n"
     ]
    }
   ],
   "source": [
    "from sklearn.linear_model import Ridge\n",
    "from sklearn.preprocessing import StandardScaler\n",
    "\n",
    "rmses_train = []\n",
    "rmses_test = []\n",
    "lambdas = np.logspace(-4, 3, 100)\n",
    "\n",
    "# Normalize features\n",
    "scaler = StandardScaler()\n",
    "X_train_scaled = scaler.fit_transform(X_train)\n",
    "X_test_scaled = scaler.transform(X_test)\n",
    "\n",
    "for l in lambdas:\n",
    "  # TODO: Compute rmse_train and rmse_test for ridge regression\n",
    "  #       Use l as the regularization parameter\n",
    "  model = Ridge(alpha = l)\n",
    "\n",
    "  # Fit for training data\n",
    "  model.fit(X_train_scaled, y_train)\n",
    "  preds_train = model.predict(X_train_scaled)\n",
    "\n",
    "  # Fit for test data\n",
    "  model.fit(X_test_scaled, y_test)\n",
    "  preds_test = model.predict(X_test_scaled)\n",
    "\n",
    "  rmse_train = np.sqrt(np.mean((preds_train - y_train)**2))\n",
    "  rmse_test = np.sqrt(np.mean((preds_test - y_test)**2))\n",
    "  # END OF TODO\n",
    "\n",
    "  rmses_train.append(rmse_train)\n",
    "  rmses_test.append(rmse_test)\n",
    "\n",
    "print(rmses_train)\n",
    "\n",
    "\n",
    "print(rmses_test)\n",
    "\n"
   ]
  },
  {
   "cell_type": "markdown",
   "metadata": {
    "id": "c88uAmcrWMcb"
   },
   "source": [
    "Draw the train and test RMSE for different values of the regularization hyperparameter."
   ]
  },
  {
   "cell_type": "code",
   "execution_count": 42,
   "metadata": {
    "colab": {
     "base_uri": "https://localhost:8080/",
     "height": 377
    },
    "id": "ufUsntTuZKqY",
    "outputId": "321fad9b-10f8-4888-dc29-fcbb73b6bc08"
   },
   "outputs": [
    {
     "data": {
      "image/png": "[encoded data removed]",
      "text/plain": [
       "<Figure size 1800x400 with 2 Axes>"
      ]
     },
     "metadata": {},
     "output_type": "display_data"
    }
   ],
   "source": [
    "plt.figure(figsize=(18, 4))\n",
    "\n",
    "plt.subplot(121)\n",
    "ax = plt.gca()\n",
    "ax.plot(lambdas, rmses_train)\n",
    "ax.set_xscale(\"log\")\n",
    "plt.xlabel(\"lambda\")\n",
    "plt.ylabel(\"RMSE\")\n",
    "plt.title(\"Training set\")\n",
    "plt.axis(\"tight\")\n",
    "\n",
    "plt.subplot(122)\n",
    "ax = plt.gca()\n",
    "ax.plot(lambdas, rmses_test)\n",
    "ax.set_xscale(\"log\")\n",
    "plt.xlabel(\"lambda\")\n",
    "plt.ylabel(\"RMSE\")\n",
    "plt.title(\"Test set\")\n",
    "plt.axis(\"tight\")\n",
    "\n",
    "plt.show()"
   ]
  },
  {
   "cell_type": "markdown",
   "metadata": {
    "id": "-gDAiesvVzfM"
   },
   "source": [
    "- How does the test RMSE of the best ridge regression model compares to the linear regression model? What about the KNN model?\n",
    "\n",
    "We see larger values for the test RMSE of the ridge regression than we did for either the test RMSE of the linear regression model or the test RMSE of the KNN model.\n",
    "\n",
    "- Did regularization help with overfitting in the linear regression model?\n",
    "Yes, regularization helps mitigate overfitting in linear regression models by limiting the size of the coefficients and controlling the complexity of the mdoel.\n",
    "\n",
    "\n",
    "- Based on error in train and test sets, does the best ridge regression model show any overfitting?\n",
    "\n",
    "Yes, because the RMSE of the test data is greater than the RMSE of the train data which indicated overfitting.\n",
    "\n",
    "\n",
    "- Is the error of the best ridge regression model a good estimate for its generalization error?\n",
    "\n",
    "Yes, the error of the best ridge regression model would provide us a reasonable estimate for the generalization error."
   ]
  }
 ],
 "metadata": {
  "colab": {
   "provenance": []
  },
  "kernelspec": {
   "display_name": "Python 3 (ipykernel)",
   "language": "python",
   "name": "python3"
  },
  "language_info": {
   "codemirror_mode": {
    "name": "ipython",
    "version": 3
   },
   "file_extension": ".py",
   "mimetype": "text/x-python",
   "name": "python",
   "nbconvert_exporter": "python",
   "pygments_lexer": "ipython3",
   "version": "3.11.6"
  }
 },
 "nbformat": 4,
 "nbformat_minor": 4
}
